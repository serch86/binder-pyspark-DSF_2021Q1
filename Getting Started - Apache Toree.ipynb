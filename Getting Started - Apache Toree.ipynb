{
 "cells": [
  {
   "cell_type": "markdown",
   "metadata": {},
   "source": [
    "# Getting Started - Apache Toree Kernel\n",
    "\n",
    "An [Apache Toree](https://toree.apache.org/) kernel is available in this build.\n",
    "\n",
    "Demo based on: https://github.com/Lull3rSkat3r/apache-toree-demos/blob/master/work/1-intro.ipynb"
   ]
  },
  {
   "cell_type": "code",
   "execution_count": 7,
   "metadata": {},
   "outputs": [
    {
     "data": {
      "text/plain": [
       "numbersRDD = ParallelCollectionRDD[3] at parallelize at <console>:30\n"
      ]
     },
     "metadata": {},
     "output_type": "display_data"
    },
    {
     "data": {
      "text/plain": [
       "Array(1, 2, 3, 4, 5, 6, 7, 8, 9, 10, 11, 12, 13, 14, 15, 16, 17, 18, 19, 20, 21, 22, 23, 24, 25, 26, 27, 28, 29, 30, 31, 32, 33, 34, 35, 36, 37, 38, 39, 40, 41, 42, 43, 44, 45, 46, 47, 48, 49, 50)"
      ]
     },
     "execution_count": 7,
     "metadata": {},
     "output_type": "execute_result"
    }
   ],
   "source": [
    "// We create a Spark RDD of the numbers 1 to 50\n",
    "val numbersRDD = sc.parallelize(1 to 50)\n",
    "numbersRDD.collect()"
   ]
  },
  {
   "cell_type": "code",
   "execution_count": 8,
   "metadata": {},
   "outputs": [
    {
     "data": {
      "text/plain": [
       "mappedNumbersRDD = MapPartitionsRDD[4] at map at <console>:30\n"
      ]
     },
     "metadata": {},
     "output_type": "display_data"
    },
    {
     "data": {
      "text/plain": [
       "Array((1,false), (2,true), (3,false), (4,true), (5,false), (6,true), (7,false), (8,true), (9,false), (10,true), (11,false), (12,true), (13,false), (14,true), (15,false), (16,true), (17,false), (18,true), (19,false), (20,true), (21,false), (22,true), (23,false), (24,true), (25,false), (26,true), (27,false), (28,true), (29,false), (30,true), (31,false), (32,true), (33,false), (34,true), (35,false), (36,true), (37,false), (38,true), (39,false), (40,true), (41,false), (42,true), (43,false), (44,true), (45,false), (46,true), (47,false), (48,true), (49,false), (50,true))"
      ]
     },
     "execution_count": 8,
     "metadata": {},
     "output_type": "execute_result"
    }
   ],
   "source": [
    "// We map the numbers to be a tuple of the number and a boolean stating if it is divisble by two\n",
    "val mappedNumbersRDD = numbersRDD.map((num: Int) => {\n",
    "    (num, num % 2 == 0)\n",
    "})\n",
    "mappedNumbersRDD.collect()"
   ]
  },
  {
   "cell_type": "code",
   "execution_count": 9,
   "metadata": {},
   "outputs": [
    {
     "data": {
      "text/plain": [
       "evenNumbersRDD = MapPartitionsRDD[5] at filter at <console>:28\n"
      ]
     },
     "metadata": {},
     "output_type": "display_data"
    },
    {
     "data": {
      "text/plain": [
       "MapPartitionsRDD[5] at filter at <console>:28"
      ]
     },
     "execution_count": 9,
     "metadata": {},
     "output_type": "execute_result"
    }
   ],
   "source": [
    "// We filter the RDD to get only the even numbers\n",
    "val evenNumbersRDD = mappedNumbersRDD.filter((tuple: (Int, Boolean)) => {\n",
    "    tuple._2\n",
    "})"
   ]
  },
  {
   "cell_type": "code",
   "execution_count": 10,
   "metadata": {},
   "outputs": [
    {
     "name": "stdout",
     "output_type": "stream",
     "text": [
      "2 is an even number\n",
      "4 is an even number\n",
      "6 is an even number\n",
      "8 is an even number\n",
      "10 is an even number\n",
      "12 is an even number\n",
      "14 is an even number\n",
      "16 is an even number\n",
      "18 is an even number\n",
      "20 is an even number\n",
      "22 is an even number\n",
      "24 is an even number\n",
      "26 is an even number\n",
      "28 is an even number\n",
      "30 is an even number\n",
      "32 is an even number\n",
      "34 is an even number\n",
      "36 is an even number\n",
      "38 is an even number\n",
      "40 is an even number\n",
      "42 is an even number\n",
      "44 is an even number\n",
      "46 is an even number\n",
      "48 is an even number\n",
      "50 is an even number\n"
     ]
    }
   ],
   "source": [
    "// Collect the numbers for output and them out with a message\n",
    "evenNumbersRDD.collect().foreach( x => println(s\"${x._1} is an even number\"))\n"
   ]
  },
  {
   "cell_type": "code",
   "execution_count": null,
   "metadata": {},
   "outputs": [],
   "source": []
  }
 ],
 "metadata": {
  "kernelspec": {
   "display_name": "Apache Toree - Scala",
   "language": "scala",
   "name": "apache_toree_scala"
  },
  "language_info": {
   "codemirror_mode": "text/x-scala",
   "file_extension": ".scala",
   "mimetype": "text/x-scala",
   "name": "scala",
   "pygments_lexer": "scala",
   "version": "2.11.12"
  }
 },
 "nbformat": 4,
 "nbformat_minor": 2
}
