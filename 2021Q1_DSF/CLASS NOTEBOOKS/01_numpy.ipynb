{
 "cells": [
  {
   "cell_type": "code",
   "execution_count": 1,
   "metadata": {},
   "outputs": [],
   "source": [
    "SANDBOX_NAME = 'fmex'\n",
    "DATA_PATH = \"/data/sandboxes/\"+SANDBOX_NAME+\"/data/\""
   ]
  },
  {
   "cell_type": "markdown",
   "metadata": {},
   "source": [
    "\n",
    "\n",
    "---\n",
    "\n",
    "# Numpy\n",
    "\n",
    "\n",
    "Sinonimo de *Numerical Python*, `numpy` es una librería que proporciona herramientas para trabajar con alto rendimiento sobre arreglos multidimensionales. \n",
    "\n",
    "\n",
    "## Características\n",
    "Dentro de las principales características de `numpy` se encuentran:\n",
    "- Ofrece un poderoso objeto para manipular arreglos multidimensionales: `ndarray`.\n",
    "- Posee herramientas para realizar operaciones matemáticas y lógicas sobre arreglos, operaciones relacionadas con algebra lineal, transformadas de Fourier, entre otras.\n",
    "\n",
    "Para importar los módulos de la librería `numpy`, por convención se utiliza:"
   ]
  },
  {
   "cell_type": "code",
   "execution_count": 2,
   "metadata": {},
   "outputs": [],
   "source": [
    "import numpy as np   # 'np' alias de numpy\n",
    "import random\n",
    "import math"
   ]
  },
  {
   "cell_type": "code",
   "execution_count": 9,
   "metadata": {},
   "outputs": [],
   "source": [
    "the_list = [random.randint(1, 1000) for _ in range(1000000)]"
   ]
  },
  {
   "cell_type": "code",
   "execution_count": 16,
   "metadata": {},
   "outputs": [],
   "source": [
    "%timeit -n 10\n",
    "\n",
    "list_ans = [math.log(x) for x in the_list]"
   ]
  },
  {
   "cell_type": "code",
   "execution_count": 13,
   "metadata": {},
   "outputs": [],
   "source": [
    "the_array = np.array(the_list)"
   ]
  },
  {
   "cell_type": "code",
   "execution_count": 17,
   "metadata": {},
   "outputs": [],
   "source": [
    "%timeit -n 10\n",
    "\n",
    "array_ans = np.log(the_array)"
   ]
  },
  {
   "cell_type": "code",
   "execution_count": 18,
   "metadata": {},
   "outputs": [
    {
     "data": {
      "text/plain": [
       "[6.88653164253051,\n",
       " 6.74993119378857,\n",
       " 6.502790045915623,\n",
       " 6.8885724595653635,\n",
       " 6.148468295917647,\n",
       " 4.976733742420574,\n",
       " 6.1092475827643655,\n",
       " 6.280395838960195,\n",
       " 4.969813299576001,\n",
       " 6.38856140554563]"
      ]
     },
     "execution_count": 18,
     "metadata": {},
     "output_type": "execute_result"
    }
   ],
   "source": [
    "list_ans[:10]"
   ]
  },
  {
   "cell_type": "code",
   "execution_count": 19,
   "metadata": {},
   "outputs": [
    {
     "data": {
      "text/plain": [
       "array([6.88653164, 6.74993119, 6.50279005, ..., 6.89770494, 3.8501476 ,\n",
       "       6.48004456])"
      ]
     },
     "execution_count": 19,
     "metadata": {},
     "output_type": "execute_result"
    }
   ],
   "source": [
    "array_ans"
   ]
  },
  {
   "cell_type": "markdown",
   "metadata": {},
   "source": [
    "\n",
    "\n",
    "---\n",
    "# Arrays\n",
    "\n",
    "\n",
    "Las funcionalidades de `numpy` se basan en en el objeto `ndarray`.\n",
    "\n",
    "Un `ndarray`, también conocido por el alias de `array`, es un arreglo N-dimensional con elementos del mismo tipo e indexado por una tupla de enteros positivos.\n",
    "\n",
    "\n",
    "```python\n",
    "a = numpy.array(data, dtype = None, ndmin = 0, ...)\n",
    "```\n",
    "- data: datos de mismo tipo en forma de matriz o una secuencia anidada.\n",
    "- dtype (opcional): tipos de datos deseados en el arreglo. \n",
    "- ndmin: especifica el número mínimo de dimensiones del arreglo resultante."
   ]
  },
  {
   "cell_type": "markdown",
   "metadata": {},
   "source": [
    "\n",
    "\n",
    "## Creación de Arrays\n",
    "\n",
    "La forma mas facil de crear un arreglo es utilizando el objeto `ndarray`."
   ]
  },
  {
   "cell_type": "code",
   "execution_count": 20,
   "metadata": {
    "collapsed": false,
    "jupyter": {
     "outputs_hidden": false
    }
   },
   "outputs": [
    {
     "data": {
      "text/plain": [
       "array([[0, 1, 2, 3],\n",
       "       [3, 2, 1, 0],\n",
       "       [1, 1, 1, 1]])"
      ]
     },
     "execution_count": 20,
     "metadata": {},
     "output_type": "execute_result"
    }
   ],
   "source": [
    "a = np.array([[0,1,2,3],[3,2,1,0],[1,1,1,1]])  \n",
    "a"
   ]
  },
  {
   "cell_type": "markdown",
   "metadata": {},
   "source": [
    "\n",
    "\n",
    "Dentro de los principales atributos del objeto `ndarray`, se encuentran:\n",
    "- `ndarray.shape`: tupla con las dimensiones del arreglo. \n",
    "- `ndarray.ndim`: numero de dimensiones del arreglo.\n",
    "- `ndarray.size`: número de elementos del arreglo.\n",
    "- `ndarray.dtype`: tipo de dato de los elementos del arreglo. "
   ]
  },
  {
   "cell_type": "code",
   "execution_count": 21,
   "metadata": {
    "collapsed": false,
    "jupyter": {
     "outputs_hidden": false
    }
   },
   "outputs": [
    {
     "data": {
      "text/plain": [
       "(3, 4)"
      ]
     },
     "execution_count": 21,
     "metadata": {},
     "output_type": "execute_result"
    }
   ],
   "source": [
    "a.shape"
   ]
  },
  {
   "cell_type": "code",
   "execution_count": 22,
   "metadata": {
    "collapsed": false,
    "jupyter": {
     "outputs_hidden": false
    }
   },
   "outputs": [
    {
     "data": {
      "text/plain": [
       "2"
      ]
     },
     "execution_count": 22,
     "metadata": {},
     "output_type": "execute_result"
    }
   ],
   "source": [
    "a.ndim"
   ]
  },
  {
   "cell_type": "code",
   "execution_count": 23,
   "metadata": {
    "collapsed": false,
    "jupyter": {
     "outputs_hidden": false
    }
   },
   "outputs": [
    {
     "data": {
      "text/plain": [
       "12"
      ]
     },
     "execution_count": 23,
     "metadata": {},
     "output_type": "execute_result"
    }
   ],
   "source": [
    "a.size"
   ]
  },
  {
   "cell_type": "code",
   "execution_count": 24,
   "metadata": {
    "collapsed": false,
    "jupyter": {
     "outputs_hidden": false
    }
   },
   "outputs": [
    {
     "data": {
      "text/plain": [
       "dtype('int64')"
      ]
     },
     "execution_count": 24,
     "metadata": {},
     "output_type": "execute_result"
    }
   ],
   "source": [
    "a.dtype"
   ]
  },
  {
   "cell_type": "markdown",
   "metadata": {},
   "source": [
    "\n",
    "\n",
    "Numpy cuenta con funciones especiales para crear arreglos con valores definidos por defecto, por ejemplo:\n",
    "- **zeros**: crea arreglo solamente con 0's.\n",
    "- **ones**: crea arreglo solamente con 1's.\n",
    "- **eye**: crea una matriz identidad de tamaño n.\n",
    "- **empty**: crea un arreglo sin inicializar de forma y dtype especificados.\n",
    "- **full**: crea un arreglo con un valor constante especificado."
   ]
  },
  {
   "cell_type": "code",
   "execution_count": 25,
   "metadata": {
    "collapsed": false,
    "jupyter": {
     "outputs_hidden": false
    }
   },
   "outputs": [
    {
     "data": {
      "text/plain": [
       "array([[0., 0., 0.],\n",
       "       [0., 0., 0.],\n",
       "       [0., 0., 0.]])"
      ]
     },
     "execution_count": 25,
     "metadata": {},
     "output_type": "execute_result"
    }
   ],
   "source": [
    "np.zeros((3,3))"
   ]
  },
  {
   "cell_type": "code",
   "execution_count": 26,
   "metadata": {
    "collapsed": false,
    "jupyter": {
     "outputs_hidden": false
    }
   },
   "outputs": [
    {
     "data": {
      "text/plain": [
       "array([[1.],\n",
       "       [1.],\n",
       "       [1.],\n",
       "       [1.],\n",
       "       [1.]])"
      ]
     },
     "execution_count": 26,
     "metadata": {},
     "output_type": "execute_result"
    }
   ],
   "source": [
    "np.ones([5,1])"
   ]
  },
  {
   "cell_type": "code",
   "execution_count": 30,
   "metadata": {
    "collapsed": false,
    "jupyter": {
     "outputs_hidden": false
    }
   },
   "outputs": [
    {
     "data": {
      "text/plain": [
       "array([[1., 0., 0., 0.],\n",
       "       [0., 1., 0., 0.],\n",
       "       [0., 0., 1., 0.],\n",
       "       [0., 0., 0., 1.]])"
      ]
     },
     "execution_count": 30,
     "metadata": {},
     "output_type": "execute_result"
    }
   ],
   "source": [
    "np.eye(4)"
   ]
  },
  {
   "cell_type": "code",
   "execution_count": 31,
   "metadata": {
    "collapsed": false,
    "jupyter": {
     "outputs_hidden": false
    }
   },
   "outputs": [
    {
     "data": {
      "text/plain": [
       "array([[979, 854, 667],\n",
       "       [990,  47, 652]])"
      ]
     },
     "execution_count": 31,
     "metadata": {},
     "output_type": "execute_result"
    }
   ],
   "source": [
    "np.empty((2,3), dtype=int)"
   ]
  },
  {
   "cell_type": "code",
   "execution_count": 33,
   "metadata": {},
   "outputs": [
    {
     "data": {
      "text/plain": [
       "array([0.17680752, 0.01825152, 0.02486111, 0.12681139, 0.18656001,\n",
       "       0.54184559, 0.27142114, 0.55868123, 0.55496169, 0.04250551])"
      ]
     },
     "execution_count": 33,
     "metadata": {},
     "output_type": "execute_result"
    }
   ],
   "source": [
    "np.random.rand(10)"
   ]
  },
  {
   "cell_type": "code",
   "execution_count": 34,
   "metadata": {},
   "outputs": [
    {
     "data": {
      "text/plain": [
       "array([ 0.55251809,  0.40828071,  0.4954722 ,  1.00316069,  0.78679057,\n",
       "       -0.00792382,  0.19512893, -1.34476498, -2.58242019,  0.52263851])"
      ]
     },
     "execution_count": 34,
     "metadata": {},
     "output_type": "execute_result"
    }
   ],
   "source": [
    "np.random.randn(10)"
   ]
  },
  {
   "cell_type": "code",
   "execution_count": 37,
   "metadata": {},
   "outputs": [
    {
     "data": {
      "text/plain": [
       "array([511.16286497, 503.29815234, 490.88079991, 511.03096117,\n",
       "       501.42946604, 513.43920742, 499.6408328 , 493.55428199,\n",
       "       503.43244646, 499.73412016])"
      ]
     },
     "execution_count": 37,
     "metadata": {},
     "output_type": "execute_result"
    }
   ],
   "source": [
    "np.random.normal(500, 10, 10)"
   ]
  },
  {
   "cell_type": "code",
   "execution_count": 39,
   "metadata": {},
   "outputs": [
    {
     "data": {
      "text/plain": [
       "'0123456789abcdefghijklmnopqrstuvwxyzABCDEFGHIJKLMNOPQRSTUVWXYZ!\"#$%&\\'()*+,-./:;<=>?@[\\\\]^_`{|}~ \\t\\n\\r\\x0b\\x0c'"
      ]
     },
     "execution_count": 39,
     "metadata": {},
     "output_type": "execute_result"
    }
   ],
   "source": [
    "import string\n",
    "\n",
    "letters = string.printable\n",
    "letters"
   ]
  },
  {
   "cell_type": "code",
   "execution_count": 46,
   "metadata": {},
   "outputs": [
    {
     "data": {
      "text/plain": [
       "'kF$l;'"
      ]
     },
     "execution_count": 46,
     "metadata": {},
     "output_type": "execute_result"
    }
   ],
   "source": [
    "''.join(np.random.choice(list(letters), 5))"
   ]
  },
  {
   "cell_type": "markdown",
   "metadata": {},
   "source": [
    "\n",
    "\n",
    "## Aritmética con Arrays\n",
    "\n",
    "El objeto `ndarray` es importante porque permite realizar cualquier operación entre arreglos sin escribir ningún bucle *for*.\n",
    "\n",
    "Cualquier operación aritmética con arreglos del mismo tamaño aplica una operación elemento a elemento:"
   ]
  },
  {
   "cell_type": "code",
   "execution_count": 47,
   "metadata": {},
   "outputs": [
    {
     "data": {
      "text/plain": [
       "array([[0, 1, 2, 3],\n",
       "       [3, 2, 1, 0],\n",
       "       [1, 1, 1, 1]])"
      ]
     },
     "execution_count": 47,
     "metadata": {},
     "output_type": "execute_result"
    }
   ],
   "source": [
    "a"
   ]
  },
  {
   "cell_type": "code",
   "execution_count": 49,
   "metadata": {
    "collapsed": false,
    "jupyter": {
     "outputs_hidden": false
    }
   },
   "outputs": [
    {
     "data": {
      "text/plain": [
       "array([[14,  4,  6],\n",
       "       [ 4, 14,  6],\n",
       "       [ 6,  6,  4]])"
      ]
     },
     "execution_count": 49,
     "metadata": {},
     "output_type": "execute_result"
    }
   ],
   "source": [
    "a.dot(a.T)"
   ]
  },
  {
   "cell_type": "code",
   "execution_count": 50,
   "metadata": {
    "collapsed": false,
    "jupyter": {
     "outputs_hidden": false
    }
   },
   "outputs": [
    {
     "data": {
      "text/plain": [
       "array([[0, 2, 4, 6],\n",
       "       [6, 4, 2, 0],\n",
       "       [2, 2, 2, 2]])"
      ]
     },
     "execution_count": 50,
     "metadata": {},
     "output_type": "execute_result"
    }
   ],
   "source": [
    "a+a"
   ]
  },
  {
   "cell_type": "markdown",
   "metadata": {},
   "source": [
    "\n",
    "\n",
    "Las operaciones aritméticas con escalares se aplica a cada elemento del arreglo."
   ]
  },
  {
   "cell_type": "code",
   "execution_count": 51,
   "metadata": {
    "collapsed": false,
    "jupyter": {
     "outputs_hidden": false
    }
   },
   "outputs": [
    {
     "data": {
      "text/plain": [
       "array([[0, 2, 4, 6],\n",
       "       [6, 4, 2, 0],\n",
       "       [2, 2, 2, 2]])"
      ]
     },
     "execution_count": 51,
     "metadata": {},
     "output_type": "execute_result"
    }
   ],
   "source": [
    "2*a"
   ]
  },
  {
   "cell_type": "code",
   "execution_count": 52,
   "metadata": {
    "collapsed": false,
    "jupyter": {
     "outputs_hidden": false
    }
   },
   "outputs": [
    {
     "data": {
      "text/plain": [
       "array([[1, 2, 3, 4],\n",
       "       [4, 3, 2, 1],\n",
       "       [2, 2, 2, 2]])"
      ]
     },
     "execution_count": 52,
     "metadata": {},
     "output_type": "execute_result"
    }
   ],
   "source": [
    "1+a"
   ]
  },
  {
   "cell_type": "markdown",
   "metadata": {},
   "source": [
    "\n",
    "\n",
    "Finalmente, las comparaciones entre arreglos de la misma dimensión generan un arreglo booleano."
   ]
  },
  {
   "cell_type": "code",
   "execution_count": 53,
   "metadata": {
    "collapsed": false,
    "jupyter": {
     "outputs_hidden": false
    }
   },
   "outputs": [
    {
     "data": {
      "text/plain": [
       "array([[False, False,  True,  True],\n",
       "       [ True,  True, False, False],\n",
       "       [False, False, False, False]])"
      ]
     },
     "execution_count": 53,
     "metadata": {},
     "output_type": "execute_result"
    }
   ],
   "source": [
    "b = np.ones([3,4])  \n",
    "a>b"
   ]
  },
  {
   "cell_type": "code",
   "execution_count": 59,
   "metadata": {},
   "outputs": [],
   "source": [
    "a = np.ones([7, 3])\n",
    "b = np.random.randn(3).reshape(-1, 3)"
   ]
  },
  {
   "cell_type": "code",
   "execution_count": 60,
   "metadata": {},
   "outputs": [
    {
     "data": {
      "text/plain": [
       "array([[1., 1., 1.],\n",
       "       [1., 1., 1.],\n",
       "       [1., 1., 1.],\n",
       "       [1., 1., 1.],\n",
       "       [1., 1., 1.],\n",
       "       [1., 1., 1.],\n",
       "       [1., 1., 1.]])"
      ]
     },
     "execution_count": 60,
     "metadata": {},
     "output_type": "execute_result"
    }
   ],
   "source": [
    "a"
   ]
  },
  {
   "cell_type": "code",
   "execution_count": 63,
   "metadata": {},
   "outputs": [
    {
     "data": {
      "text/plain": [
       "array([[1.2593708 , 2.58611355, 0.97961946],\n",
       "       [1.2593708 , 2.58611355, 0.97961946],\n",
       "       [1.2593708 , 2.58611355, 0.97961946],\n",
       "       [1.2593708 , 2.58611355, 0.97961946],\n",
       "       [1.2593708 , 2.58611355, 0.97961946],\n",
       "       [1.2593708 , 2.58611355, 0.97961946],\n",
       "       [1.2593708 , 2.58611355, 0.97961946]])"
      ]
     },
     "execution_count": 63,
     "metadata": {},
     "output_type": "execute_result"
    }
   ],
   "source": [
    "a + b"
   ]
  },
  {
   "cell_type": "code",
   "execution_count": 64,
   "metadata": {},
   "outputs": [
    {
     "data": {
      "text/plain": [
       "array([[ 0.2593708 ,  1.58611355, -0.02038054]])"
      ]
     },
     "execution_count": 64,
     "metadata": {},
     "output_type": "execute_result"
    }
   ],
   "source": [
    "b"
   ]
  },
  {
   "cell_type": "markdown",
   "metadata": {},
   "source": [
    "\n",
    "\n",
    "##  Indexing y slicing en Arrays\n",
    "\n",
    "Tecnicas muy similares de *indexing* y *slicing* para acceder a las *listas de Python* son también utilizadas en los *Arrays de Numpy*. Sin embargo, una de las principales diferencias es que los subconjuntos son vistas, es decir, cualquier cambio modifica directamente al array original.\n"
   ]
  },
  {
   "cell_type": "code",
   "execution_count": 82,
   "metadata": {
    "collapsed": false,
    "jupyter": {
     "outputs_hidden": false
    }
   },
   "outputs": [
    {
     "data": {
      "text/plain": [
       "array([0, 1, 2, 3, 4, 5, 6, 7, 8, 9])"
      ]
     },
     "execution_count": 82,
     "metadata": {},
     "output_type": "execute_result"
    }
   ],
   "source": [
    "a = np.arange(10)\n",
    "a"
   ]
  },
  {
   "cell_type": "code",
   "execution_count": 83,
   "metadata": {},
   "outputs": [
    {
     "data": {
      "text/plain": [
       "array([0.03880408, 0.84718789, 0.2387833 , 0.24527754, 0.92931934,\n",
       "       0.71635223, 0.45965294, 0.2877929 , 0.79754607])"
      ]
     },
     "execution_count": 83,
     "metadata": {},
     "output_type": "execute_result"
    }
   ],
   "source": [
    "b = np.random.rand(9)\n",
    "b"
   ]
  },
  {
   "cell_type": "code",
   "execution_count": 81,
   "metadata": {},
   "outputs": [
    {
     "data": {
      "text/plain": [
       "(9,)"
      ]
     },
     "execution_count": 81,
     "metadata": {},
     "output_type": "execute_result"
    }
   ],
   "source": [
    "b.shape"
   ]
  },
  {
   "cell_type": "code",
   "execution_count": 84,
   "metadata": {
    "collapsed": false,
    "jupyter": {
     "outputs_hidden": false
    }
   },
   "outputs": [
    {
     "data": {
      "text/plain": [
       "array([ 0,  1,  2, 10, 10, 10,  6,  7,  8,  9])"
      ]
     },
     "execution_count": 84,
     "metadata": {},
     "output_type": "execute_result"
    }
   ],
   "source": [
    "a[3:6] =10\n",
    "a"
   ]
  },
  {
   "cell_type": "code",
   "execution_count": 85,
   "metadata": {
    "collapsed": false,
    "jupyter": {
     "outputs_hidden": false
    }
   },
   "outputs": [
    {
     "data": {
      "text/plain": [
       "array([0, 1, 2, 5, 5, 5, 6, 7, 8, 9])"
      ]
     },
     "execution_count": 85,
     "metadata": {},
     "output_type": "execute_result"
    }
   ],
   "source": [
    "b = a[3:6]\n",
    "b[:] = 5\n",
    "a"
   ]
  },
  {
   "cell_type": "markdown",
   "metadata": {},
   "source": [
    "\n",
    "\n",
    "Si se quiere copiar una parte de un arreglo en lugar de una vista, es necesario copiar explícitamente el arreglo."
   ]
  },
  {
   "cell_type": "code",
   "execution_count": 86,
   "metadata": {},
   "outputs": [],
   "source": [
    "b = a[3:6].copy()"
   ]
  },
  {
   "cell_type": "code",
   "execution_count": 87,
   "metadata": {
    "collapsed": false,
    "jupyter": {
     "outputs_hidden": false
    }
   },
   "outputs": [
    {
     "data": {
      "text/plain": [
       "array([1, 1, 5])"
      ]
     },
     "execution_count": 87,
     "metadata": {},
     "output_type": "execute_result"
    }
   ],
   "source": [
    "b[:2]=1\n",
    "b"
   ]
  },
  {
   "cell_type": "code",
   "execution_count": 88,
   "metadata": {
    "collapsed": false,
    "jupyter": {
     "outputs_hidden": false
    }
   },
   "outputs": [
    {
     "data": {
      "text/plain": [
       "array([0, 1, 2, 5, 5, 5, 6, 7, 8, 9])"
      ]
     },
     "execution_count": 88,
     "metadata": {},
     "output_type": "execute_result"
    }
   ],
   "source": [
    "a"
   ]
  },
  {
   "cell_type": "markdown",
   "metadata": {},
   "source": [
    "\n",
    "\n",
    "El principo es el mismo para arreglos multidimensionales."
   ]
  },
  {
   "cell_type": "code",
   "execution_count": 89,
   "metadata": {
    "collapsed": false,
    "jupyter": {
     "outputs_hidden": false
    }
   },
   "outputs": [
    {
     "data": {
      "text/plain": [
       "array([[[ 0,  1,  2,  3],\n",
       "        [ 4,  5,  6,  7],\n",
       "        [ 8,  9, 10, 11],\n",
       "        [12, 13, 14, 15]],\n",
       "\n",
       "       [[16, 17, 18, 19],\n",
       "        [20, 21, 22, 23],\n",
       "        [24, 25, 26, 27],\n",
       "        [28, 29, 30, 31]],\n",
       "\n",
       "       [[32, 33, 34, 35],\n",
       "        [36, 37, 38, 39],\n",
       "        [40, 41, 42, 43],\n",
       "        [44, 45, 46, 47]],\n",
       "\n",
       "       [[48, 49, 50, 51],\n",
       "        [52, 53, 54, 55],\n",
       "        [56, 57, 58, 59],\n",
       "        [60, 61, 62, 63]]])"
      ]
     },
     "execution_count": 89,
     "metadata": {},
     "output_type": "execute_result"
    }
   ],
   "source": [
    "a = np.arange(64).reshape(4,4,4)\n",
    "a"
   ]
  },
  {
   "cell_type": "code",
   "execution_count": 94,
   "metadata": {},
   "outputs": [
    {
     "data": {
      "text/plain": [
       "array([[[ 5,  6],\n",
       "        [ 9, 10]],\n",
       "\n",
       "       [[21, 22],\n",
       "        [25, 26]],\n",
       "\n",
       "       [[37, 38],\n",
       "        [41, 42]],\n",
       "\n",
       "       [[53, 54],\n",
       "        [57, 58]]])"
      ]
     },
     "execution_count": 94,
     "metadata": {},
     "output_type": "execute_result"
    }
   ],
   "source": [
    "a[:, 1:3, 1:3]"
   ]
  },
  {
   "cell_type": "code",
   "execution_count": 91,
   "metadata": {
    "collapsed": false,
    "jupyter": {
     "outputs_hidden": false
    }
   },
   "outputs": [
    {
     "data": {
      "text/plain": [
       "array([ 3,  7, 11, 15])"
      ]
     },
     "execution_count": 91,
     "metadata": {},
     "output_type": "execute_result"
    }
   ],
   "source": [
    "a[0, : ,3]"
   ]
  },
  {
   "cell_type": "code",
   "execution_count": 92,
   "metadata": {
    "collapsed": false,
    "jupyter": {
     "outputs_hidden": false
    }
   },
   "outputs": [
    {
     "data": {
      "text/plain": [
       "array([[2, 3],\n",
       "       [6, 7]])"
      ]
     },
     "execution_count": 92,
     "metadata": {},
     "output_type": "execute_result"
    }
   ],
   "source": [
    "a[0,:2,2:]"
   ]
  },
  {
   "cell_type": "code",
   "execution_count": 93,
   "metadata": {
    "collapsed": false,
    "jupyter": {
     "outputs_hidden": false
    }
   },
   "outputs": [
    {
     "data": {
      "text/plain": [
       "array([[ 4,  5,  6,  7],\n",
       "       [36, 37, 38, 39]])"
      ]
     },
     "execution_count": 93,
     "metadata": {},
     "output_type": "execute_result"
    }
   ],
   "source": [
    "a[::2,1,:]"
   ]
  },
  {
   "cell_type": "code",
   "execution_count": null,
   "metadata": {},
   "outputs": [],
   "source": []
  },
  {
   "cell_type": "markdown",
   "metadata": {},
   "source": [
    "\n",
    "\n",
    "## Funciones universales\n",
    "\n",
    "Las funciones universales son funciones que ejecutan operaciones element-wise sobre los datos en los arreglos.\n",
    "\n",
    "Generalmente, este tipo de funciones se aplican a cada elemento de un arreglo, por ejemplo:"
   ]
  },
  {
   "cell_type": "code",
   "execution_count": 6,
   "metadata": {},
   "outputs": [
    {
     "data": {
      "text/plain": [
       "array([ 0.1       ,  0.16681005,  0.27825594,  0.46415888,  0.77426368,\n",
       "        1.29154967,  2.15443469,  3.59381366,  5.9948425 , 10.        ])"
      ]
     },
     "execution_count": 6,
     "metadata": {},
     "output_type": "execute_result"
    }
   ],
   "source": [
    "a = np.logspace(-1, 1, 10)\n",
    "a[:]"
   ]
  },
  {
   "cell_type": "code",
   "execution_count": 7,
   "metadata": {
    "collapsed": false,
    "jupyter": {
     "outputs_hidden": false
    }
   },
   "outputs": [
    {
     "data": {
      "text/plain": [
       "array([0, 1, 2, 3, 4])"
      ]
     },
     "execution_count": 7,
     "metadata": {},
     "output_type": "execute_result"
    }
   ],
   "source": [
    "a = np.arange(5)\n",
    "a"
   ]
  },
  {
   "cell_type": "code",
   "execution_count": 8,
   "metadata": {
    "collapsed": false,
    "jupyter": {
     "outputs_hidden": false
    }
   },
   "outputs": [
    {
     "data": {
      "text/plain": [
       "array([0.        , 1.        , 1.41421356, 1.73205081, 2.        ])"
      ]
     },
     "execution_count": 8,
     "metadata": {},
     "output_type": "execute_result"
    }
   ],
   "source": [
    "b = np.sqrt(a)\n",
    "b"
   ]
  },
  {
   "cell_type": "code",
   "execution_count": 9,
   "metadata": {
    "collapsed": false,
    "jupyter": {
     "outputs_hidden": false
    }
   },
   "outputs": [
    {
     "data": {
      "text/plain": [
       "array([1.        , 2.71828183, 4.11325038, 5.65223367, 7.3890561 ])"
      ]
     },
     "execution_count": 9,
     "metadata": {},
     "output_type": "execute_result"
    }
   ],
   "source": [
    "np.exp(b)"
   ]
  },
  {
   "cell_type": "code",
   "execution_count": 13,
   "metadata": {},
   "outputs": [
    {
     "data": {
      "text/plain": [
       "4"
      ]
     },
     "execution_count": 13,
     "metadata": {},
     "output_type": "execute_result"
    }
   ],
   "source": [
    "np.argmax(a)"
   ]
  },
  {
   "cell_type": "code",
   "execution_count": 17,
   "metadata": {},
   "outputs": [
    {
     "data": {
      "text/plain": [
       "array([0.        , 1.        , 1.41421356, 1.73205081, 2.        ])"
      ]
     },
     "execution_count": 17,
     "metadata": {},
     "output_type": "execute_result"
    }
   ],
   "source": [
    "b"
   ]
  },
  {
   "cell_type": "code",
   "execution_count": 18,
   "metadata": {},
   "outputs": [
    {
     "data": {
      "text/plain": [
       "array([0., 1., 2., 3., 4.])"
      ]
     },
     "execution_count": 18,
     "metadata": {},
     "output_type": "execute_result"
    }
   ],
   "source": [
    "np.maximum(a, b)"
   ]
  },
  {
   "cell_type": "markdown",
   "metadata": {},
   "source": [
    "\n",
    "\n",
    "Por otro lado, hay funciones universales que realizan operaciones con 2 arrays y regresan un array como salida."
   ]
  },
  {
   "cell_type": "code",
   "execution_count": 10,
   "metadata": {
    "collapsed": false,
    "jupyter": {
     "outputs_hidden": false
    }
   },
   "outputs": [
    {
     "data": {
      "text/plain": [
       "array([0, 2, 4, 6, 8])"
      ]
     },
     "execution_count": 10,
     "metadata": {},
     "output_type": "execute_result"
    }
   ],
   "source": [
    "np.add(a,a) # a +a "
   ]
  },
  {
   "cell_type": "code",
   "execution_count": 11,
   "metadata": {
    "collapsed": false,
    "jupyter": {
     "outputs_hidden": false
    }
   },
   "outputs": [
    {
     "data": {
      "text/plain": [
       "array([ 0,  1,  4,  9, 16])"
      ]
     },
     "execution_count": 11,
     "metadata": {},
     "output_type": "execute_result"
    }
   ],
   "source": [
    "np.multiply(a,a) # a * a"
   ]
  },
  {
   "cell_type": "code",
   "execution_count": 12,
   "metadata": {
    "collapsed": false,
    "jupyter": {
     "outputs_hidden": false
    }
   },
   "outputs": [
    {
     "data": {
      "text/plain": [
       "array([  1,   1,   4,  27, 256])"
      ]
     },
     "execution_count": 12,
     "metadata": {},
     "output_type": "execute_result"
    }
   ],
   "source": [
    "np.power(a,a) # a**a"
   ]
  },
  {
   "cell_type": "code",
   "execution_count": 25,
   "metadata": {},
   "outputs": [
    {
     "data": {
      "text/plain": [
       "array([[ 4.5],\n",
       "       [14.5],\n",
       "       [24.5],\n",
       "       [34.5],\n",
       "       [44.5],\n",
       "       [54.5],\n",
       "       [64.5],\n",
       "       [74.5],\n",
       "       [84.5],\n",
       "       [94.5]])"
      ]
     },
     "execution_count": 25,
     "metadata": {},
     "output_type": "execute_result"
    }
   ],
   "source": [
    "a = np.arange(100).reshape(-1, 10)\n",
    "a.mean(axis=1, keepdims=True)"
   ]
  },
  {
   "cell_type": "code",
   "execution_count": 29,
   "metadata": {},
   "outputs": [
    {
     "name": "stdout",
     "output_type": "stream",
     "text": [
      "a: (16, 25), a_mean:(1, 25), a_std:(1, 25)\n"
     ]
    },
    {
     "data": {
      "text/plain": [
       "array([[-1.26163362, -0.703837  , -1.04373525, -2.41141314, -0.73044354,\n",
       "         0.30938242, -1.31830967, -0.9368735 , -1.21571537,  0.19853749,\n",
       "        -0.39366164, -1.9265462 ,  0.9770589 , -0.54467822, -1.77524883,\n",
       "        -0.01451626,  0.48701968, -0.28248608,  0.01431516, -0.69040512,\n",
       "        -0.30841474,  1.0457865 ,  0.43801657, -0.25848872, -0.54977161],\n",
       "       [ 0.47282859,  0.73979919,  1.04079775,  0.44946696, -0.88695283,\n",
       "        -0.4833468 ,  0.91059501,  1.2835693 , -0.45121079,  0.19401219,\n",
       "         1.42546659,  0.20170654, -0.32799589, -0.17443258, -0.33840235,\n",
       "        -0.19620503,  1.87380937, -0.42035739,  1.82240862,  0.62160993,\n",
       "         0.35392521, -0.2278814 , -1.55992435,  1.59630349, -0.17968073],\n",
       "       [ 0.51013411,  0.63691261,  0.6017472 ,  1.04237872, -1.78230243,\n",
       "        -1.94831783, -1.31684508,  2.06526765, -0.71736439,  0.00885036,\n",
       "        -0.01458071,  0.3383771 ,  1.63141662,  1.42880298, -2.03809718,\n",
       "         1.36669   , -0.89772411, -0.27439612, -1.47136131,  0.72158135,\n",
       "        -2.31012553,  0.58583445,  1.08923926,  0.36920345, -0.46858937],\n",
       "       [ 0.71666473,  0.33479857, -0.39821128, -0.06235603, -0.04408378,\n",
       "        -0.16953434, -0.11196721,  0.07285727, -0.68110334,  1.32789101,\n",
       "        -0.22140489,  1.03312095,  0.41940268, -1.77275801,  0.49849712,\n",
       "        -0.46167765,  1.36886542, -0.82132807,  0.26952469, -1.45124573,\n",
       "         0.01413442,  1.36103877,  0.3878215 , -1.18504812,  0.04898794],\n",
       "       [ 0.91641361, -0.5214384 ,  0.0972446 , -0.16638229, -0.02894743,\n",
       "        -0.81095648,  0.30716367, -0.78366205,  1.24049166, -0.15370123,\n",
       "        -0.4769779 , -0.93038475, -1.36775469,  0.38118986,  0.43570795,\n",
       "         2.01529636,  0.09426735,  0.28656876, -2.19184482,  1.56413038,\n",
       "        -0.11344824, -1.72572257, -0.3005301 , -1.63999868, -0.68815639],\n",
       "       [ 0.80709967,  1.0133982 , -1.24723597, -0.87010009,  1.02747203,\n",
       "         2.15625221,  0.66734426,  0.85679792,  1.98209271, -0.88914399,\n",
       "         2.17647239,  1.21112059, -0.68885347, -1.264101  ,  0.92556421,\n",
       "        -0.85594976,  0.31829892,  1.22541255,  0.52943442,  0.18431681,\n",
       "         0.01453471, -0.76547565,  0.92059083, -0.84171082,  1.52549166],\n",
       "       [-1.92233039,  1.84265302,  2.09079835, -0.46619301,  0.10932157,\n",
       "         1.04458534, -1.03425199,  0.98180728,  0.6167607 , -0.90228027,\n",
       "         0.87414625,  0.7221671 ,  0.35912431,  1.5088002 ,  0.13562669,\n",
       "         0.30380134,  1.01716601,  0.18438611,  0.96439715,  0.35781391,\n",
       "         0.91454054, -0.66915799, -1.76795061,  1.22933582, -0.27416849],\n",
       "       [-0.87444491, -1.46449308,  0.04880446, -0.79552114,  0.2925143 ,\n",
       "         1.37450573,  0.00408356, -0.88725109,  0.56461121, -0.86250908,\n",
       "        -0.67763404, -0.27195883, -0.70544249, -0.28096547,  0.71721507,\n",
       "         0.40473847, -0.746557  , -0.06695422, -0.34781502,  0.69113929,\n",
       "        -0.95573712,  0.87323793,  0.29927426,  0.29465646, -2.00500636],\n",
       "       [-1.97459843,  0.0462094 , -1.50228771, -1.49671043, -1.49171381,\n",
       "         0.15135004, -1.63100366,  0.15332648, -0.59919002,  0.23973439,\n",
       "        -1.57119379, -0.50055752,  0.16071199, -0.4440903 ,  0.83658766,\n",
       "        -0.18116192,  1.02807359,  0.59937489,  0.86799207, -0.68314507,\n",
       "         1.11199445,  0.46890851,  0.58947445,  0.61141311, -0.84312556],\n",
       "       [ 1.17692878, -0.07483874,  0.13794862,  1.0416149 ,  1.73589134,\n",
       "         0.47613645,  0.52635644, -0.35949185, -1.06660588, -0.04192993,\n",
       "        -0.84699941, -0.8304927 , -0.95347441, -1.04371233,  0.02628368,\n",
       "        -2.14105495, -0.64556963, -1.02863863, -0.42143559, -1.54639159,\n",
       "        -0.34102408,  0.57295175, -0.96411927,  0.08584178,  0.89627623],\n",
       "       [ 0.39867255,  0.93119441,  0.77101849,  0.23820137,  1.48776107,\n",
       "         0.75927474, -1.15783721,  0.12833153, -0.65393543,  0.95622648,\n",
       "         1.0000623 ,  0.5817743 , -1.64342168,  1.96649258,  1.06118546,\n",
       "         0.45202305, -0.76392658, -1.05008704,  0.85277475,  0.06697114,\n",
       "         0.73013594, -0.10951493, -0.48490051, -1.75412477,  0.85834876],\n",
       "       [ 0.87243641, -0.5510371 , -1.94581298,  0.96322645,  0.87570837,\n",
       "        -1.16615533,  0.79825464,  0.0055012 ,  0.9480179 ,  0.01730332,\n",
       "        -0.47271605,  0.6197237 ,  0.77482059, -0.2492897 ,  0.154561  ,\n",
       "        -0.8764139 , -0.83969064,  1.52510086,  0.29735347,  0.2851337 ,\n",
       "         1.14362034,  1.35436409,  1.88420955,  0.4433441 ,  1.53704771],\n",
       "       [ 0.74766742, -0.74825026, -0.01701452,  0.66121946, -0.40327396,\n",
       "         0.20696161,  1.11240599,  0.76348608,  0.80353802,  2.53136107,\n",
       "        -0.04306903,  1.59935833, -0.57371458,  0.56520419,  1.70578713,\n",
       "        -0.69662197,  0.34153568, -2.10843013, -0.05413185,  2.01230495,\n",
       "        -1.81829269, -1.85543481,  0.38871202, -0.45273488, -0.01294468],\n",
       "       [-0.30788368, -2.31029707,  0.3318167 , -0.26288114,  0.65018581,\n",
       "        -0.4025351 ,  1.30329921, -1.93895187,  1.12251179, -1.14224309,\n",
       "         0.66098247,  0.09261951,  1.81447958,  0.17710451, -1.03295143,\n",
       "         1.58129516, -2.07454573,  1.93468309, -1.49869204, -0.99019826,\n",
       "         1.08713614,  0.77415956,  0.26229126, -0.69786774,  0.15068022],\n",
       "       [ 0.39155202,  0.11384854,  0.6989396 ,  1.35201223,  0.37353344,\n",
       "        -0.90074209,  1.41463882, -1.25298916, -0.37506702, -1.74170567,\n",
       "        -1.63706674,  0.03666506,  0.8565579 , -0.75579586, -0.83500817,\n",
       "        -0.42018733, -0.79512523,  0.53119869, -0.16467564,  0.05921294,\n",
       "        -0.42640142, -0.9671953 ,  0.38455924,  0.89773753,  1.40074277],\n",
       "       [-0.66950686,  0.71537772,  0.33518195,  0.7834372 , -1.18467014,\n",
       "        -0.59686058, -0.47392677, -0.15172518, -1.51783176,  0.25959695,\n",
       "         0.21817422, -1.97669318, -0.73291536,  0.50222913, -0.47730802,\n",
       "        -0.28005561,  0.2341029 , -0.23404726,  0.53175592, -1.20282862,\n",
       "         0.90342206, -0.71589893, -1.56676411,  1.30213799, -1.39613211]])"
      ]
     },
     "execution_count": 29,
     "metadata": {},
     "output_type": "execute_result"
    }
   ],
   "source": [
    "# generar un arreglo de 16*25 con distribucion N(100, 20) -> standar (nivel columna) -> N(0, 1)\n",
    "# np.random.uniform.\n",
    "# np.mean.\n",
    "# np.std.\n",
    "a = np.random.normal(100, 20, 16*25).reshape(16, -1)\n",
    "a_mean = a.mean(axis=0, keepdims=True)\n",
    "a_std = a.std(axis=0, keepdims=True)\n",
    "print(f'a: {a.shape}, a_mean:{a_mean.shape}, a_std:{a_std.shape}')\n",
    "a_final = (a - a_mean)/a_std\n",
    "a_final"
   ]
  },
  {
   "cell_type": "code",
   "execution_count": 32,
   "metadata": {},
   "outputs": [
    {
     "data": {
      "text/plain": [
       "25"
      ]
     },
     "execution_count": 32,
     "metadata": {},
     "output_type": "execute_result"
    }
   ],
   "source": [
    "len(a_final.std(axis=0))"
   ]
  },
  {
   "cell_type": "markdown",
   "metadata": {},
   "source": [
    "\n",
    "\n",
    "## Filtros en Arrays\n",
    "\n",
    "Suponga que desea tomar el valor de una matriz `X` cuando el valor correspondiente en una condición es True, y de lo contrario tome el valor de la matriz `Y`. Dentro de *Numpy* hay una función llamada **np.where** que resuelve la situación anterior.\n",
    "\n",
    "```python\n",
    "result = np.where(cond, xarr, yarr)\n",
    "```"
   ]
  },
  {
   "cell_type": "code",
   "execution_count": 33,
   "metadata": {
    "collapsed": false,
    "jupyter": {
     "outputs_hidden": false
    }
   },
   "outputs": [
    {
     "data": {
      "text/plain": [
       "array([1.1, 2.2, 1.3, 1.4, 2.5])"
      ]
     },
     "execution_count": 33,
     "metadata": {},
     "output_type": "execute_result"
    }
   ],
   "source": [
    "xarr = np.array([1.1, 1.2, 1.3, 1.4, 1.5])\n",
    "yarr = np.array([2.1, 2.2, 2.3, 2.4, 2.5])\n",
    "cond = np.array([True, False, True, True, False])\n",
    "np.where(cond, xarr, yarr)"
   ]
  },
  {
   "cell_type": "code",
   "execution_count": 34,
   "metadata": {
    "collapsed": false,
    "jupyter": {
     "outputs_hidden": false
    }
   },
   "outputs": [
    {
     "data": {
      "text/plain": [
       "array([1, 1, 1, 0, 0])"
      ]
     },
     "execution_count": 34,
     "metadata": {},
     "output_type": "execute_result"
    }
   ],
   "source": [
    "np.where(xarr>1.3, 0, 1)"
   ]
  },
  {
   "cell_type": "markdown",
   "metadata": {},
   "source": [
    "\n",
    "\n",
    "## Métodos matemáticos y estadísticos\n",
    "\n",
    "Un conjunto de funciones matemáticas que computan estadísticas sobre una matriz completa o sobre los datos a lo largo de un eje son accesibles como métodos de la clase `ndarray`. Las funciones como suma, media y desviación estándar se pueden usar llamando al método de instancia de matriz o usando la función *numpy* de nivel superior."
   ]
  },
  {
   "cell_type": "code",
   "execution_count": 35,
   "metadata": {
    "collapsed": false,
    "jupyter": {
     "outputs_hidden": false
    }
   },
   "outputs": [
    {
     "data": {
      "text/plain": [
       "array([[0, 1, 2],\n",
       "       [3, 4, 5],\n",
       "       [6, 7, 8]])"
      ]
     },
     "execution_count": 35,
     "metadata": {},
     "output_type": "execute_result"
    }
   ],
   "source": [
    "a = np.arange(9).reshape(3,3)\n",
    "a"
   ]
  },
  {
   "cell_type": "code",
   "execution_count": 36,
   "metadata": {
    "collapsed": false,
    "jupyter": {
     "outputs_hidden": false
    }
   },
   "outputs": [
    {
     "data": {
      "text/plain": [
       "4.0"
      ]
     },
     "execution_count": 36,
     "metadata": {},
     "output_type": "execute_result"
    }
   ],
   "source": [
    "a.mean()"
   ]
  },
  {
   "cell_type": "code",
   "execution_count": 37,
   "metadata": {
    "collapsed": false,
    "jupyter": {
     "outputs_hidden": false
    }
   },
   "outputs": [
    {
     "data": {
      "text/plain": [
       "4.0"
      ]
     },
     "execution_count": 37,
     "metadata": {},
     "output_type": "execute_result"
    }
   ],
   "source": [
    "np.mean(a)"
   ]
  },
  {
   "cell_type": "markdown",
   "metadata": {},
   "source": [
    "\n",
    "\n",
    "La operación anterior se ha realizado en toda la matriz, pero es posible especificar el eje, como se muestra a continuación:"
   ]
  },
  {
   "cell_type": "code",
   "execution_count": 38,
   "metadata": {
    "collapsed": false,
    "jupyter": {
     "outputs_hidden": false
    }
   },
   "outputs": [
    {
     "data": {
      "text/plain": [
       "array([ 3, 12, 21])"
      ]
     },
     "execution_count": 38,
     "metadata": {},
     "output_type": "execute_result"
    }
   ],
   "source": [
    "a.sum(axis=1)"
   ]
  },
  {
   "cell_type": "code",
   "execution_count": 39,
   "metadata": {
    "collapsed": false,
    "jupyter": {
     "outputs_hidden": false
    }
   },
   "outputs": [
    {
     "data": {
      "text/plain": [
       "array([ 9, 12, 15])"
      ]
     },
     "execution_count": 39,
     "metadata": {},
     "output_type": "execute_result"
    }
   ],
   "source": [
    "np.sum(a,axis=0)"
   ]
  },
  {
   "cell_type": "code",
   "execution_count": 40,
   "metadata": {
    "collapsed": false,
    "jupyter": {
     "outputs_hidden": false
    }
   },
   "outputs": [
    {
     "data": {
      "text/plain": [
       "array([2, 5, 8])"
      ]
     },
     "execution_count": 40,
     "metadata": {},
     "output_type": "execute_result"
    }
   ],
   "source": [
    "a.max(axis=1)"
   ]
  },
  {
   "cell_type": "code",
   "execution_count": 41,
   "metadata": {
    "collapsed": false,
    "jupyter": {
     "outputs_hidden": false
    }
   },
   "outputs": [
    {
     "data": {
      "text/plain": [
       "array([2.44948974, 2.44948974, 2.44948974])"
      ]
     },
     "execution_count": 41,
     "metadata": {},
     "output_type": "execute_result"
    }
   ],
   "source": [
    "a.std(0)"
   ]
  },
  {
   "cell_type": "code",
   "execution_count": null,
   "metadata": {},
   "outputs": [],
   "source": []
  }
 ],
 "metadata": {
  "kernelspec": {
   "display_name": "Python 3",
   "language": "python",
   "name": "python3"
  },
  "language_info": {
   "codemirror_mode": {
    "name": "ipython",
    "version": 3
   },
   "file_extension": ".py",
   "mimetype": "text/x-python",
   "name": "python",
   "nbconvert_exporter": "python",
   "pygments_lexer": "ipython3",
   "version": "3.6.12"
  },
  "toc": {
   "base_numbering": 1,
   "nav_menu": {},
   "number_sections": true,
   "sideBar": true,
   "skip_h1_title": false,
   "title_cell": "Table of Contents",
   "title_sidebar": "Contents",
   "toc_cell": false,
   "toc_position": {
    "height": "calc(100% - 180px)",
    "left": "10px",
    "top": "150px",
    "width": "286px"
   },
   "toc_section_display": true,
   "toc_window_display": true
  }
 },
 "nbformat": 4,
 "nbformat_minor": 4
}
