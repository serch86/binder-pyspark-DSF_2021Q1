{
 "cells": [
  {
   "cell_type": "markdown",
   "metadata": {},
   "source": [
    "#### Global data path"
   ]
  },
  {
   "cell_type": "code",
   "execution_count": 2,
   "metadata": {},
   "outputs": [],
   "source": [
    "SANDBOX = 'fmex'\n",
    "DATA_PATH = f'/data/sandboxes/{SANDBOX}/data/all_data/'"
   ]
  },
  {
   "cell_type": "markdown",
   "metadata": {},
   "source": [
    "#### Read in the data"
   ]
  },
  {
   "cell_type": "code",
   "execution_count": 4,
   "metadata": {},
   "outputs": [
    {
     "name": "stdout",
     "output_type": "stream",
     "text": [
      "   movieId                               title  \\\n",
      "0        1                    Toy Story (1995)   \n",
      "1        2                      Jumanji (1995)   \n",
      "2        3             Grumpier Old Men (1995)   \n",
      "3        4            Waiting to Exhale (1995)   \n",
      "4        5  Father of the Bride Part II (1995)   \n",
      "\n",
      "                                        genres  \n",
      "0  Adventure|Animation|Children|Comedy|Fantasy  \n",
      "1                   Adventure|Children|Fantasy  \n",
      "2                               Comedy|Romance  \n",
      "3                         Comedy|Drama|Romance  \n",
      "4                                       Comedy  \n",
      "   userId  movieId  rating   timestamp\n",
      "0       1      110     1.0  1425941529\n",
      "1       1      147     4.5  1425942435\n",
      "2       1      858     5.0  1425941523\n",
      "3       1     1221     5.0  1425941546\n",
      "4       1     1246     5.0  1425941556\n",
      "   userId  movieId         tag   timestamp\n",
      "0       1      318    narrated  1425942391\n",
      "1      20     4306  Dreamworks  1459855607\n",
      "2      20    89302     England  1400778834\n",
      "3      20    89302   espionage  1400778836\n",
      "4      20    89302        jazz  1400778841\n"
     ]
    }
   ],
   "source": [
    "movies = spark.read.csv(DATA_PATH + 'movie-ratings/movies.csv', header=True, sep=',', inferSchema=True).toPandas()\n",
    "ratings = spark.read.csv(DATA_PATH + 'movie-ratings/ratings.csv', header=True, sep=',', inferSchema=True).toPandas()\n",
    "tags = spark.read.csv(DATA_PATH + 'movie-ratings/tags.csv', header=True, sep=',', inferSchema=True).toPandas()\n",
    "print(movies.head())\n",
    "print(ratings.head())\n",
    "print(tags.head())"
   ]
  },
  {
   "cell_type": "markdown",
   "metadata": {},
   "source": [
    "## SENTIMENT CLASSIFICATION\n",
    "----\n",
    "1.- Get movies that have been rated at least 100 times (from ratings) -> compute the median rating per id.\n",
    "2.- Join ratings with movies to extract the genre of interest (try with 'Horror').\n",
    "3.- Segment that table into two datasets -> top and bottom decile according to median rating. "
   ]
  },
  {
   "cell_type": "code",
   "execution_count": null,
   "metadata": {},
   "outputs": [],
   "source": []
  }
 ],
 "metadata": {
  "kernelspec": {
   "display_name": "d1-spark2python3",
   "language": "python",
   "name": "spark-python-d1-spark2python3"
  },
  "language_info": {
   "codemirror_mode": {
    "name": "ipython",
    "version": 3
   },
   "file_extension": ".py",
   "mimetype": "text/x-python",
   "name": "python",
   "nbconvert_exporter": "python",
   "pygments_lexer": "ipython3",
   "version": "3.6.12"
  }
 },
 "nbformat": 4,
 "nbformat_minor": 4
}
