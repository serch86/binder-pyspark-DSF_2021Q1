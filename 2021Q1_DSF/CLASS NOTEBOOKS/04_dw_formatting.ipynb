{
 "cells": [
  {
   "cell_type": "code",
   "execution_count": 11,
   "metadata": {},
   "outputs": [
    {
     "data": {
      "text/html": [
       "<style>\n",
       ".output_subarea.output_text.output_stream.output_stdout > pre {\n",
       "   white-space: pre;\n",
       "}\n",
       ".p-Widget.jp-RenderedText.jp-OutputArea-output > pre {\n",
       "   white-space: pre;\n",
       "}\n",
       "</style>\n"
      ],
      "text/plain": [
       "<IPython.core.display.HTML object>"
      ]
     },
     "metadata": {},
     "output_type": "display_data"
    }
   ],
   "source": [
    "%%html\n",
    "<style>\n",
    ".output_subarea.output_text.output_stream.output_stdout > pre {\n",
    "   white-space: pre;\n",
    "}\n",
    ".p-Widget.jp-RenderedText.jp-OutputArea-output > pre {\n",
    "   white-space: pre;\n",
    "}\n",
    "</style>"
   ]
  },
  {
   "cell_type": "code",
   "execution_count": 1,
   "metadata": {},
   "outputs": [],
   "source": [
    "# Global data variables\n",
    "DATA_PATH = \"/Users/luis/Documents/Work/Telefonica/Courses/DATA/\" "
   ]
  },
  {
   "cell_type": "code",
   "execution_count": 2,
   "metadata": {},
   "outputs": [],
   "source": [
    "from pyspark.sql import functions as F"
   ]
  },
  {
   "cell_type": "markdown",
   "metadata": {},
   "source": [
    "\n",
    "\n",
    "# Creación o modificación de columnas\n",
    "\n",
    "En Spark hay un único método para la creación o modificación de columnas y es `withColumn`. Este método es de nuevo una transformación y toma dos parámetros: el nombre de la columna a crear (o sobreescribir) y la operación que crea la nueva columna.\n",
    "\n",
    "Para una ejecución más óptima se recomienda utilizar únicamente las funciones de PySpark cuando se define la operación, pero como se detallará más adelante se pueden utilizar funciones propias. "
   ]
  },
  {
   "cell_type": "code",
   "execution_count": 3,
   "metadata": {},
   "outputs": [],
   "source": [
    "movies_df = spark.read.csv(DATA_PATH + 'movies/movies.csv', sep=',', header=True, inferSchema=True)\n",
    "ratings_df = spark.read.csv(DATA_PATH + 'movies/ratings.csv', sep=',', header=True, inferSchema=True)"
   ]
  },
  {
   "cell_type": "code",
   "execution_count": 4,
   "metadata": {},
   "outputs": [],
   "source": [
    "ratings_movies_df = ratings_df.join(movies_df, on='movieId', how='inner')"
   ]
  },
  {
   "cell_type": "code",
   "execution_count": 5,
   "metadata": {},
   "outputs": [],
   "source": [
    "ratings_movies_df = ratings_movies_df.cache()"
   ]
  },
  {
   "cell_type": "code",
   "execution_count": 5,
   "metadata": {},
   "outputs": [
    {
     "name": "stdout",
     "output_type": "stream",
     "text": [
      "+-------+------+------+----------+--------------------+----------------+\n",
      "|movieId|userId|rating| timestamp|               title|          genres|\n",
      "+-------+------+------+----------+--------------------+----------------+\n",
      "|    110|     1|   1.0|1425941529|   Braveheart (1995)|Action|Drama|War|\n",
      "|    147|     1|   4.5|1425942435|Basketball Diarie...|           Drama|\n",
      "|    858|     1|   5.0|1425941523|Godfather, The (1...|     Crime|Drama|\n",
      "|   1221|     1|   5.0|1425941546|Godfather: Part I...|     Crime|Drama|\n",
      "|   1246|     1|   5.0|1425941556|Dead Poets Societ...|           Drama|\n",
      "+-------+------+------+----------+--------------------+----------------+\n",
      "only showing top 5 rows\n",
      "\n"
     ]
    }
   ],
   "source": [
    "ratings_movies_df.show(5)"
   ]
  },
  {
   "cell_type": "markdown",
   "metadata": {},
   "source": [
    "\n",
    "\n",
    "## Funciones de Spark"
   ]
  },
  {
   "cell_type": "markdown",
   "metadata": {},
   "source": [
    "\n",
    "\n",
    "__valor fijo__\n",
    "\n",
    "El ejemplo más sencillo es crear una columna con un valor fijo, en este caso, columna `now` con valor '2019/01/21 14:08', y columna `rating2`con valor 4.0.\n",
    "\n",
    "Hint: `withColumn`"
   ]
  },
  {
   "cell_type": "code",
   "execution_count": 6,
   "metadata": {},
   "outputs": [],
   "source": [
    "ratings_movies_df = ratings_movies_df.withColumn('now', F.lit('2019/01/21 14:08'))"
   ]
  },
  {
   "cell_type": "code",
   "execution_count": 8,
   "metadata": {},
   "outputs": [
    {
     "name": "stdout",
     "output_type": "stream",
     "text": [
      "+-------+------+------+----------+--------------------+----------------+----------------+\n",
      "|movieId|userId|rating| timestamp|               title|          genres|             now|\n",
      "+-------+------+------+----------+--------------------+----------------+----------------+\n",
      "|    110|     1|   1.0|1425941529|   Braveheart (1995)|Action|Drama|War|2019/01/21 14:08|\n",
      "|    147|     1|   4.5|1425942435|Basketball Diarie...|           Drama|2019/01/21 14:08|\n",
      "|    858|     1|   5.0|1425941523|Godfather, The (1...|     Crime|Drama|2019/01/21 14:08|\n",
      "+-------+------+------+----------+--------------------+----------------+----------------+\n",
      "only showing top 3 rows\n",
      "\n"
     ]
    }
   ],
   "source": [
    "ratings_movies_df.show(3)"
   ]
  },
  {
   "cell_type": "code",
   "execution_count": 7,
   "metadata": {},
   "outputs": [],
   "source": [
    "ratings_movies_df = ratings_movies_df.withColumn('rating2', F.lit(4.0))"
   ]
  },
  {
   "cell_type": "code",
   "execution_count": 10,
   "metadata": {},
   "outputs": [
    {
     "name": "stdout",
     "output_type": "stream",
     "text": [
      "+-------+------+------+----------+--------------------+----------------+----------------+-------+\n",
      "|movieId|userId|rating| timestamp|               title|          genres|             now|rating2|\n",
      "+-------+------+------+----------+--------------------+----------------+----------------+-------+\n",
      "|    110|     1|   1.0|1425941529|   Braveheart (1995)|Action|Drama|War|2019/01/21 14:08|    4.0|\n",
      "|    147|     1|   4.5|1425942435|Basketball Diarie...|           Drama|2019/01/21 14:08|    4.0|\n",
      "|    858|     1|   5.0|1425941523|Godfather, The (1...|     Crime|Drama|2019/01/21 14:08|    4.0|\n",
      "+-------+------+------+----------+--------------------+----------------+----------------+-------+\n",
      "only showing top 3 rows\n",
      "\n"
     ]
    }
   ],
   "source": [
    "ratings_movies_df.show(3)"
   ]
  },
  {
   "cell_type": "markdown",
   "metadata": {},
   "source": [
    "\n",
    "\n",
    "__duplicar columna__"
   ]
  },
  {
   "cell_type": "code",
   "execution_count": 12,
   "metadata": {},
   "outputs": [
    {
     "name": "stdout",
     "output_type": "stream",
     "text": [
      "+--------------------+--------------------+\n",
      "|               title|              title2|\n",
      "+--------------------+--------------------+\n",
      "|   Braveheart (1995)|   Braveheart (1995)|\n",
      "|Basketball Diarie...|Basketball Diarie...|\n",
      "|Godfather, The (1...|Godfather, The (1...|\n",
      "|Godfather: Part I...|Godfather: Part I...|\n",
      "|Dead Poets Societ...|Dead Poets Societ...|\n",
      "|Breakfast Club, T...|Breakfast Club, T...|\n",
      "|Sixth Sense, The ...|Sixth Sense, The ...|\n",
      "|Ferris Bueller's ...|Ferris Bueller's ...|\n",
      "|   Fight Club (1999)|   Fight Club (1999)|\n",
      "|      Memento (2000)|      Memento (2000)|\n",
      "+--------------------+--------------------+\n",
      "only showing top 10 rows\n",
      "\n"
     ]
    }
   ],
   "source": [
    "ratings_movies_df.withColumn('title2', F.col('title'))\\\n",
    "                 .select('title', 'title2')\\\n",
    "                 .show(10)"
   ]
  },
  {
   "cell_type": "code",
   "execution_count": 13,
   "metadata": {},
   "outputs": [
    {
     "name": "stdout",
     "output_type": "stream",
     "text": [
      "+--------------------+--------------------+\n",
      "|               title|              title2|\n",
      "+--------------------+--------------------+\n",
      "|   Braveheart (1995)|   Braveheart (1995)|\n",
      "|Basketball Diarie...|Basketball Diarie...|\n",
      "|Godfather, The (1...|Godfather, The (1...|\n",
      "|Godfather: Part I...|Godfather: Part I...|\n",
      "|Dead Poets Societ...|Dead Poets Societ...|\n",
      "|Breakfast Club, T...|Breakfast Club, T...|\n",
      "|Sixth Sense, The ...|Sixth Sense, The ...|\n",
      "|Ferris Bueller's ...|Ferris Bueller's ...|\n",
      "|   Fight Club (1999)|   Fight Club (1999)|\n",
      "|      Memento (2000)|      Memento (2000)|\n",
      "| Donnie Darko (2001)| Donnie Darko (2001)|\n",
      "|Igby Goes Down (2...|Igby Goes Down (2...|\n",
      "|Batman Begins (2005)|Batman Begins (2005)|\n",
      "|     Superbad (2007)|     Superbad (2007)|\n",
      "|Dark Knight, The ...|Dark Knight, The ...|\n",
      "|     Iron Man (2008)|     Iron Man (2008)|\n",
      "|    Star Trek (2009)|    Star Trek (2009)|\n",
      "|Harry Potter and ...|Harry Potter and ...|\n",
      "|Sherlock Holmes (...|Sherlock Holmes (...|\n",
      "|Harry Potter and ...|Harry Potter and ...|\n",
      "+--------------------+--------------------+\n",
      "only showing top 20 rows\n",
      "\n"
     ]
    }
   ],
   "source": [
    "ratings_movies_df.select(F.col('title'), \n",
    "                         F.col('title').alias('title2')).show()"
   ]
  },
  {
   "cell_type": "markdown",
   "metadata": {},
   "source": [
    "\n",
    "\n",
    "__operaciones aritmeticas__"
   ]
  },
  {
   "cell_type": "code",
   "execution_count": 14,
   "metadata": {},
   "outputs": [
    {
     "name": "stdout",
     "output_type": "stream",
     "text": [
      "+------+---------+\n",
      "|rating|rating_10|\n",
      "+------+---------+\n",
      "|   1.0|      2.0|\n",
      "|   4.5|      9.0|\n",
      "|   5.0|     10.0|\n",
      "|   5.0|     10.0|\n",
      "|   5.0|     10.0|\n",
      "|   4.0|      8.0|\n",
      "|   4.5|      9.0|\n",
      "|   5.0|     10.0|\n",
      "|   4.0|      8.0|\n",
      "|   4.0|      8.0|\n",
      "+------+---------+\n",
      "only showing top 10 rows\n",
      "\n"
     ]
    }
   ],
   "source": [
    "ratings_movies_df.withColumn('rating_10', F.col('rating') * 2)\\\n",
    "                 .select('rating', 'rating_10')\\\n",
    "                 .show(10)"
   ]
  },
  {
   "cell_type": "code",
   "execution_count": 15,
   "metadata": {},
   "outputs": [
    {
     "name": "stdout",
     "output_type": "stream",
     "text": [
      "+------+-------+----------+\n",
      "|rating|rating2|rating_avg|\n",
      "+------+-------+----------+\n",
      "|   1.0|    4.0|       2.5|\n",
      "|   4.5|    4.0|      4.25|\n",
      "|   5.0|    4.0|       4.5|\n",
      "|   5.0|    4.0|       4.5|\n",
      "|   5.0|    4.0|       4.5|\n",
      "|   4.0|    4.0|       4.0|\n",
      "|   4.5|    4.0|      4.25|\n",
      "|   5.0|    4.0|       4.5|\n",
      "|   4.0|    4.0|       4.0|\n",
      "|   4.0|    4.0|       4.0|\n",
      "+------+-------+----------+\n",
      "only showing top 10 rows\n",
      "\n"
     ]
    }
   ],
   "source": [
    "ratings_movies_df.withColumn('rating_avg', (F.col('rating') + F.col('rating2')) /  2)\\\n",
    "                 .select('rating', 'rating2', 'rating_avg')\\\n",
    "                 .show(10)"
   ]
  },
  {
   "cell_type": "code",
   "execution_count": 16,
   "metadata": {},
   "outputs": [
    {
     "name": "stdout",
     "output_type": "stream",
     "text": [
      "+------+-------+-----------+\n",
      "|rating|rating2|mean_rating|\n",
      "+------+-------+-----------+\n",
      "|   1.0|    4.0|        2.5|\n",
      "|   4.5|    4.0|       4.25|\n",
      "|   5.0|    4.0|        4.5|\n",
      "|   5.0|    4.0|        4.5|\n",
      "|   5.0|    4.0|        4.5|\n",
      "|   4.0|    4.0|        4.0|\n",
      "|   4.5|    4.0|       4.25|\n",
      "|   5.0|    4.0|        4.5|\n",
      "|   4.0|    4.0|        4.0|\n",
      "|   4.0|    4.0|        4.0|\n",
      "|   5.0|    4.0|        4.5|\n",
      "|   5.0|    4.0|        4.5|\n",
      "|   4.0|    4.0|        4.0|\n",
      "|   3.5|    4.0|       3.75|\n",
      "|   4.0|    4.0|        4.0|\n",
      "|   5.0|    4.0|        4.5|\n",
      "|   5.0|    4.0|        4.5|\n",
      "|   5.0|    4.0|        4.5|\n",
      "|   5.0|    4.0|        4.5|\n",
      "|   5.0|    4.0|        4.5|\n",
      "+------+-------+-----------+\n",
      "only showing top 20 rows\n",
      "\n"
     ]
    }
   ],
   "source": [
    "ratings_movies_df.selectExpr('rating', \n",
    "                             'rating2', \n",
    "                             '(rating + rating2)/2 as mean_rating').show()"
   ]
  },
  {
   "cell_type": "markdown",
   "metadata": {},
   "source": [
    " \n",
    "\n",
    "__if/else__\n",
    "\n",
    "Crea la columna `kind_rating`, que sea 'high' en caso de que rating sea mayor que 4, y 'low' en caso contrario."
   ]
  },
  {
   "cell_type": "code",
   "execution_count": 17,
   "metadata": {},
   "outputs": [
    {
     "name": "stdout",
     "output_type": "stream",
     "text": [
      "+-------+------+------+----------+--------------------+--------------------+----------------+-------+-----------+\n",
      "|movieId|userId|rating| timestamp|               title|              genres|             now|rating2|kind_rating|\n",
      "+-------+------+------+----------+--------------------+--------------------+----------------+-------+-----------+\n",
      "|    110|     1|   1.0|1425941529|   Braveheart (1995)|    Action|Drama|War|2019/01/21 14:08|    4.0|        low|\n",
      "|    147|     1|   4.5|1425942435|Basketball Diarie...|               Drama|2019/01/21 14:08|    4.0|       high|\n",
      "|    858|     1|   5.0|1425941523|Godfather, The (1...|         Crime|Drama|2019/01/21 14:08|    4.0|       high|\n",
      "|   1221|     1|   5.0|1425941546|Godfather: Part I...|         Crime|Drama|2019/01/21 14:08|    4.0|       high|\n",
      "|   1246|     1|   5.0|1425941556|Dead Poets Societ...|               Drama|2019/01/21 14:08|    4.0|       high|\n",
      "|   1968|     1|   4.0|1425942148|Breakfast Club, T...|        Comedy|Drama|2019/01/21 14:08|    4.0|       high|\n",
      "|   2762|     1|   4.5|1425941300|Sixth Sense, The ...|Drama|Horror|Mystery|2019/01/21 14:08|    4.0|       high|\n",
      "|   2918|     1|   5.0|1425941593|Ferris Bueller's ...|              Comedy|2019/01/21 14:08|    4.0|       high|\n",
      "|   2959|     1|   4.0|1425941601|   Fight Club (1999)|Action|Crime|Dram...|2019/01/21 14:08|    4.0|       high|\n",
      "|   4226|     1|   4.0|1425942228|      Memento (2000)|    Mystery|Thriller|2019/01/21 14:08|    4.0|       high|\n",
      "+-------+------+------+----------+--------------------+--------------------+----------------+-------+-----------+\n",
      "only showing top 10 rows\n",
      "\n"
     ]
    }
   ],
   "source": [
    "ratings_movies_df.withColumn('kind_rating', \n",
    "                              F.when(F.col('rating') >= 4, 'high').otherwise('low')).show(10)"
   ]
  },
  {
   "cell_type": "code",
   "execution_count": 10,
   "metadata": {},
   "outputs": [
    {
     "data": {
      "text/plain": [
       "[3.01, 3.38, 3.67]"
      ]
     },
     "execution_count": 10,
     "metadata": {},
     "output_type": "execute_result"
    }
   ],
   "source": [
    "quants = list(movie_rates.select(F.expr('percentile_approx(mean_rating, array(.25, .5, .75))')).first())[0]\n",
    "quants"
   ]
  },
  {
   "cell_type": "code",
   "execution_count": 17,
   "metadata": {},
   "outputs": [
    {
     "name": "stdout",
     "output_type": "stream",
     "text": [
      "+-------+-----------+-----------+---------+\n",
      "|movieId|mean_rating|total_rates|  quality|\n",
      "+-------+-----------+-----------+---------+\n",
      "| 159817|       4.48|        754|very good|\n",
      "|    318|       4.43|      91082|very good|\n",
      "| 170705|       4.39|        284|very good|\n",
      "|    858|       4.34|      57070|very good|\n",
      "|     50|        4.3|      59271|very good|\n",
      "|    527|       4.27|      67662|very good|\n",
      "| 100044|       4.27|        197|very good|\n",
      "|   2019|       4.26|      13994|very good|\n",
      "|   1221|       4.26|      36679|very good|\n",
      "|   1203|       4.23|      16896|very good|\n",
      "|   2959|       4.23|      60024|very good|\n",
      "|    904|       4.23|      21335|very good|\n",
      "| 166024|       4.23|        183|very good|\n",
      "|   1193|       4.23|      40103|very good|\n",
      "| 163809|       4.22|        157|very good|\n",
      "| 142115|       4.22|        273|very good|\n",
      "|    912|       4.21|      30043|very good|\n",
      "|   1212|       4.21|       7676|very good|\n",
      "|    908|       4.21|      19013|very good|\n",
      "|    750|       4.21|      28280|very good|\n",
      "+-------+-----------+-----------+---------+\n",
      "only showing top 20 rows\n",
      "\n"
     ]
    }
   ],
   "source": [
    "movie_rates.withColumn('quality', (F.when(F.col('mean_rating') < quants[0], 'bad')\n",
    "                                  .when(F.col('mean_rating') < quants[1], 'regular')\n",
    "                                  .when(F.col('mean_rating') < quants[2], 'good')\n",
    "                                  .otherwise('very good'))).show()"
   ]
  },
  {
   "cell_type": "code",
   "execution_count": 9,
   "metadata": {},
   "outputs": [
    {
     "name": "stdout",
     "output_type": "stream",
     "text": [
      "+-------+-----------+-----------+\n",
      "|movieId|mean_rating|total_rates|\n",
      "+-------+-----------+-----------+\n",
      "| 159817|       4.48|        754|\n",
      "|    318|       4.43|      91082|\n",
      "| 170705|       4.39|        284|\n",
      "|    858|       4.34|      57070|\n",
      "|     50|        4.3|      59271|\n",
      "+-------+-----------+-----------+\n",
      "only showing top 5 rows\n",
      "\n"
     ]
    }
   ],
   "source": [
    "movie_rates = (ratings_movies_df.groupBy('movieId')\n",
    " .agg(F.round(F.avg(F.col('rating')), 2).alias('mean_rating'), \n",
    "      F.count('*').alias('total_rates'))\n",
    " .filter(F.col('total_rates') > 100)\n",
    " .orderBy(F.col('mean_rating').desc())\n",
    ")\n",
    "\n",
    "movie_rates.show(5)"
   ]
  },
  {
   "cell_type": "code",
   "execution_count": 28,
   "metadata": {},
   "outputs": [],
   "source": [
    "# 1.- Clasificar movies dependiendo mean_rating (q1, q2, q3)\n",
    "# 2.- Obtener distribucion de generos por grupo (opcional)"
   ]
  },
  {
   "cell_type": "markdown",
   "metadata": {},
   "source": [
    "\n",
    "\n",
    "Se pueden concatenar multiples sentencias _when_. Esta vez, sobreescribe la columna `kind_rating` para crear un nivel intermedio, donde si es mayor que dos y menor que 4, `kind_rating` sea 'med'."
   ]
  },
  {
   "cell_type": "code",
   "execution_count": null,
   "metadata": {},
   "outputs": [],
   "source": [
    "ratings_movies_df.withColumn('kind_rating', \n",
    "                              F.when(F.col('rating') >= 4, 'high')\\\n",
    "                               .when(F.col('rating') >= 2, 'med')\\\n",
    "                               .otherwise('low')).show(20)"
   ]
  },
  {
   "cell_type": "markdown",
   "metadata": {},
   "source": [
    "\n",
    "\n",
    "__operaciones con strings__\n",
    "\n",
    "Pon en mayúsculas todos los títulos de las películas"
   ]
  },
  {
   "cell_type": "code",
   "execution_count": 18,
   "metadata": {
    "scrolled": false
   },
   "outputs": [
    {
     "name": "stdout",
     "output_type": "stream",
     "text": [
      "+-------+------+------+----------+--------------------+----------------+----------------+-------+--------------------+\n",
      "|movieId|userId|rating| timestamp|               title|          genres|             now|rating2|         title upper|\n",
      "+-------+------+------+----------+--------------------+----------------+----------------+-------+--------------------+\n",
      "|    110|     1|   1.0|1425941529|   Braveheart (1995)|Action|Drama|War|2019/01/21 14:08|    4.0|   BRAVEHEART (1995)|\n",
      "|    147|     1|   4.5|1425942435|Basketball Diarie...|           Drama|2019/01/21 14:08|    4.0|BASKETBALL DIARIE...|\n",
      "|    858|     1|   5.0|1425941523|Godfather, The (1...|     Crime|Drama|2019/01/21 14:08|    4.0|GODFATHER, THE (1...|\n",
      "+-------+------+------+----------+--------------------+----------------+----------------+-------+--------------------+\n",
      "only showing top 3 rows\n",
      "\n"
     ]
    }
   ],
   "source": [
    "ratings_movies_df.withColumn('title upper', F.upper(F.col('title'))).show(3)"
   ]
  },
  {
   "cell_type": "markdown",
   "metadata": {},
   "source": [
    "\n",
    "\n",
    "Extrae los 10 primeros caracteres de la columna `title`"
   ]
  },
  {
   "cell_type": "code",
   "execution_count": 19,
   "metadata": {},
   "outputs": [
    {
     "name": "stdout",
     "output_type": "stream",
     "text": [
      "+-------------------------------+-----------+\n",
      "|title                          |short_title|\n",
      "+-------------------------------+-----------+\n",
      "|Braveheart (1995)              |Braveheart |\n",
      "|Basketball Diaries, The (1995) |Basketball |\n",
      "|Godfather, The (1972)          |Godfather, |\n",
      "|Godfather: Part II, The (1974) |Godfather: |\n",
      "|Dead Poets Society (1989)      |Dead Poets |\n",
      "|Breakfast Club, The (1985)     |Breakfast  |\n",
      "|Sixth Sense, The (1999)        |Sixth Sens |\n",
      "|Ferris Bueller's Day Off (1986)|Ferris Bue |\n",
      "|Fight Club (1999)              |Fight Club |\n",
      "|Memento (2000)                 |Memento (2 |\n",
      "+-------------------------------+-----------+\n",
      "only showing top 10 rows\n",
      "\n"
     ]
    }
   ],
   "source": [
    "ratings_movies_df.withColumn('short_title', F.substring(F.col('title'), 0, 10))\\\n",
    "                 .select('title', 'short_title')\\\n",
    "                 .show(10, False)"
   ]
  },
  {
   "cell_type": "markdown",
   "metadata": {},
   "source": [
    "\n",
    "\n",
    "Separa los diferentes géneros de la columna `genres` para obtener una lista, usando el separador '|'"
   ]
  },
  {
   "cell_type": "code",
   "execution_count": 20,
   "metadata": {},
   "outputs": [
    {
     "name": "stdout",
     "output_type": "stream",
     "text": [
      "+-------+------+------+----------+--------------------+--------------------+----------------+-------+\n",
      "|movieId|userId|rating| timestamp|               title|              genres|             now|rating2|\n",
      "+-------+------+------+----------+--------------------+--------------------+----------------+-------+\n",
      "|    110|     1|   1.0|1425941529|   Braveheart (1995)|[Action, Drama, War]|2019/01/21 14:08|    4.0|\n",
      "|    147|     1|   4.5|1425942435|Basketball Diarie...|             [Drama]|2019/01/21 14:08|    4.0|\n",
      "|    858|     1|   5.0|1425941523|Godfather, The (1...|      [Crime, Drama]|2019/01/21 14:08|    4.0|\n",
      "|   1221|     1|   5.0|1425941546|Godfather: Part I...|      [Crime, Drama]|2019/01/21 14:08|    4.0|\n",
      "+-------+------+------+----------+--------------------+--------------------+----------------+-------+\n",
      "only showing top 4 rows\n",
      "\n"
     ]
    }
   ],
   "source": [
    "ratings_movies_df.withColumn('genres', F.split(F.col('genres'), '\\|')).show(4)"
   ]
  },
  {
   "cell_type": "code",
   "execution_count": 22,
   "metadata": {},
   "outputs": [
    {
     "name": "stdout",
     "output_type": "stream",
     "text": [
      "+-------+------+------+----------+--------------------+--------------------+----------------+-------+\n",
      "|movieId|userId|rating| timestamp|               title|              genres|             now|rating2|\n",
      "+-------+------+------+----------+--------------------+--------------------+----------------+-------+\n",
      "|   2762|     1|   4.5|1425941300|Sixth Sense, The ...|[Drama, Horror, M...|2019/01/21 14:08|    4.0|\n",
      "|   1644|     4|   3.0|1042674845|I Know What You D...|[Horror, Mystery,...|2019/01/21 14:08|    4.0|\n",
      "|   2338|     4|   2.0|1042674886|I Still Know What...|[Horror, Mystery,...|2019/01/21 14:08|    4.0|\n",
      "|   2710|     4|   2.0|1042668544|Blair Witch Proje...|[Drama, Horror, T...|2019/01/21 14:08|    4.0|\n",
      "|   2762|     4|   5.0|1042672546|Sixth Sense, The ...|[Drama, Horror, M...|2019/01/21 14:08|    4.0|\n",
      "|   3476|     4|   4.0|1042674436|Jacob's Ladder (1...|   [Horror, Mystery]|2019/01/21 14:08|    4.0|\n",
      "|   3798|     4|   4.0|1042672580|What Lies Beneath...|[Drama, Horror, M...|2019/01/21 14:08|    4.0|\n",
      "|   3908|     4|   2.0|1042672580|Urban Legends: Fi...|            [Horror]|2019/01/21 14:08|    4.0|\n",
      "|   5679|     4|   3.0|1042674579|    Ring, The (2002)|[Horror, Mystery,...|2019/01/21 14:08|    4.0|\n",
      "|   2163|     5|   2.0| 949424522|Attack of the Kil...|    [Comedy, Horror]|2019/01/21 14:08|    4.0|\n",
      "|   3535|     7|   5.0|1486253781|American Psycho (...|[Crime, Horror, M...|2019/01/21 14:08|    4.0|\n",
      "|    968|     8|   4.0|1013444101|Night of the Livi...|[Horror, Sci-Fi, ...|2019/01/21 14:08|    4.0|\n",
      "|   1037|     8|   3.0|1013444040|Lawnmower Man, Th...|[Action, Horror, ...|2019/01/21 14:08|    4.0|\n",
      "|   1339|     8|   1.0|1013442921|Dracula (Bram Sto...|[Fantasy, Horror,...|2019/01/21 14:08|    4.0|\n",
      "|   2762|     8|   2.0|1013442774|Sixth Sense, The ...|[Drama, Horror, M...|2019/01/21 14:08|    4.0|\n",
      "|   3016|     8|   3.0|1013443770|    Creepshow (1982)|            [Horror]|2019/01/21 14:08|    4.0|\n",
      "|   3660|     8|   4.0|1013443900|Puppet Master (1989)|[Horror, Sci-Fi, ...|2019/01/21 14:08|    4.0|\n",
      "|   3785|     8|   3.0|1013443796|  Scary Movie (2000)|    [Comedy, Horror]|2019/01/21 14:08|    4.0|\n",
      "|   4541|     8|   4.0|1013444101|Serpent and the R...|            [Horror]|2019/01/21 14:08|    4.0|\n",
      "|   2762|     9|   4.0|1073837125|Sixth Sense, The ...|[Drama, Horror, M...|2019/01/21 14:08|    4.0|\n",
      "+-------+------+------+----------+--------------------+--------------------+----------------+-------+\n",
      "only showing top 20 rows\n",
      "\n",
      "CPU times: user 1.86 ms, sys: 1.31 ms, total: 3.17 ms\n",
      "Wall time: 350 ms\n"
     ]
    }
   ],
   "source": [
    "%%time \n",
    "\n",
    "(ratings_movies_df\n",
    " .withColumn('genres', F.split(F.col('genres'), '\\|'))\n",
    " .filter(F.expr('array_contains(genres, \"Horror\")'))\n",
    ").show()"
   ]
  },
  {
   "cell_type": "code",
   "execution_count": 23,
   "metadata": {},
   "outputs": [
    {
     "name": "stdout",
     "output_type": "stream",
     "text": [
      "+-------+------+------+----------+--------------------+--------------------+----------------+-------+\n",
      "|movieId|userId|rating| timestamp|               title|              genres|             now|rating2|\n",
      "+-------+------+------+----------+--------------------+--------------------+----------------+-------+\n",
      "|   2762|     1|   4.5|1425941300|Sixth Sense, The ...|Drama|Horror|Mystery|2019/01/21 14:08|    4.0|\n",
      "|   1644|     4|   3.0|1042674845|I Know What You D...|Horror|Mystery|Th...|2019/01/21 14:08|    4.0|\n",
      "|   2338|     4|   2.0|1042674886|I Still Know What...|Horror|Mystery|Th...|2019/01/21 14:08|    4.0|\n",
      "|   2710|     4|   2.0|1042668544|Blair Witch Proje...|Drama|Horror|Thri...|2019/01/21 14:08|    4.0|\n",
      "|   2762|     4|   5.0|1042672546|Sixth Sense, The ...|Drama|Horror|Mystery|2019/01/21 14:08|    4.0|\n",
      "|   3476|     4|   4.0|1042674436|Jacob's Ladder (1...|      Horror|Mystery|2019/01/21 14:08|    4.0|\n",
      "|   3798|     4|   4.0|1042672580|What Lies Beneath...|Drama|Horror|Mystery|2019/01/21 14:08|    4.0|\n",
      "|   3908|     4|   2.0|1042672580|Urban Legends: Fi...|              Horror|2019/01/21 14:08|    4.0|\n",
      "|   5679|     4|   3.0|1042674579|    Ring, The (2002)|Horror|Mystery|Th...|2019/01/21 14:08|    4.0|\n",
      "|   2163|     5|   2.0| 949424522|Attack of the Kil...|       Comedy|Horror|2019/01/21 14:08|    4.0|\n",
      "|   3535|     7|   5.0|1486253781|American Psycho (...|Crime|Horror|Myst...|2019/01/21 14:08|    4.0|\n",
      "|    968|     8|   4.0|1013444101|Night of the Livi...|Horror|Sci-Fi|Thr...|2019/01/21 14:08|    4.0|\n",
      "|   1037|     8|   3.0|1013444040|Lawnmower Man, Th...|Action|Horror|Sci...|2019/01/21 14:08|    4.0|\n",
      "|   1339|     8|   1.0|1013442921|Dracula (Bram Sto...|Fantasy|Horror|Ro...|2019/01/21 14:08|    4.0|\n",
      "|   2762|     8|   2.0|1013442774|Sixth Sense, The ...|Drama|Horror|Mystery|2019/01/21 14:08|    4.0|\n",
      "|   3016|     8|   3.0|1013443770|    Creepshow (1982)|              Horror|2019/01/21 14:08|    4.0|\n",
      "|   3660|     8|   4.0|1013443900|Puppet Master (1989)|Horror|Sci-Fi|Thr...|2019/01/21 14:08|    4.0|\n",
      "|   3785|     8|   3.0|1013443796|  Scary Movie (2000)|       Comedy|Horror|2019/01/21 14:08|    4.0|\n",
      "|   4541|     8|   4.0|1013444101|Serpent and the R...|              Horror|2019/01/21 14:08|    4.0|\n",
      "|   2762|     9|   4.0|1073837125|Sixth Sense, The ...|Drama|Horror|Mystery|2019/01/21 14:08|    4.0|\n",
      "+-------+------+------+----------+--------------------+--------------------+----------------+-------+\n",
      "only showing top 20 rows\n",
      "\n",
      "CPU times: user 1.27 ms, sys: 1.05 ms, total: 2.32 ms\n",
      "Wall time: 272 ms\n"
     ]
    }
   ],
   "source": [
    "%%time\n",
    "\n",
    "ratings_movies_df.filter(F.col('genres').like('%Horror%')).show()"
   ]
  },
  {
   "cell_type": "markdown",
   "metadata": {},
   "source": [
    "\n",
    "\n",
    "Crea una nueva columna `1st_genre` seleccionando el primer elemento de la lista del código anterior"
   ]
  },
  {
   "cell_type": "code",
   "execution_count": 24,
   "metadata": {},
   "outputs": [
    {
     "name": "stdout",
     "output_type": "stream",
     "text": [
      "+---------------------------+---------+\n",
      "|genres                     |1st_genre|\n",
      "+---------------------------+---------+\n",
      "|Action|Drama|War           |Action   |\n",
      "|Drama                      |Drama    |\n",
      "|Crime|Drama                |Crime    |\n",
      "|Crime|Drama                |Crime    |\n",
      "|Drama                      |Drama    |\n",
      "|Comedy|Drama               |Comedy   |\n",
      "|Drama|Horror|Mystery       |Drama    |\n",
      "|Comedy                     |Comedy   |\n",
      "|Action|Crime|Drama|Thriller|Action   |\n",
      "|Mystery|Thriller           |Mystery  |\n",
      "+---------------------------+---------+\n",
      "only showing top 10 rows\n",
      "\n"
     ]
    }
   ],
   "source": [
    "ratings_movies_df.withColumn('1st_genre', F.split(F.col('genres'), '\\|')[0])\\\n",
    "                 .select('genres', '1st_genre')\\\n",
    "                 .show(10, False)"
   ]
  },
  {
   "cell_type": "markdown",
   "metadata": {},
   "source": [
    "\n",
    "\n",
    "Reemplaza el caracter '|' por '-' en la columna `genres`"
   ]
  },
  {
   "cell_type": "code",
   "execution_count": 25,
   "metadata": {},
   "outputs": [
    {
     "name": "stdout",
     "output_type": "stream",
     "text": [
      "+-------------------------------+---------------------------+\n",
      "|title                          |genres                     |\n",
      "+-------------------------------+---------------------------+\n",
      "|Braveheart (1995)              |Action-Drama-War           |\n",
      "|Basketball Diaries, The (1995) |Drama                      |\n",
      "|Godfather, The (1972)          |Crime-Drama                |\n",
      "|Godfather: Part II, The (1974) |Crime-Drama                |\n",
      "|Dead Poets Society (1989)      |Drama                      |\n",
      "|Breakfast Club, The (1985)     |Comedy-Drama               |\n",
      "|Sixth Sense, The (1999)        |Drama-Horror-Mystery       |\n",
      "|Ferris Bueller's Day Off (1986)|Comedy                     |\n",
      "|Fight Club (1999)              |Action-Crime-Drama-Thriller|\n",
      "|Memento (2000)                 |Mystery-Thriller           |\n",
      "+-------------------------------+---------------------------+\n",
      "only showing top 10 rows\n",
      "\n"
     ]
    }
   ],
   "source": [
    "ratings_movies_df.withColumn('genres', F.regexp_replace(F.col('genres'), '\\|', '-'))\\\n",
    "                 .select('title', 'genres')\\\n",
    "                 .show(10, truncate=False)"
   ]
  },
  {
   "cell_type": "markdown",
   "metadata": {},
   "source": [
    "\n",
    "\n",
    "_Con expresiones regulares_\n",
    "\n",
    "https://regexr.com/"
   ]
  },
  {
   "cell_type": "code",
   "execution_count": null,
   "metadata": {},
   "outputs": [],
   "source": []
  },
  {
   "cell_type": "code",
   "execution_count": 29,
   "metadata": {},
   "outputs": [
    {
     "name": "stdout",
     "output_type": "stream",
     "text": [
      "+------------------------------+\n",
      "|title                         |\n",
      "+------------------------------+\n",
      "|Braveheart (1995)             |\n",
      "|Basketball Diaries, The (1995)|\n",
      "|Godfather, The (1972)         |\n",
      "|Godfather: Part II, The (1974)|\n",
      "|Dead Poets Society (1989)     |\n",
      "+------------------------------+\n",
      "only showing top 5 rows\n",
      "\n"
     ]
    }
   ],
   "source": [
    "ratings_movies_df.select(F.col('title')).show(5, False)"
   ]
  },
  {
   "cell_type": "code",
   "execution_count": 31,
   "metadata": {},
   "outputs": [
    {
     "name": "stdout",
     "output_type": "stream",
     "text": [
      "+-------+------+------+----------+--------------------+----------------+----------------+-------+----+\n",
      "|movieId|userId|rating| timestamp|               title|          genres|             now|rating2|year|\n",
      "+-------+------+------+----------+--------------------+----------------+----------------+-------+----+\n",
      "|    110|     1|   1.0|1425941529|   Braveheart (1995)|Action|Drama|War|2019/01/21 14:08|    4.0|1995|\n",
      "|    147|     1|   4.5|1425942435|Basketball Diarie...|           Drama|2019/01/21 14:08|    4.0|1995|\n",
      "|    858|     1|   5.0|1425941523|Godfather, The (1...|     Crime|Drama|2019/01/21 14:08|    4.0|1972|\n",
      "|   1221|     1|   5.0|1425941546|Godfather: Part I...|     Crime|Drama|2019/01/21 14:08|    4.0|1974|\n",
      "|   1246|     1|   5.0|1425941556|Dead Poets Societ...|           Drama|2019/01/21 14:08|    4.0|1989|\n",
      "+-------+------+------+----------+--------------------+----------------+----------------+-------+----+\n",
      "only showing top 5 rows\n",
      "\n"
     ]
    }
   ],
   "source": [
    "ratings_movies_df = ratings_movies_df.withColumn('year', \n",
    "                                                 F.regexp_extract(F.col('title'),  '\\((\\d{4})\\)', 1))\n",
    "\n",
    "ratings_movies_df.show(5)"
   ]
  },
  {
   "cell_type": "markdown",
   "metadata": {},
   "source": [
    "\n",
    "\n",
    "## Casting\n",
    "\n",
    "Con el método `withColumn` también es posible convertir el tipo de una columna con la función `cast`. Es importante saber que en caso de no poder convertirse (por ejemplo una letra a número) no saltará error y el resultado será un valor nulo."
   ]
  },
  {
   "cell_type": "code",
   "execution_count": 33,
   "metadata": {},
   "outputs": [
    {
     "name": "stdout",
     "output_type": "stream",
     "text": [
      "root\n",
      " |-- movieId: integer (nullable = true)\n",
      " |-- userId: integer (nullable = true)\n",
      " |-- rating: double (nullable = true)\n",
      " |-- timestamp: integer (nullable = true)\n",
      " |-- title: string (nullable = true)\n",
      " |-- genres: string (nullable = true)\n",
      " |-- now: string (nullable = false)\n",
      " |-- rating2: double (nullable = false)\n",
      " |-- year: string (nullable = true)\n",
      "\n"
     ]
    }
   ],
   "source": [
    "ratings_movies_df.printSchema()"
   ]
  },
  {
   "cell_type": "markdown",
   "metadata": {},
   "source": [
    "\n",
    "\n",
    "Cambia el formato de `year` a entero, y `movieId` a string."
   ]
  },
  {
   "cell_type": "code",
   "execution_count": 34,
   "metadata": {},
   "outputs": [
    {
     "name": "stdout",
     "output_type": "stream",
     "text": [
      "+-------+------+------+----------+--------------------+----------------+----------------+-------+----+\n",
      "|movieId|userId|rating| timestamp|               title|          genres|             now|rating2|year|\n",
      "+-------+------+------+----------+--------------------+----------------+----------------+-------+----+\n",
      "|    110|     1|   1.0|1425941529|   Braveheart (1995)|Action|Drama|War|2019/01/21 14:08|    4.0|1995|\n",
      "|    147|     1|   4.5|1425942435|Basketball Diarie...|           Drama|2019/01/21 14:08|    4.0|1995|\n",
      "|    858|     1|   5.0|1425941523|Godfather, The (1...|     Crime|Drama|2019/01/21 14:08|    4.0|1972|\n",
      "|   1221|     1|   5.0|1425941546|Godfather: Part I...|     Crime|Drama|2019/01/21 14:08|    4.0|1974|\n",
      "|   1246|     1|   5.0|1425941556|Dead Poets Societ...|           Drama|2019/01/21 14:08|    4.0|1989|\n",
      "+-------+------+------+----------+--------------------+----------------+----------------+-------+----+\n",
      "only showing top 5 rows\n",
      "\n"
     ]
    }
   ],
   "source": [
    "ratings_movies_df = ratings_movies_df.withColumn('year', F.col('year').cast('int'))\n",
    "ratings_movies_df.show(5)"
   ]
  },
  {
   "cell_type": "code",
   "execution_count": 35,
   "metadata": {},
   "outputs": [],
   "source": [
    "ratings_movies_df = ratings_movies_df.withColumn('movieId', F.col('movieId').cast('string'))"
   ]
  },
  {
   "cell_type": "code",
   "execution_count": 36,
   "metadata": {},
   "outputs": [
    {
     "name": "stdout",
     "output_type": "stream",
     "text": [
      "root\n",
      " |-- movieId: string (nullable = true)\n",
      " |-- userId: integer (nullable = true)\n",
      " |-- rating: double (nullable = true)\n",
      " |-- timestamp: integer (nullable = true)\n",
      " |-- title: string (nullable = true)\n",
      " |-- genres: string (nullable = true)\n",
      " |-- now: string (nullable = false)\n",
      " |-- rating2: double (nullable = false)\n",
      " |-- year: integer (nullable = true)\n",
      "\n"
     ]
    }
   ],
   "source": [
    "ratings_movies_df.printSchema()"
   ]
  },
  {
   "cell_type": "code",
   "execution_count": 37,
   "metadata": {},
   "outputs": [
    {
     "name": "stdout",
     "output_type": "stream",
     "text": [
      "+-------+------+------+----------+--------------------+----------------+----------------+-------+----+-----+\n",
      "|movieId|userId|rating| timestamp|               title|          genres|             now|rating2|year|error|\n",
      "+-------+------+------+----------+--------------------+----------------+----------------+-------+----+-----+\n",
      "|    110|     1|   1.0|1425941529|   Braveheart (1995)|Action|Drama|War|2019/01/21 14:08|    4.0|1995| null|\n",
      "|    147|     1|   4.5|1425942435|Basketball Diarie...|           Drama|2019/01/21 14:08|    4.0|1995| null|\n",
      "|    858|     1|   5.0|1425941523|Godfather, The (1...|     Crime|Drama|2019/01/21 14:08|    4.0|1972| null|\n",
      "|   1221|     1|   5.0|1425941546|Godfather: Part I...|     Crime|Drama|2019/01/21 14:08|    4.0|1974| null|\n",
      "|   1246|     1|   5.0|1425941556|Dead Poets Societ...|           Drama|2019/01/21 14:08|    4.0|1989| null|\n",
      "+-------+------+------+----------+--------------------+----------------+----------------+-------+----+-----+\n",
      "only showing top 5 rows\n",
      "\n"
     ]
    }
   ],
   "source": [
    "ratings_movies_df.withColumn('error', F.col('title').cast('int')).show(5)"
   ]
  },
  {
   "cell_type": "markdown",
   "metadata": {},
   "source": [
    "\n",
    "\n",
    "## UDF (User Defined Functions)\n",
    "\n",
    "Cuando no es posible definir la operación con las funciones de spark se pueden crear funciones propias usando la UDFs. Primero se crea  una función de Python normal y posteriormente se crea la UDFs. Es necesario indicar el tipo de la columna de salida en la UDF."
   ]
  },
  {
   "cell_type": "code",
   "execution_count": 39,
   "metadata": {},
   "outputs": [],
   "source": [
    "from pyspark.sql.types import StringType, IntegerType, DoubleType, DateType"
   ]
  },
  {
   "cell_type": "markdown",
   "metadata": {},
   "source": [
    "\n",
    "\n",
    "_Aumenta el rating en un 15% para cada película más antigua que 2000 (el máximo siempre es 5)._"
   ]
  },
  {
   "cell_type": "code",
   "execution_count": 40,
   "metadata": {},
   "outputs": [],
   "source": [
    "def increase_rating(year, rating):\n",
    "    \n",
    "    if year < 2000:\n",
    "        rating = min(rating * 1.15, 5.0)\n",
    "    \n",
    "    return rating"
   ]
  },
  {
   "cell_type": "code",
   "execution_count": 41,
   "metadata": {},
   "outputs": [],
   "source": [
    "increase_rating_udf = F.udf(increase_rating, DoubleType())"
   ]
  },
  {
   "cell_type": "code",
   "execution_count": 42,
   "metadata": {},
   "outputs": [
    {
     "name": "stdout",
     "output_type": "stream",
     "text": [
      "+--------------------+----+------+----------+\n",
      "|               title|year|rating|rating_inc|\n",
      "+--------------------+----+------+----------+\n",
      "|   Braveheart (1995)|1995|   1.0|      1.15|\n",
      "|Basketball Diarie...|1995|   4.5|       5.0|\n",
      "|Godfather, The (1...|1972|   5.0|       5.0|\n",
      "|Godfather: Part I...|1974|   5.0|       5.0|\n",
      "|Dead Poets Societ...|1989|   5.0|       5.0|\n",
      "|Breakfast Club, T...|1985|   4.0|       4.6|\n",
      "|Sixth Sense, The ...|1999|   4.5|       5.0|\n",
      "|Ferris Bueller's ...|1986|   5.0|       5.0|\n",
      "|   Fight Club (1999)|1999|   4.0|       4.6|\n",
      "|      Memento (2000)|2000|   4.0|       4.0|\n",
      "| Donnie Darko (2001)|2001|   5.0|       5.0|\n",
      "|Igby Goes Down (2...|2002|   5.0|       5.0|\n",
      "|Batman Begins (2005)|2005|   4.0|       4.0|\n",
      "|     Superbad (2007)|2007|   3.5|       3.5|\n",
      "|Dark Knight, The ...|2008|   4.0|       4.0|\n",
      "|     Iron Man (2008)|2008|   5.0|       5.0|\n",
      "|    Star Trek (2009)|2009|   5.0|       5.0|\n",
      "|Harry Potter and ...|2009|   5.0|       5.0|\n",
      "|Sherlock Holmes (...|2009|   5.0|       5.0|\n",
      "|Harry Potter and ...|2010|   5.0|       5.0|\n",
      "+--------------------+----+------+----------+\n",
      "only showing top 20 rows\n",
      "\n"
     ]
    }
   ],
   "source": [
    "ratings_movies_df.withColumn('rating_inc', \n",
    "                              increase_rating_udf(F.col('year'), F.col('rating')))\\\n",
    "                 .select('title', 'year', 'rating', 'rating_inc')\\\n",
    "                 .show(20)"
   ]
  },
  {
   "cell_type": "code",
   "execution_count": 43,
   "metadata": {},
   "outputs": [
    {
     "name": "stdout",
     "output_type": "stream",
     "text": [
      "+-------------------------------+------+----------+\n",
      "|title                          |rating|rating_len|\n",
      "+-------------------------------+------+----------+\n",
      "|Braveheart (1995)              |1.0   |17        |\n",
      "|Basketball Diaries, The (1995) |4.5   |30        |\n",
      "|Godfather, The (1972)          |5.0   |21        |\n",
      "|Godfather: Part II, The (1974) |5.0   |30        |\n",
      "|Dead Poets Society (1989)      |5.0   |25        |\n",
      "|Breakfast Club, The (1985)     |4.0   |26        |\n",
      "|Sixth Sense, The (1999)        |4.5   |23        |\n",
      "|Ferris Bueller's Day Off (1986)|5.0   |31        |\n",
      "|Fight Club (1999)              |4.0   |17        |\n",
      "|Memento (2000)                 |4.0   |14        |\n",
      "+-------------------------------+------+----------+\n",
      "only showing top 10 rows\n",
      "\n"
     ]
    }
   ],
   "source": [
    "# Generar una nueva columna rating_len = longitud del titulo (usando udfs)\n",
    "\n",
    "# 1.- Definir funcion\n",
    "str_len = lambda x: len(x)\n",
    "\n",
    "# 2.- Definir udf\n",
    "str_len_udf = F.udf(str_len, IntegerType())\n",
    "\n",
    "# 3.- Aplicar udf\n",
    "(ratings_movies_df\n",
    " .withColumn('rating_len', str_len_udf(F.col('title')))\n",
    " .select(F.col('title'), F.col('rating'), F.col('rating_len'))\n",
    ").show(10, False)"
   ]
  },
  {
   "cell_type": "markdown",
   "metadata": {},
   "source": [
    "\n",
    "\n",
    "Extrae el año de la película sin usar expresiones regulares."
   ]
  },
  {
   "cell_type": "code",
   "execution_count": 44,
   "metadata": {},
   "outputs": [],
   "source": [
    "title = 'Trainspotting (1996)'"
   ]
  },
  {
   "cell_type": "code",
   "execution_count": 45,
   "metadata": {},
   "outputs": [
    {
     "data": {
      "text/plain": [
       "'Trainspotting 1996'"
      ]
     },
     "execution_count": 45,
     "metadata": {},
     "output_type": "execute_result"
    }
   ],
   "source": [
    "title.replace(')', '').replace('(', '')"
   ]
  },
  {
   "cell_type": "code",
   "execution_count": 46,
   "metadata": {},
   "outputs": [
    {
     "data": {
      "text/plain": [
       "1996"
      ]
     },
     "execution_count": 46,
     "metadata": {},
     "output_type": "execute_result"
    }
   ],
   "source": [
    "year = title.replace(')', '').replace('(', '').split()[-1]\n",
    "year = int(year)\n",
    "year"
   ]
  },
  {
   "cell_type": "code",
   "execution_count": 47,
   "metadata": {},
   "outputs": [],
   "source": [
    "def get_year(title): \n",
    "    \n",
    "    year = title.replace(')', '').replace('(', '').split()[-1]\n",
    "    if year.isnumeric():\n",
    "        year = int(year)\n",
    "    else:\n",
    "        year = -1\n",
    "    \n",
    "    return year"
   ]
  },
  {
   "cell_type": "code",
   "execution_count": 48,
   "metadata": {},
   "outputs": [],
   "source": [
    "get_year_udf = F.udf(get_year, IntegerType())"
   ]
  },
  {
   "cell_type": "code",
   "execution_count": 49,
   "metadata": {},
   "outputs": [
    {
     "name": "stdout",
     "output_type": "stream",
     "text": [
      "+-------------------------------+----+-----+\n",
      "|title                          |year|year2|\n",
      "+-------------------------------+----+-----+\n",
      "|Braveheart (1995)              |1995|1995 |\n",
      "|Basketball Diaries, The (1995) |1995|1995 |\n",
      "|Godfather, The (1972)          |1972|1972 |\n",
      "|Godfather: Part II, The (1974) |1974|1974 |\n",
      "|Dead Poets Society (1989)      |1989|1989 |\n",
      "|Breakfast Club, The (1985)     |1985|1985 |\n",
      "|Sixth Sense, The (1999)        |1999|1999 |\n",
      "|Ferris Bueller's Day Off (1986)|1986|1986 |\n",
      "|Fight Club (1999)              |1999|1999 |\n",
      "|Memento (2000)                 |2000|2000 |\n",
      "+-------------------------------+----+-----+\n",
      "only showing top 10 rows\n",
      "\n"
     ]
    }
   ],
   "source": [
    "ratings_movies_df.withColumn('year2', get_year_udf(F.col('title')))\\\n",
    "                 .select('title', 'year', 'year2').show(10, truncate=False)"
   ]
  },
  {
   "cell_type": "code",
   "execution_count": 53,
   "metadata": {},
   "outputs": [
    {
     "name": "stdout",
     "output_type": "stream",
     "text": [
      "+------------------------------+-------------+\n",
      "|title                         |unique_vowels|\n",
      "+------------------------------+-------------+\n",
      "|Braveheart (1995)             |2            |\n",
      "|Basketball Diaries, The (1995)|3            |\n",
      "|Godfather, The (1972)         |3            |\n",
      "|Godfather: Part II, The (1974)|4            |\n",
      "|Dead Poets Society (1989)     |4            |\n",
      "+------------------------------+-------------+\n",
      "only showing top 5 rows\n",
      "\n"
     ]
    }
   ],
   "source": [
    "# 1.- Generar udf que obtenga el numero de vocales unicas dentro del titulo\n",
    "# 2.- (Opcional) Basketball Diaries, The (1995) -> The Basketball Diaries 95\n",
    "\n",
    "\n",
    "######\n",
    "\n",
    "\n",
    "# Definir funcion\n",
    "uniq_v = lambda x: len(set(x.lower()) & set('aeiou'))\n",
    "\n",
    "# Definir UDF\n",
    "uniq_v_udf = F.udf(uniq_v, IntegerType())\n",
    "\n",
    "# Aplicar UDF\n",
    "\n",
    "(ratings_movies_df.select(F.col('title'),\n",
    "                          uniq_v_udf(F.col('title')).alias('unique_vowels'))).show(5, False)\n",
    "\n"
   ]
  },
  {
   "cell_type": "markdown",
   "metadata": {},
   "source": [
    "\n",
    "\n",
    "# Datetimes\n",
    "\n",
    "Hay varias funciones de _pyspark_ que permiten trabajar con fechas: diferencia entre fechas, dia de la semana, año... Pero para ello primero es necesario transformar las columnas a tipo fecha. Se permite la conversion de dos formatos de fecha:\n",
    "* timestamp de unix: una columna de tipo entero con los segundos trascurridos entre la medianoche del 1 de Enero de 1990 hasta la fecha.\n",
    "* cadena: la fecha representada como una cadena siguiendo un formato específico que puede variar."
   ]
  },
  {
   "cell_type": "code",
   "execution_count": 54,
   "metadata": {},
   "outputs": [
    {
     "name": "stdout",
     "output_type": "stream",
     "text": [
      "+--------------------+----------+----------------+\n",
      "|               title| timestamp|             now|\n",
      "+--------------------+----------+----------------+\n",
      "|   Braveheart (1995)|1425941529|2019/01/21 14:08|\n",
      "|Basketball Diarie...|1425942435|2019/01/21 14:08|\n",
      "|Godfather, The (1...|1425941523|2019/01/21 14:08|\n",
      "|Godfather: Part I...|1425941546|2019/01/21 14:08|\n",
      "|Dead Poets Societ...|1425941556|2019/01/21 14:08|\n",
      "+--------------------+----------+----------------+\n",
      "only showing top 5 rows\n",
      "\n"
     ]
    }
   ],
   "source": [
    "ratings_movies_df.select('title', 'timestamp', 'now').show(5)"
   ]
  },
  {
   "cell_type": "markdown",
   "metadata": {},
   "source": [
    " \n",
    "\n",
    "## unix timestamp a datetime"
   ]
  },
  {
   "cell_type": "code",
   "execution_count": 55,
   "metadata": {},
   "outputs": [
    {
     "name": "stdout",
     "output_type": "stream",
     "text": [
      "+-------------------+----------+----------------+\n",
      "|           datetime| timestamp|             now|\n",
      "+-------------------+----------+----------------+\n",
      "|2015-03-09 16:52:09|1425941529|2019/01/21 14:08|\n",
      "|2015-03-09 17:07:15|1425942435|2019/01/21 14:08|\n",
      "|2015-03-09 16:52:03|1425941523|2019/01/21 14:08|\n",
      "|2015-03-09 16:52:26|1425941546|2019/01/21 14:08|\n",
      "|2015-03-09 16:52:36|1425941556|2019/01/21 14:08|\n",
      "|2015-03-09 17:02:28|1425942148|2019/01/21 14:08|\n",
      "|2015-03-09 16:48:20|1425941300|2019/01/21 14:08|\n",
      "|2015-03-09 16:53:13|1425941593|2019/01/21 14:08|\n",
      "|2015-03-09 16:53:21|1425941601|2019/01/21 14:08|\n",
      "|2015-03-09 17:03:48|1425942228|2019/01/21 14:08|\n",
      "+-------------------+----------+----------------+\n",
      "only showing top 10 rows\n",
      "\n"
     ]
    }
   ],
   "source": [
    "ratings_movies_df = ratings_movies_df.withColumn('datetime', F.from_unixtime(F.col('timestamp')))\n"
   ]
  },
  {
   "cell_type": "code",
   "execution_count": 76,
   "metadata": {},
   "outputs": [
    {
     "name": "stdout",
     "output_type": "stream",
     "text": [
      "+-------------------+----------+-------------------+\n",
      "|           datetime| timestamp|                now|\n",
      "+-------------------+----------+-------------------+\n",
      "|2015-03-09 16:52:09|1425941529|2019-01-21 14:08:00|\n",
      "|2015-03-09 17:07:15|1425942435|2019-01-21 14:08:00|\n",
      "|2015-03-09 16:52:03|1425941523|2019-01-21 14:08:00|\n",
      "|2015-03-09 16:52:26|1425941546|2019-01-21 14:08:00|\n",
      "|2015-03-09 16:52:36|1425941556|2019-01-21 14:08:00|\n",
      "|2015-03-09 17:02:28|1425942148|2019-01-21 14:08:00|\n",
      "|2015-03-09 16:48:20|1425941300|2019-01-21 14:08:00|\n",
      "|2015-03-09 16:53:13|1425941593|2019-01-21 14:08:00|\n",
      "|2015-03-09 16:53:21|1425941601|2019-01-21 14:08:00|\n",
      "|2015-03-09 17:03:48|1425942228|2019-01-21 14:08:00|\n",
      "+-------------------+----------+-------------------+\n",
      "only showing top 10 rows\n",
      "\n"
     ]
    }
   ],
   "source": [
    "# %Y/%m/%d\n",
    "\n",
    "ratings_movies_df.select('datetime', 'timestamp', \n",
    "                         F.to_timestamp(F.col('now'), \n",
    "                                   format='yyyy/MM/dd HH:mm').alias('now')).show(10)"
   ]
  },
  {
   "cell_type": "markdown",
   "metadata": {},
   "source": [
    "\n",
    "\n",
    "## string a datetime"
   ]
  },
  {
   "cell_type": "code",
   "execution_count": 77,
   "metadata": {},
   "outputs": [
    {
     "name": "stdout",
     "output_type": "stream",
     "text": [
      "+----------------+-------------------+\n",
      "|             now|       now_datetime|\n",
      "+----------------+-------------------+\n",
      "|2019/01/21 14:08|2019-01-21 14:08:00|\n",
      "|2019/01/21 14:08|2019-01-21 14:08:00|\n",
      "|2019/01/21 14:08|2019-01-21 14:08:00|\n",
      "|2019/01/21 14:08|2019-01-21 14:08:00|\n",
      "|2019/01/21 14:08|2019-01-21 14:08:00|\n",
      "|2019/01/21 14:08|2019-01-21 14:08:00|\n",
      "|2019/01/21 14:08|2019-01-21 14:08:00|\n",
      "|2019/01/21 14:08|2019-01-21 14:08:00|\n",
      "|2019/01/21 14:08|2019-01-21 14:08:00|\n",
      "|2019/01/21 14:08|2019-01-21 14:08:00|\n",
      "+----------------+-------------------+\n",
      "only showing top 10 rows\n",
      "\n"
     ]
    }
   ],
   "source": [
    "ratings_movies_df = ratings_movies_df.withColumn('now_datetime', \n",
    "                                                 F.from_unixtime(F.unix_timestamp(F.col('now'), 'yyyy/MM/dd HH:mm')))\n",
    "\n",
    "ratings_movies_df.select('now', 'now_datetime').show(10)"
   ]
  },
  {
   "cell_type": "markdown",
   "metadata": {},
   "source": [
    "\n",
    "\n",
    "## funciones con datetimes"
   ]
  },
  {
   "cell_type": "code",
   "execution_count": 78,
   "metadata": {},
   "outputs": [
    {
     "name": "stdout",
     "output_type": "stream",
     "text": [
      "+-------------------+-------------------+--------------------------------+\n",
      "|       now_datetime|           datetime|datediff(now_datetime, datetime)|\n",
      "+-------------------+-------------------+--------------------------------+\n",
      "|2019-01-21 14:08:00|2015-03-09 16:52:09|                            1414|\n",
      "|2019-01-21 14:08:00|2015-03-09 17:07:15|                            1414|\n",
      "|2019-01-21 14:08:00|2015-03-09 16:52:03|                            1414|\n",
      "|2019-01-21 14:08:00|2015-03-09 16:52:26|                            1414|\n",
      "|2019-01-21 14:08:00|2015-03-09 16:52:36|                            1414|\n",
      "|2019-01-21 14:08:00|2015-03-09 17:02:28|                            1414|\n",
      "|2019-01-21 14:08:00|2015-03-09 16:48:20|                            1414|\n",
      "|2019-01-21 14:08:00|2015-03-09 16:53:13|                            1414|\n",
      "|2019-01-21 14:08:00|2015-03-09 16:53:21|                            1414|\n",
      "|2019-01-21 14:08:00|2015-03-09 17:03:48|                            1414|\n",
      "+-------------------+-------------------+--------------------------------+\n",
      "only showing top 10 rows\n",
      "\n"
     ]
    }
   ],
   "source": [
    "ratings_movies_df.select('now_datetime', 'datetime', \n",
    "                          F.datediff(F.col('now_datetime'), F.col('datetime'))).show(10)"
   ]
  },
  {
   "cell_type": "code",
   "execution_count": 79,
   "metadata": {},
   "outputs": [
    {
     "name": "stdout",
     "output_type": "stream",
     "text": [
      "+-------------------+----------------------+\n",
      "|           datetime|date_add(datetime, 10)|\n",
      "+-------------------+----------------------+\n",
      "|2015-03-09 16:52:09|            2015-03-19|\n",
      "|2015-03-09 17:07:15|            2015-03-19|\n",
      "|2015-03-09 16:52:03|            2015-03-19|\n",
      "|2015-03-09 16:52:26|            2015-03-19|\n",
      "|2015-03-09 16:52:36|            2015-03-19|\n",
      "|2015-03-09 17:02:28|            2015-03-19|\n",
      "|2015-03-09 16:48:20|            2015-03-19|\n",
      "|2015-03-09 16:53:13|            2015-03-19|\n",
      "|2015-03-09 16:53:21|            2015-03-19|\n",
      "|2015-03-09 17:03:48|            2015-03-19|\n",
      "+-------------------+----------------------+\n",
      "only showing top 10 rows\n",
      "\n"
     ]
    }
   ],
   "source": [
    "ratings_movies_df.select('datetime', F.date_add(F.col('datetime'), 10)).show(10)"
   ]
  },
  {
   "cell_type": "code",
   "execution_count": 80,
   "metadata": {},
   "outputs": [
    {
     "name": "stdout",
     "output_type": "stream",
     "text": [
      "+-------------------+----------------------+\n",
      "|           datetime|datetime_plus_4_months|\n",
      "+-------------------+----------------------+\n",
      "|2015-03-09 16:52:09|            2015-07-09|\n",
      "|2015-03-09 17:07:15|            2015-07-09|\n",
      "|2015-03-09 16:52:03|            2015-07-09|\n",
      "|2015-03-09 16:52:26|            2015-07-09|\n",
      "|2015-03-09 16:52:36|            2015-07-09|\n",
      "+-------------------+----------------------+\n",
      "only showing top 5 rows\n",
      "\n"
     ]
    }
   ],
   "source": [
    "ratings_movies_df.withColumn('datetime_plus_4_months', F.add_months(F.col('datetime'), 4))\\\n",
    "                  .select('datetime', 'datetime_plus_4_months').show(5)"
   ]
  },
  {
   "cell_type": "code",
   "execution_count": 81,
   "metadata": {},
   "outputs": [
    {
     "name": "stdout",
     "output_type": "stream",
     "text": [
      "+-------------------+-----+\n",
      "|           datetime|month|\n",
      "+-------------------+-----+\n",
      "|2015-03-09 16:52:09|    3|\n",
      "|2015-03-09 17:07:15|    3|\n",
      "|2015-03-09 16:52:03|    3|\n",
      "|2015-03-09 16:52:26|    3|\n",
      "|2015-03-09 16:52:36|    3|\n",
      "|2015-03-09 17:02:28|    3|\n",
      "|2015-03-09 16:48:20|    3|\n",
      "|2015-03-09 16:53:13|    3|\n",
      "|2015-03-09 16:53:21|    3|\n",
      "|2015-03-09 17:03:48|    3|\n",
      "+-------------------+-----+\n",
      "only showing top 10 rows\n",
      "\n"
     ]
    }
   ],
   "source": [
    "ratings_movies_df.select('datetime', F.month(F.col('datetime')).alias('month')).show(10)"
   ]
  },
  {
   "cell_type": "code",
   "execution_count": 82,
   "metadata": {},
   "outputs": [
    {
     "name": "stdout",
     "output_type": "stream",
     "text": [
      "+-------------------+----------+\n",
      "|           datetime|  last_day|\n",
      "+-------------------+----------+\n",
      "|2015-03-09 16:52:09|2015-03-31|\n",
      "|2015-03-09 17:07:15|2015-03-31|\n",
      "|2015-03-09 16:52:03|2015-03-31|\n",
      "|2015-03-09 16:52:26|2015-03-31|\n",
      "|2015-03-09 16:52:36|2015-03-31|\n",
      "|2015-03-09 17:02:28|2015-03-31|\n",
      "|2015-03-09 16:48:20|2015-03-31|\n",
      "|2015-03-09 16:53:13|2015-03-31|\n",
      "|2015-03-09 16:53:21|2015-03-31|\n",
      "|2015-03-09 17:03:48|2015-03-31|\n",
      "+-------------------+----------+\n",
      "only showing top 10 rows\n",
      "\n"
     ]
    }
   ],
   "source": [
    "ratings_movies_df.select('datetime', F.last_day(F.col('datetime')).alias('last_day')).show(10)"
   ]
  },
  {
   "cell_type": "code",
   "execution_count": 84,
   "metadata": {},
   "outputs": [
    {
     "name": "stdout",
     "output_type": "stream",
     "text": [
      "+-------------------+---+--------+-------+\n",
      "|           datetime|day|year_day|weekday|\n",
      "+-------------------+---+--------+-------+\n",
      "|2015-03-09 16:52:09|  9|      68| Monday|\n",
      "|2015-03-09 17:07:15|  9|      68| Monday|\n",
      "|2015-03-09 16:52:03|  9|      68| Monday|\n",
      "|2015-03-09 16:52:26|  9|      68| Monday|\n",
      "|2015-03-09 16:52:36|  9|      68| Monday|\n",
      "|2015-03-09 17:02:28|  9|      68| Monday|\n",
      "|2015-03-09 16:48:20|  9|      68| Monday|\n",
      "|2015-03-09 16:53:13|  9|      68| Monday|\n",
      "|2015-03-09 16:53:21|  9|      68| Monday|\n",
      "|2015-03-09 17:03:48|  9|      68| Monday|\n",
      "+-------------------+---+--------+-------+\n",
      "only showing top 10 rows\n",
      "\n"
     ]
    }
   ],
   "source": [
    "ratings_movies_df.select('datetime', F.dayofmonth(F.col('datetime')).alias('day'),\n",
    "                                     F.dayofyear(F.col('datetime')).alias('year_day'),\n",
    "                                     F.date_format(F.col('datetime'), 'EEEE').alias('weekday')).show(10)"
   ]
  },
  {
   "cell_type": "markdown",
   "metadata": {},
   "source": [
    "\n",
    "\n",
    "Para filtrar por fechas se pueden comparar directamente con una cadena en el formato YYYY-MM-DD hh:mm:ss ya que será interpretada como una fecha."
   ]
  },
  {
   "cell_type": "code",
   "execution_count": 85,
   "metadata": {},
   "outputs": [
    {
     "name": "stdout",
     "output_type": "stream",
     "text": [
      "+-------------------+--------------------+------+\n",
      "|           datetime|               title|rating|\n",
      "+-------------------+--------------------+------+\n",
      "|2017-02-04 18:14:07|Léon: The Profess...|   5.0|\n",
      "|2017-02-04 18:13:15|Shawshank Redempt...|   4.0|\n",
      "|2017-02-04 18:13:19|  Matrix, The (1999)|   4.0|\n",
      "|2017-02-04 18:23:06|American Beauty (...|   4.5|\n",
      "|2017-02-04 18:13:22|   Fight Club (1999)|   4.5|\n",
      "|2017-02-04 18:16:21|American Psycho (...|   5.0|\n",
      "|2017-02-04 18:14:59|Meet the Parents ...|   1.5|\n",
      "|2017-02-04 18:14:43|    Cast Away (2000)|   4.0|\n",
      "|2017-02-04 18:14:32|        Shrek (2001)|   2.5|\n",
      "|2017-02-04 18:14:47|Harry Potter and ...|   4.5|\n",
      "+-------------------+--------------------+------+\n",
      "only showing top 10 rows\n",
      "\n"
     ]
    }
   ],
   "source": [
    "ratings_movies_df.filter(F.col('datetime') >= \"2015-09-30 20:00:00\").select('datetime', 'title', 'rating').show(10)"
   ]
  },
  {
   "cell_type": "code",
   "execution_count": 86,
   "metadata": {},
   "outputs": [
    {
     "name": "stdout",
     "output_type": "stream",
     "text": [
      "+-------------------+--------------------+------+\n",
      "|           datetime|               title|rating|\n",
      "+-------------------+--------------------+------+\n",
      "|2003-01-31 07:46:21|Sense and Sensibi...|   4.0|\n",
      "|2003-01-31 07:33:25|   Braveheart (1995)|   3.0|\n",
      "|2003-01-31 07:35:28|  French Kiss (1995)|   1.0|\n",
      "|2003-01-31 07:41:21| Pulp Fiction (1994)|   3.0|\n",
      "|2003-01-31 07:41:31|Muriel's Wedding ...|   2.0|\n",
      "+-------------------+--------------------+------+\n",
      "only showing top 5 rows\n",
      "\n"
     ]
    }
   ],
   "source": [
    "ratings_movies_df.filter(F.col('datetime').between(\"2003-01-31\", \"2003-02-10\"))\\\n",
    "                  .select('datetime', 'title', 'rating').show(5)"
   ]
  },
  {
   "cell_type": "code",
   "execution_count": 87,
   "metadata": {},
   "outputs": [
    {
     "name": "stdout",
     "output_type": "stream",
     "text": [
      "+-------------------+--------------------+------+\n",
      "|           datetime|               title|rating|\n",
      "+-------------------+--------------------+------+\n",
      "|2015-03-09 16:52:09|   Braveheart (1995)|   1.0|\n",
      "|2015-03-09 17:07:15|Basketball Diarie...|   4.5|\n",
      "|2015-03-09 16:52:03|Godfather, The (1...|   5.0|\n",
      "|2015-03-09 16:52:26|Godfather: Part I...|   5.0|\n",
      "|2015-03-09 16:52:36|Dead Poets Societ...|   5.0|\n",
      "+-------------------+--------------------+------+\n",
      "only showing top 5 rows\n",
      "\n"
     ]
    }
   ],
   "source": [
    "ratings_movies_df.filter(F.year(F.col('datetime')) >= 2012)\\\n",
    "                 .select('datetime', 'title', 'rating').show(5)"
   ]
  },
  {
   "cell_type": "markdown",
   "metadata": {
    "colab_type": "text",
    "id": "RQQqo7LCY1GE"
   },
   "source": [
    "\n",
    "\n",
    "# Ejercicio 1\n",
    "\n",
    "1) Cree una función que acepte un DataFrame y un diccionario. La función debe usar el diccionario para renombrar un grupo de columnas y devolver el DataFrame ya modificado.\n",
    "\n",
    "Use el siguiente DataFrame y diccionario:"
   ]
  },
  {
   "cell_type": "code",
   "execution_count": null,
   "metadata": {
    "colab": {},
    "colab_type": "code",
    "id": "OZcBXSoEY1GG"
   },
   "outputs": [],
   "source": [
    "pokemon_df = spark.read.csv(DATA_PATH + 'pokemon.csv', sep=',', header=True, inferSchema=True)\n",
    "\n",
    "rename_dict = {'Sp. Atk': 'sp_atk',\n",
    "               'Sp. Def': 'sp_def'}"
   ]
  },
  {
   "cell_type": "code",
   "execution_count": null,
   "metadata": {
    "colab": {
     "base_uri": "https://localhost:8080/",
     "height": 173
    },
    "colab_type": "code",
    "id": "_gFkYDfbodna",
    "outputId": "6ecc769f-077d-432e-99e4-c3bac2d74a7c"
   },
   "outputs": [],
   "source": [
    "pokemon_df.show(3)"
   ]
  },
  {
   "cell_type": "code",
   "execution_count": null,
   "metadata": {
    "colab": {},
    "colab_type": "code",
    "id": "bFegy2Nsogs7"
   },
   "outputs": [],
   "source": [
    "# Respuesta aqui"
   ]
  },
  {
   "cell_type": "markdown",
   "metadata": {
    "colab_type": "text",
    "id": "Xy7_B4HbY1GL"
   },
   "source": [
    "\n",
    "\n",
    "2) Use la función definida en el punto anterior para cambiar los nombres del DF usando el diccionario dado.\n",
    "\n",
    "3) Modifique la función de tal forma que también acepte una función en lugar de un diccionario. Use la función para renombrar las columnas.\n",
    "\n",
    "4) Estandarice según las buenas prácticas los nombres de las columnas usando la función que acaba de definir.\n",
    "\n",
    "5) Cree otra función que acepte un DataFrame y una lista con un subconjunto de columnas. El objetivo de esta función es determinar el número de filas duplicadas del DF.\n",
    "\n",
    "6) Use la función creada para obtener el número de duplicados del DataFrame pokemon_df en todas las columnas excepto el nombre (`name`)"
   ]
  },
  {
   "cell_type": "code",
   "execution_count": null,
   "metadata": {
    "colab": {
     "base_uri": "https://localhost:8080/",
     "height": 72
    },
    "colab_type": "code",
    "id": "f8VKWgPuY1GO",
    "outputId": "dd44e9f9-14d9-4a18-b819-7eafd0a86f85"
   },
   "outputs": [],
   "source": [
    "# Respuesta aqui"
   ]
  },
  {
   "cell_type": "code",
   "execution_count": null,
   "metadata": {
    "colab": {},
    "colab_type": "code",
    "id": "QJlJcyBKqQf0"
   },
   "outputs": [],
   "source": [
    "# Respuesta aqui"
   ]
  },
  {
   "cell_type": "code",
   "execution_count": null,
   "metadata": {
    "colab": {
     "base_uri": "https://localhost:8080/",
     "height": 52
    },
    "colab_type": "code",
    "id": "eDV-hsD_r5Yu",
    "outputId": "6f03bb83-2962-482c-e28b-86f95b7a0184"
   },
   "outputs": [],
   "source": [
    "# Respuesta aqui"
   ]
  },
  {
   "cell_type": "code",
   "execution_count": null,
   "metadata": {
    "colab": {},
    "colab_type": "code",
    "id": "VHOh4-1Btc6O"
   },
   "outputs": [],
   "source": [
    "# Respuesta aqui"
   ]
  },
  {
   "cell_type": "code",
   "execution_count": null,
   "metadata": {
    "colab": {
     "base_uri": "https://localhost:8080/",
     "height": 139
    },
    "colab_type": "code",
    "id": "mMji9U1gtdEG",
    "outputId": "bd7ec08a-ca36-4f6f-cd03-a42017615803"
   },
   "outputs": [],
   "source": [
    "# Respuesta aqui"
   ]
  },
  {
   "cell_type": "markdown",
   "metadata": {},
   "source": [
    "\n",
    "\n",
    "# Ejercicio 2\n",
    "\n",
    "Crea la misma lógica definida en el siguiente UDF, pero sin usar UDFs, es decir, usando exclusivamente funciones de SparkSQL."
   ]
  },
  {
   "cell_type": "code",
   "execution_count": null,
   "metadata": {},
   "outputs": [],
   "source": [
    "movies_df = spark.read.csv(DATA_PATH + 'movie-ratings/movies.csv', sep=',', header=True, inferSchema=True)\n",
    "movies_df = movies_df.withColumn('genres', F.split(F.col('genres'), '\\|'))\n",
    "\n",
    "from pyspark.sql.types import StringType, IntegerType, DoubleType, BooleanType\n",
    "\n",
    "def value_in_col(col, value):\n",
    "    return value in col\n",
    "\n",
    "value_in_col_udf = F.udf(value_in_col, BooleanType())"
   ]
  },
  {
   "cell_type": "markdown",
   "metadata": {},
   "source": [
    "\n",
    "\n",
    "*Pista*: Mira la función *explode*."
   ]
  },
  {
   "cell_type": "code",
   "execution_count": 88,
   "metadata": {},
   "outputs": [
    {
     "name": "stdout",
     "output_type": "stream",
     "text": [
      "+--------------------+----+-----+---+----+------+--------------------+--------------------+---------+----------+\n",
      "|                TYPE|YEAR|MONTH|DAY|HOUR|MINUTE|       HUNDRED_BLOCK|       NEIGHBOURHOOD|        X|         Y|\n",
      "+--------------------+----+-----+---+----+------+--------------------+--------------------+---------+----------+\n",
      "|Offence Against a...|2003|    5| 17|null|  null|OFFSET TO PROTECT...|                null|      0.0|       0.0|\n",
      "|  Theft from Vehicle|2003|    1|  7|  10|     0|CARDERO ST / W GE...|            West End|490503.48|5459766.67|\n",
      "|  Theft from Vehicle|2003|    7| 27|   5|     0|    53XX CHAMBERS ST| Renfrew-Collingwood|496145.89|5453740.68|\n",
      "|Break and Enter R...|2003|    3|  8|   4|    15|     19XX E 12TH AVE|Kensington-Cedar ...|495302.97|5456313.79|\n",
      "|  Theft from Vehicle|2003|   10|  9|  16|     0|     16XX CHARLES ST|  Grandview-Woodland|494877.89| 5457816.4|\n",
      "+--------------------+----+-----+---+----+------+--------------------+--------------------+---------+----------+\n",
      "only showing top 5 rows\n",
      "\n"
     ]
    }
   ],
   "source": [
    "# Crimes in Vancouver\n",
    "crime = spark.read.csv(DATA_PATH + 'crime_in_vancouver.csv', \n",
    "                       header=True, \n",
    "                       inferSchema=True,\n",
    "                       sep=',')\n",
    "crime.show(5)"
   ]
  },
  {
   "cell_type": "code",
   "execution_count": null,
   "metadata": {},
   "outputs": [],
   "source": [
    "# 1.- Hacer una columna fecha.\n",
    "# 2.- Hacer una columna weekend (True si la fecha es (viernes, sabado, domingo), False e.o.c.)\n",
    "# 3.- Agrupar por weekend y neigh y obtener crimenes mas frecuentes. "
   ]
  },
  {
   "cell_type": "code",
   "execution_count": 108,
   "metadata": {},
   "outputs": [],
   "source": [
    "w_crime = (crime\n",
    " .select(F.col('TYPE'), \n",
    "         F.col('NEIGHBOURHOOD'), \n",
    "         F.to_date(F.concat(F.col('YEAR'), \n",
    "                      F.lit('-'), \n",
    "                      F.col('MONTH'),\n",
    "                      F.lit('-'),\n",
    "                      F.col('DAY')\n",
    "                     )).alias('DATE'))\n",
    " .filter(F.col('NEIGHBOURHOOD').isNotNull())\n",
    " .withColumn('WEEKEND', \n",
    "             F.when((F\n",
    "                     .date_format(F.col('DATE'), 'E')\n",
    "                     .isin(['Fri', 'Sat', 'Sun'])), True)\n",
    "             .otherwise(False))\n",
    " .groupBy(F.col('TYPE'), F.col('NEIGHBOURHOOD'), F.col('WEEKEND'))\n",
    " .agg(F.count('*').alias('total_crime'))\n",
    " .orderBy(F.col('NEIGHBOURHOOD'), F.col('WEEKEND'), F.col('total_crime').desc())\n",
    ")"
   ]
  },
  {
   "cell_type": "code",
   "execution_count": 115,
   "metadata": {},
   "outputs": [
    {
     "name": "stdout",
     "output_type": "stream",
     "text": [
      "+--------------------+--------------------+-------+-----------+\n",
      "|                TYPE|       NEIGHBOURHOOD|WEEKEND|total_crime|\n",
      "+--------------------+--------------------+-------+-----------+\n",
      "|  Theft from Vehicle|       Arbutus Ridge|  false|       1094|\n",
      "|Break and Enter R...|       Arbutus Ridge|  false|        936|\n",
      "|            Mischief|       Arbutus Ridge|  false|        463|\n",
      "|    Theft of Vehicle|       Arbutus Ridge|  false|        267|\n",
      "|         Other Theft|       Arbutus Ridge|  false|        217|\n",
      "|Vehicle Collision...|       Arbutus Ridge|  false|        188|\n",
      "|Break and Enter C...|       Arbutus Ridge|  false|        182|\n",
      "|    Theft of Bicycle|       Arbutus Ridge|  false|         95|\n",
      "|Vehicle Collision...|       Arbutus Ridge|  false|          2|\n",
      "|  Theft from Vehicle|       Arbutus Ridge|   true|        826|\n",
      "|Break and Enter R...|       Arbutus Ridge|   true|        779|\n",
      "|            Mischief|       Arbutus Ridge|   true|        499|\n",
      "|    Theft of Vehicle|       Arbutus Ridge|   true|        236|\n",
      "|Break and Enter C...|       Arbutus Ridge|   true|        149|\n",
      "|         Other Theft|       Arbutus Ridge|   true|        128|\n",
      "|Vehicle Collision...|       Arbutus Ridge|   true|        111|\n",
      "|    Theft of Bicycle|       Arbutus Ridge|   true|         78|\n",
      "|Vehicle Collision...|       Arbutus Ridge|   true|          1|\n",
      "|  Theft from Vehicle|Central Business ...|  false|      26392|\n",
      "|         Other Theft|Central Business ...|  false|      11513|\n",
      "+--------------------+--------------------+-------+-----------+\n",
      "only showing top 20 rows\n",
      "\n"
     ]
    }
   ],
   "source": [
    "w_crime.show()"
   ]
  },
  {
   "cell_type": "code",
   "execution_count": 107,
   "metadata": {},
   "outputs": [],
   "source": [
    "from pyspark.sql import Window"
   ]
  },
  {
   "cell_type": "code",
   "execution_count": 109,
   "metadata": {},
   "outputs": [],
   "source": [
    "wc = (Window()\n",
    "      .partitionBy(F.col('NEIGHBOURHOOD'), F.col('WEEKEND'))\n",
    "      .orderBy(F.col('total_crime').desc()))"
   ]
  },
  {
   "cell_type": "code",
   "execution_count": 114,
   "metadata": {},
   "outputs": [
    {
     "name": "stdout",
     "output_type": "stream",
     "text": [
      "+---------------------------------+-------------------------+-------+-----------+---------+\n",
      "|TYPE                             |NEIGHBOURHOOD            |WEEKEND|total_crime|top_crime|\n",
      "+---------------------------------+-------------------------+-------+-----------+---------+\n",
      "|Mischief                         |Arbutus Ridge            |false  |463        |3        |\n",
      "|Break and Enter Residential/Other|Arbutus Ridge            |false  |936        |2        |\n",
      "|Theft from Vehicle               |Arbutus Ridge            |false  |1094       |1        |\n",
      "|Mischief                         |Arbutus Ridge            |true   |499        |3        |\n",
      "|Break and Enter Residential/Other|Arbutus Ridge            |true   |779        |2        |\n",
      "|Theft from Vehicle               |Arbutus Ridge            |true   |826        |1        |\n",
      "|Mischief                         |Central Business District|false  |9181       |3        |\n",
      "|Other Theft                      |Central Business District|false  |11513      |2        |\n",
      "|Theft from Vehicle               |Central Business District|false  |26392      |1        |\n",
      "|Mischief                         |Central Business District|true   |8435       |3        |\n",
      "|Other Theft                      |Central Business District|true   |8981       |2        |\n",
      "|Theft from Vehicle               |Central Business District|true   |24186      |1        |\n",
      "|Mischief                         |Dunbar-Southlands        |false  |605        |3        |\n",
      "|Break and Enter Residential/Other|Dunbar-Southlands        |false  |1111       |2        |\n",
      "|Theft from Vehicle               |Dunbar-Southlands        |false  |1683       |1        |\n",
      "|Mischief                         |Dunbar-Southlands        |true   |759        |3        |\n",
      "|Break and Enter Residential/Other|Dunbar-Southlands        |true   |799        |2        |\n",
      "|Theft from Vehicle               |Dunbar-Southlands        |true   |1334       |1        |\n",
      "|Other Theft                      |Fairview                 |false  |2088       |3        |\n",
      "|Break and Enter Residential/Other|Fairview                 |false  |2187       |2        |\n",
      "|Theft from Vehicle               |Fairview                 |false  |6886       |1        |\n",
      "|Theft of Bicycle                 |Fairview                 |true   |1607       |3        |\n",
      "|Break and Enter Residential/Other|Fairview                 |true   |1689       |2        |\n",
      "|Theft from Vehicle               |Fairview                 |true   |5410       |1        |\n",
      "|Break and Enter Residential/Other|Grandview-Woodland       |false  |2685       |3        |\n",
      "|Mischief                         |Grandview-Woodland       |false  |2821       |2        |\n",
      "|Theft from Vehicle               |Grandview-Woodland       |false  |4354       |1        |\n",
      "+---------------------------------+-------------------------+-------+-----------+---------+\n",
      "only showing top 27 rows\n",
      "\n"
     ]
    }
   ],
   "source": [
    "(w_crime\n",
    " .select('*', F.dense_rank().over(wc).alias('top_crime'))\n",
    " .filter(F.col('top_crime') <= 3)\n",
    " .orderBy(F.col('NEIGHBOURHOOD'), F.col('WEEKEND'), F.col('top_crime').desc())\n",
    ").show(27, False)"
   ]
  },
  {
   "cell_type": "code",
   "execution_count": null,
   "metadata": {},
   "outputs": [],
   "source": []
  }
 ],
 "metadata": {
  "kernelspec": {
   "display_name": "Python 3",
   "language": "python",
   "name": "python3"
  },
  "language_info": {
   "codemirror_mode": {
    "name": "ipython",
    "version": 3
   },
   "file_extension": ".py",
   "mimetype": "text/x-python",
   "name": "python",
   "nbconvert_exporter": "python",
   "pygments_lexer": "ipython3",
   "version": "3.7.7"
  },
  "toc": {
   "base_numbering": 1,
   "nav_menu": {},
   "number_sections": false,
   "sideBar": true,
   "skip_h1_title": false,
   "title_cell": "Table of Contents",
   "title_sidebar": "Contents",
   "toc_cell": false,
   "toc_position": {},
   "toc_section_display": true,
   "toc_window_display": true
  }
 },
 "nbformat": 4,
 "nbformat_minor": 2
}
