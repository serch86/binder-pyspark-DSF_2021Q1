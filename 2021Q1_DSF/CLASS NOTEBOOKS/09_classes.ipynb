{
 "cells": [
  {
   "cell_type": "code",
   "execution_count": 1,
   "metadata": {},
   "outputs": [],
   "source": [
    "SANDBOX_NAME = 'fmex' # Sandbox Name\n",
    "DATA_PATH = \"/data/sandboxes/\"+SANDBOX_NAME+\"/data/\""
   ]
  },
  {
   "cell_type": "markdown",
   "metadata": {},
   "source": [
    "\n",
    "\n",
    "# Clases\n",
    "\n",
    "En programación orientada a objetos las clases nos permiten definir nuevos tipos de variables (objetos). Las clases consisten en una agrupación lógica de atributos y métodos. \n",
    "\n",
    "En Python:\n",
    "\n",
    "1. Los atributos y métodos de la clase deben estar identados después de los dos puntos de la definición.\n",
    "\n",
    "2. Los atributos se declaran como variables dentro de la clase. Siempre se debe asignar un valor por defecto a los atributos.\n",
    "\n",
    "3. Los métodos, son esencialmente funciones contenidas dentro de las clases. Estos se definen de la misma forma que una función, usando la palabra clave `def` seguida por el nombre. Los métodos siempre deben poseer un argumento `self`.\n"
   ]
  },
  {
   "cell_type": "code",
   "execution_count": 40,
   "metadata": {},
   "outputs": [],
   "source": [
    "class Person:\n",
    "    planet='Earth'\n",
    "    \n",
    "    def __init__(self, \n",
    "                 name='Ana', \n",
    "                 age=25, \n",
    "                 country='USA',\n",
    "                 sex='f'\n",
    "                ):\n",
    "        self.name = name\n",
    "        self.age = age\n",
    "        self.country = country\n",
    "        self.friends = {}\n",
    "        self.sex = sex\n",
    "        \n",
    "    def greetings(self):\n",
    "        print(f'''Hello, my name is {self.name} I'm {self.age} years old!''')\n",
    "        \n",
    "    def is_my_birthday(self):\n",
    "        self.age += 1\n",
    "        \n",
    "    def new_friend(self, friend):\n",
    "        '''\n",
    "        friend is assumed to be\n",
    "        an object of the class: Person\n",
    "        '''\n",
    "        if not isinstance(friend, Person):\n",
    "            raise TypeError('Friend needs to be an instance of class Person')\n",
    "        if friend.name in self.friends:\n",
    "            print(f'Hello {friend.name}, nice to meet you again!')\n",
    "        else:\n",
    "            print(f'Hello {friend.name}, it is really nice to meet you!')\n",
    "            self.friends[friend.name] = friend\n",
    "            friend.friends[self.name] = self\n",
    "            \n",
    "    def print_friends(self):\n",
    "        print(f'\\nHello my name is {self.name}')\n",
    "        for name, friend in self.friends.items():\n",
    "            print(f'''{name} is my friend! {'She' if friend.sex == 'f' else 'He'} \n",
    "            is {friend.age} years old.''')"
   ]
  },
  {
   "cell_type": "code",
   "execution_count": 34,
   "metadata": {},
   "outputs": [],
   "source": [
    "class Employee(Person):\n",
    "    \n",
    "    def __init__(self, \n",
    "                 name, \n",
    "                 age, \n",
    "                 sex,\n",
    "                 country, \n",
    "                 wage, \n",
    "                 company):\n",
    "        super().__init__(name, age, sex, country)\n",
    "        self.wage = wage\n",
    "        self.company = company\n",
    "        \n",
    "    def greetings(self):\n",
    "        print(f'''Hello, I'm an employee at {self.company}!!!''')"
   ]
  },
  {
   "cell_type": "code",
   "execution_count": 35,
   "metadata": {},
   "outputs": [],
   "source": [
    "emp1 = Employee('Luis', 30, 'Mex', 'm', 500, 'BBVA')"
   ]
  },
  {
   "cell_type": "code",
   "execution_count": 36,
   "metadata": {},
   "outputs": [
    {
     "name": "stdout",
     "output_type": "stream",
     "text": [
      "Hello, I'm an employee at BBVA!!!\n"
     ]
    }
   ],
   "source": [
    "emp1.greetings()"
   ]
  },
  {
   "cell_type": "code",
   "execution_count": 41,
   "metadata": {},
   "outputs": [],
   "source": [
    "p1 = Person('Luis', 30, 'Mex', 'm')\n",
    "p2 = Person('Erica', 45, 'Spain', 'f')\n",
    "p3 = Person('Clarissa', 24, 'Per', 'f')"
   ]
  },
  {
   "cell_type": "code",
   "execution_count": 44,
   "metadata": {},
   "outputs": [],
   "source": [
    "p1.planet = 'PlanetX'"
   ]
  },
  {
   "cell_type": "code",
   "execution_count": 46,
   "metadata": {},
   "outputs": [],
   "source": [
    "Person.planet = 'mars'"
   ]
  },
  {
   "cell_type": "code",
   "execution_count": 47,
   "metadata": {},
   "outputs": [
    {
     "name": "stdout",
     "output_type": "stream",
     "text": [
      "PlanetX\n",
      "mars\n",
      "mars\n"
     ]
    }
   ],
   "source": [
    "print(p1.planet)\n",
    "print(p2.planet)\n",
    "print(p3.planet)"
   ]
  },
  {
   "cell_type": "code",
   "execution_count": 78,
   "metadata": {},
   "outputs": [
    {
     "name": "stdout",
     "output_type": "stream",
     "text": [
      "Hello Luis, it is really nice to meet you!\n",
      "Hello Erica, it is really nice to meet you!\n"
     ]
    }
   ],
   "source": [
    "p2.new_friend(p1)\n",
    "p3.new_friend(p2)"
   ]
  },
  {
   "cell_type": "code",
   "execution_count": 79,
   "metadata": {},
   "outputs": [
    {
     "name": "stdout",
     "output_type": "stream",
     "text": [
      "\n",
      "Hello my name is Luis\n",
      "Erica is my friend! She \n",
      "            is 45 years old.\n",
      "----------------\n",
      "\n",
      "Hello my name is Erica\n",
      "Luis is my friend! He \n",
      "            is 30 years old.\n",
      "Clarissa is my friend! She \n",
      "            is 24 years old.\n",
      "----------------\n",
      "\n",
      "Hello my name is Clarissa\n",
      "Erica is my friend! She \n",
      "            is 45 years old.\n"
     ]
    }
   ],
   "source": [
    "p1.print_friends()\n",
    "print('----------------')\n",
    "p2.print_friends()\n",
    "print('----------------')\n",
    "p3.print_friends()"
   ]
  },
  {
   "cell_type": "markdown",
   "metadata": {},
   "source": [
    "\n",
    "\n",
    "# Una clase sencilla"
   ]
  },
  {
   "cell_type": "markdown",
   "metadata": {},
   "source": [
    "\n",
    "\n",
    "Se define con la palabra reservada `class`.  \n",
    "Al ejecutar de nuevo el código, se sobreescribe la definición de la clase."
   ]
  },
  {
   "cell_type": "code",
   "execution_count": 1,
   "metadata": {},
   "outputs": [],
   "source": [
    "from math import sqrt\n",
    "\n",
    "class Point:\n",
    "    alpha = 0"
   ]
  },
  {
   "cell_type": "markdown",
   "metadata": {},
   "source": [
    "\n",
    "\n",
    "Se instancia de esta manera:"
   ]
  },
  {
   "cell_type": "code",
   "execution_count": 4,
   "metadata": {},
   "outputs": [],
   "source": [
    "q = Point()\n",
    "p = Point()"
   ]
  },
  {
   "cell_type": "code",
   "execution_count": 8,
   "metadata": {},
   "outputs": [
    {
     "data": {
      "text/plain": [
       "0"
      ]
     },
     "execution_count": 8,
     "metadata": {},
     "output_type": "execute_result"
    }
   ],
   "source": [
    "q.alpha"
   ]
  },
  {
   "cell_type": "code",
   "execution_count": 7,
   "metadata": {},
   "outputs": [
    {
     "data": {
      "text/plain": [
       "0"
      ]
     },
     "execution_count": 7,
     "metadata": {},
     "output_type": "execute_result"
    }
   ],
   "source": [
    "p.alpha"
   ]
  },
  {
   "cell_type": "code",
   "execution_count": 6,
   "metadata": {},
   "outputs": [],
   "source": [
    "Point()"
   ]
  },
  {
   "cell_type": "markdown",
   "metadata": {},
   "source": [
    "\n",
    "\n",
    "Se accede a su atributo de la siguiente manera"
   ]
  },
  {
   "cell_type": "code",
   "execution_count": null,
   "metadata": {},
   "outputs": [],
   "source": [
    "q.alpha"
   ]
  },
  {
   "cell_type": "markdown",
   "metadata": {},
   "source": [
    "\n",
    "\n",
    "Para iniciar la clase con algunos valores se incluye el método especial `__init__`.  \n",
    "\n",
    "Para referirse a la propia instancia cuando se esta definiendo la clase se usa `self`.  (Es obligatorio incluirlo como primer argumento)"
   ]
  },
  {
   "cell_type": "code",
   "execution_count": 9,
   "metadata": {},
   "outputs": [],
   "source": [
    "a = 'Hello'"
   ]
  },
  {
   "cell_type": "code",
   "execution_count": 11,
   "metadata": {},
   "outputs": [],
   "source": [
    "class Point:\n",
    "    alpha = 0\n",
    "    def __init__(self, x, y):\n",
    "        self.x = x\n",
    "        self.y = y\n",
    "        print(x,y)"
   ]
  },
  {
   "cell_type": "markdown",
   "metadata": {},
   "source": [
    "\n",
    "\n",
    "Se instancia con argumentos, y se ejecuta lo que pone en el método constructor `__init__`"
   ]
  },
  {
   "cell_type": "code",
   "execution_count": 12,
   "metadata": {},
   "outputs": [
    {
     "name": "stdout",
     "output_type": "stream",
     "text": [
      "1 2\n",
      "3 4\n"
     ]
    }
   ],
   "source": [
    "p1 = Point(1,2)\n",
    "p2 = Point(3,4)"
   ]
  },
  {
   "cell_type": "code",
   "execution_count": 13,
   "metadata": {},
   "outputs": [
    {
     "name": "stdout",
     "output_type": "stream",
     "text": [
      "140694478642928\n",
      "140694478642816\n"
     ]
    }
   ],
   "source": [
    "print(id(p1))\n",
    "print(id(p2))"
   ]
  },
  {
   "cell_type": "code",
   "execution_count": 14,
   "metadata": {},
   "outputs": [
    {
     "data": {
      "text/plain": [
       "__main__.Point"
      ]
     },
     "execution_count": 14,
     "metadata": {},
     "output_type": "execute_result"
    }
   ],
   "source": [
    "type(p1)"
   ]
  },
  {
   "cell_type": "code",
   "execution_count": 15,
   "metadata": {},
   "outputs": [
    {
     "data": {
      "text/plain": [
       "True"
      ]
     },
     "execution_count": 15,
     "metadata": {},
     "output_type": "execute_result"
    }
   ],
   "source": [
    "isinstance(p1,Point)"
   ]
  },
  {
   "cell_type": "code",
   "execution_count": 17,
   "metadata": {},
   "outputs": [
    {
     "data": {
      "text/plain": [
       "2"
      ]
     },
     "execution_count": 17,
     "metadata": {},
     "output_type": "execute_result"
    }
   ],
   "source": [
    "p1.y"
   ]
  },
  {
   "cell_type": "markdown",
   "metadata": {},
   "source": [
    "\n",
    "\n",
    "Definido de esta manera, los atributos son obligatorios. Devuelve un error de tipo TypeError"
   ]
  },
  {
   "cell_type": "code",
   "execution_count": null,
   "metadata": {},
   "outputs": [],
   "source": [
    "Point()"
   ]
  },
  {
   "cell_type": "markdown",
   "metadata": {},
   "source": [
    "\n",
    "\n",
    "Se accede a los atributos x e y con `.`"
   ]
  },
  {
   "cell_type": "code",
   "execution_count": 18,
   "metadata": {},
   "outputs": [
    {
     "name": "stdout",
     "output_type": "stream",
     "text": [
      "1 2\n"
     ]
    },
    {
     "data": {
      "text/plain": [
       "2"
      ]
     },
     "execution_count": 18,
     "metadata": {},
     "output_type": "execute_result"
    }
   ],
   "source": [
    "p = Point(1,2)\n",
    "p.x\n",
    "p.y"
   ]
  },
  {
   "cell_type": "markdown",
   "metadata": {},
   "source": [
    "\n",
    "\n",
    "# Atributos"
   ]
  },
  {
   "cell_type": "markdown",
   "metadata": {},
   "source": [
    "\n",
    "\n",
    "Los atributos son variables que pertenecen a una clase."
   ]
  },
  {
   "cell_type": "markdown",
   "metadata": {},
   "source": [
    "\n",
    "\n",
    "## Atributos de clase y de instancia"
   ]
  },
  {
   "cell_type": "markdown",
   "metadata": {},
   "source": [
    "\n",
    "\n",
    "- Atributos de instancia: \n",
    " - **pertenecen por separado a cada instancia de esta clase**\n",
    " - Sirven para almacenar valores únicos de cada objeto\n",
    " - En la implementación se acceden con `self`\n",
    "- Atributos de clase:\n",
    " - **pertenecen a todas las instancias de esta clase**\n",
    " - Sirven para almacenar valores comunes a la clase\n",
    " - En la implementación se accede con el nombre de la clase"
   ]
  },
  {
   "cell_type": "code",
   "execution_count": 19,
   "metadata": {},
   "outputs": [],
   "source": [
    "class Point:\n",
    "    alpha = 100 # class attribure\n",
    "    def __init__(self,x,y): # instance attribute\n",
    "        self.x = x\n",
    "        self.y = y\n",
    "        print(\"Building: \", x,y)"
   ]
  },
  {
   "cell_type": "markdown",
   "metadata": {},
   "source": [
    "\n",
    "\n",
    "Creamos 2 instancias para ver como funciona"
   ]
  },
  {
   "cell_type": "code",
   "execution_count": 49,
   "metadata": {},
   "outputs": [
    {
     "name": "stdout",
     "output_type": "stream",
     "text": [
      "Building:  1 2\n",
      "Building:  11 12\n"
     ]
    }
   ],
   "source": [
    "p1 = Point(1,2)\n",
    "p2 = Point(11,12)"
   ]
  },
  {
   "cell_type": "code",
   "execution_count": 21,
   "metadata": {},
   "outputs": [
    {
     "data": {
      "text/plain": [
       "(1, 11)"
      ]
     },
     "execution_count": 21,
     "metadata": {},
     "output_type": "execute_result"
    }
   ],
   "source": [
    "p1.x, p2.x"
   ]
  },
  {
   "cell_type": "code",
   "execution_count": 22,
   "metadata": {},
   "outputs": [
    {
     "data": {
      "text/plain": [
       "100"
      ]
     },
     "execution_count": 22,
     "metadata": {},
     "output_type": "execute_result"
    }
   ],
   "source": [
    "Point.alpha"
   ]
  },
  {
   "cell_type": "code",
   "execution_count": 39,
   "metadata": {},
   "outputs": [
    {
     "name": "stdout",
     "output_type": "stream",
     "text": [
      "Building:  3 3\n"
     ]
    }
   ],
   "source": [
    "Point(3, 3).alpha = 5000"
   ]
  },
  {
   "cell_type": "code",
   "execution_count": 37,
   "metadata": {},
   "outputs": [
    {
     "name": "stdout",
     "output_type": "stream",
     "text": [
      "100\n",
      "100\n",
      "-999\n",
      "-999\n"
     ]
    }
   ],
   "source": [
    "print(p1.alpha)\n",
    "print(p2.alpha)\n",
    "\n",
    "Point.alpha = -999\n",
    "print(p1.alpha)\n",
    "print(p2.alpha)"
   ]
  },
  {
   "cell_type": "markdown",
   "metadata": {},
   "source": [
    "\n",
    "\n",
    "### Detalles"
   ]
  },
  {
   "cell_type": "markdown",
   "metadata": {},
   "source": [
    "\n",
    "\n",
    "Si se asigna a"
   ]
  },
  {
   "cell_type": "code",
   "execution_count": 50,
   "metadata": {},
   "outputs": [
    {
     "name": "stdout",
     "output_type": "stream",
     "text": [
      "1\n",
      "-999\n"
     ]
    }
   ],
   "source": [
    "p1.alpha=1\n",
    "print(p1.alpha)\n",
    "print(p2.alpha)"
   ]
  },
  {
   "cell_type": "code",
   "execution_count": 51,
   "metadata": {},
   "outputs": [
    {
     "name": "stdout",
     "output_type": "stream",
     "text": [
      "1\n",
      "-9999999999999999999\n"
     ]
    }
   ],
   "source": [
    "Point.alpha = -9999999999999999999\n",
    "print(p1.alpha)\n",
    "print(p2.alpha)"
   ]
  },
  {
   "cell_type": "markdown",
   "metadata": {},
   "source": [
    "\n",
    "\n",
    "# Métodos"
   ]
  },
  {
   "cell_type": "markdown",
   "metadata": {},
   "source": [
    "\n",
    "\n",
    "Los métodos añaden formas de operar con las instancias o clases"
   ]
  },
  {
   "cell_type": "code",
   "execution_count": 52,
   "metadata": {},
   "outputs": [],
   "source": [
    "class Point:\n",
    "    alpha = 100 # class attribure\n",
    "    def __init__(self,x,y): # instance attribute\n",
    "        self.x = x\n",
    "        self.y = y\n",
    "        print(\"Building: \", x,y)\n",
    "    \n",
    "    def module(self):\n",
    "        import math\n",
    "        return math.sqrt(self.x**2 + self.y**2)"
   ]
  },
  {
   "cell_type": "markdown",
   "metadata": {},
   "source": [
    "\n",
    "\n",
    "Se usan de esta a través de `.`:"
   ]
  },
  {
   "cell_type": "code",
   "execution_count": 53,
   "metadata": {},
   "outputs": [
    {
     "name": "stdout",
     "output_type": "stream",
     "text": [
      "Building:  1 3\n"
     ]
    },
    {
     "data": {
      "text/plain": [
       "3.1622776601683795"
      ]
     },
     "execution_count": 53,
     "metadata": {},
     "output_type": "execute_result"
    }
   ],
   "source": [
    "p = Point(1,3)\n",
    "p.module()"
   ]
  },
  {
   "cell_type": "markdown",
   "metadata": {},
   "source": [
    "\n",
    "\n",
    "## Métodos con argumentos"
   ]
  },
  {
   "cell_type": "markdown",
   "metadata": {},
   "source": [
    "\n",
    "\n",
    "Se pueden añadir argumentos a los modulos con facilidad"
   ]
  },
  {
   "cell_type": "code",
   "execution_count": 54,
   "metadata": {},
   "outputs": [],
   "source": [
    "class Point:\n",
    "    alpha = 100 # class attribure\n",
    "    def __init__(self,x,y): # instance attribute\n",
    "        self.x = x\n",
    "        self.y = y\n",
    "        print(\"Building: \", x,y)\n",
    "    \n",
    "    def module(self): \n",
    "        import math\n",
    "        return math.sqrt(self.x**2 + self.y**2)\n",
    "    \n",
    "    def sum_a_x(self, extra): \n",
    "        self.x = self.x + extra"
   ]
  },
  {
   "cell_type": "code",
   "execution_count": 58,
   "metadata": {},
   "outputs": [
    {
     "name": "stdout",
     "output_type": "stream",
     "text": [
      "Building:  1 3\n"
     ]
    },
    {
     "data": {
      "text/plain": [
       "11"
      ]
     },
     "execution_count": 58,
     "metadata": {},
     "output_type": "execute_result"
    }
   ],
   "source": [
    "p = Point(1,3)\n",
    "p.sum_a_x(10)\n",
    "p.x"
   ]
  },
  {
   "cell_type": "code",
   "execution_count": 55,
   "metadata": {},
   "outputs": [],
   "source": [
    "import gc"
   ]
  },
  {
   "cell_type": "code",
   "execution_count": 57,
   "metadata": {},
   "outputs": [],
   "source": [
    "# gc.get_objects()"
   ]
  },
  {
   "cell_type": "markdown",
   "metadata": {},
   "source": [
    "\n",
    "\n",
    "Este método tan sencillo no aporta mucho, gracias a que en Python se puede acceder desde fuera."
   ]
  },
  {
   "cell_type": "code",
   "execution_count": 59,
   "metadata": {},
   "outputs": [
    {
     "data": {
      "text/plain": [
       "21"
      ]
     },
     "execution_count": 59,
     "metadata": {},
     "output_type": "execute_result"
    }
   ],
   "source": [
    "p.x = p.x + 10 \n",
    "p.x"
   ]
  },
  {
   "cell_type": "markdown",
   "metadata": {},
   "source": [
    "\n",
    "\n",
    "Los argumentos pueden ser más complejos, y como en las funciones ser asignados por sus nombres."
   ]
  },
  {
   "cell_type": "code",
   "execution_count": 68,
   "metadata": {},
   "outputs": [],
   "source": [
    "class Point:\n",
    "    alpha = 100 # class attribute\n",
    "    def __init__(self,x,y): # instance attribute\n",
    "        self.x = x\n",
    "        self.y = y\n",
    "        print(\"New point: \", x,y)\n",
    "    \n",
    "    def module(self):\n",
    "        import math\n",
    "        return math.sqrt(self.x**2 + self.y**2)\n",
    "    \n",
    "    def mysum(self, other): # Sum method\n",
    "        z = Point(self.x + other.x, self.y + other.y)\n",
    "        return z\n",
    "    \n",
    "    def distance(self, other):\n",
    "        import math\n",
    "        return math.sqrt((self.x -other.x)**2 + (self.y - other.y)**2)"
   ]
  },
  {
   "cell_type": "code",
   "execution_count": 69,
   "metadata": {},
   "outputs": [
    {
     "name": "stdout",
     "output_type": "stream",
     "text": [
      "New point:  2 2\n",
      "New point:  5 5\n"
     ]
    }
   ],
   "source": [
    "p1 = Point(2,2)\n",
    "p2 = Point(5,5)"
   ]
  },
  {
   "cell_type": "code",
   "execution_count": 70,
   "metadata": {},
   "outputs": [
    {
     "name": "stdout",
     "output_type": "stream",
     "text": [
      "New point:  7 7\n"
     ]
    }
   ],
   "source": [
    "p3 = p1.mysum(other=p2)"
   ]
  },
  {
   "cell_type": "code",
   "execution_count": 71,
   "metadata": {},
   "outputs": [
    {
     "data": {
      "text/plain": [
       "4.242640687119285"
      ]
     },
     "execution_count": 71,
     "metadata": {},
     "output_type": "execute_result"
    }
   ],
   "source": [
    "p1.distance(other=p2)"
   ]
  },
  {
   "cell_type": "markdown",
   "metadata": {},
   "source": [
    "\n",
    "\n",
    "## Métodos de instancia y clase"
   ]
  },
  {
   "cell_type": "markdown",
   "metadata": {},
   "source": [
    "\n",
    "\n",
    "Hay 2 tipos de método: de instancia y de clase:\n",
    "- De **instancia**, usan los atributos del scope de la instancia. Usando la palabra reservada `self`. Los que hemos visto hasta ahora. (Se diferencian en que necesitan el argumento `self` en la primera posición).\n",
    "- De **clase**, usan los atributos de la clase. NO tienen acceso al scope de Ninguna de las instancias, ni acceso a `self`. Se conocen como métodos *static*"
   ]
  },
  {
   "cell_type": "code",
   "execution_count": 73,
   "metadata": {},
   "outputs": [],
   "source": [
    "class Point:\n",
    "    alpha = 100 # class attribute\n",
    "    def __init__(self,x,y): # instance attribute\n",
    "        self.x = x\n",
    "        self.y = y\n",
    "        print(\"New point: \", x,y)\n",
    "    \n",
    "    def module(self):\n",
    "        import math\n",
    "        return math.sqrt(self.x**2 + self.y**2)\n",
    "    \n",
    "    def distance(self, other):\n",
    "        import math\n",
    "        return math.sqrt((self.x -other.x)**2 + (self.y - other.y)**2)\n",
    "    \n",
    "    @staticmethod\n",
    "    def mysum(point1, point2): # Sum method\n",
    "        new_x = point1.x + point2.x\n",
    "        new_y = point1.y + point2.y\n",
    "        new_point = Point(new_x, new_y)\n",
    "        return new_point"
   ]
  },
  {
   "cell_type": "markdown",
   "metadata": {},
   "source": [
    "\n",
    "\n",
    "Se usa de la siguiente manera"
   ]
  },
  {
   "cell_type": "code",
   "execution_count": 74,
   "metadata": {},
   "outputs": [
    {
     "name": "stdout",
     "output_type": "stream",
     "text": [
      "New point:  3 5\n",
      "New point:  10 20\n",
      "New point:  13 25\n"
     ]
    },
    {
     "data": {
      "text/plain": [
       "(13, 25)"
      ]
     },
     "execution_count": 74,
     "metadata": {},
     "output_type": "execute_result"
    }
   ],
   "source": [
    "p1 = Point(3,5)\n",
    "p2 = Point(10,20)\n",
    "p3 = Point.mysum(p1, p2)\n",
    "p3.x, p3.y"
   ]
  },
  {
   "cell_type": "code",
   "execution_count": 75,
   "metadata": {},
   "outputs": [
    {
     "data": {
      "text/plain": [
       "28.178005607210743"
      ]
     },
     "execution_count": 75,
     "metadata": {},
     "output_type": "execute_result"
    }
   ],
   "source": [
    "p3.module()"
   ]
  },
  {
   "cell_type": "markdown",
   "metadata": {},
   "source": [
    "\n",
    "\n",
    "## Ejercicios"
   ]
  },
  {
   "cell_type": "markdown",
   "metadata": {},
   "source": [
    "### Ejercicio 0\n",
    "Define una clase Banco, Cuenta, Cliente:\n",
    "\n",
    "- Cliente:\n",
    "  * Atributos\n",
    "     - Nombre\n",
    "     - Edad\n",
    "     - Id-cuenta (o null si no se ha dado de alta)\n",
    "  * Metodos\n",
    "     - Decir hola\n",
    "  \n",
    "- Cuenta:\n",
    "  * Atributos\n",
    "     - Id-cuenta\n",
    "     - Cliente\n",
    "     - Saldo\n",
    "     - Lista de transacciones\n",
    "  * Metodos\n",
    "     - Hacer deposito o retiro (verificar si tienes fondos)\n",
    "     - Imprimir lista de transacciones\n",
    "\n",
    "- Banco:\n",
    "  * Atributos\n",
    "     - Nombre\n",
    "     - Cuentas (diccionario)\n",
    "  * Metodos\n",
    "     - Abrir cuenta (verificar que la cuenta no exista, solo una cuenta por Cliente)\n",
    "     - Cerrar cuenta (verificar que la cuenta exista)\n",
    "     - Imprimir datos de cuentas"
   ]
  },
  {
   "cell_type": "code",
   "execution_count": 170,
   "metadata": {},
   "outputs": [],
   "source": [
    "import datetime\n",
    "import random\n",
    "\n",
    "def unique_id(length=25):\n",
    "    return ''.join([random.choice(list(letters)) for _ in range(length)])\n",
    "\n",
    "def timestamp():\n",
    "    return datetime.datetime.now().strftime(\"%Y-%m-%d %H:%M:%S\")\n",
    "\n",
    "class Client:\n",
    "    \n",
    "    def __init__(self, name, age):\n",
    "        self.name = name\n",
    "        self.age = age\n",
    "        self.account_id = None\n",
    "        \n",
    "        \n",
    "    def hello(self):\n",
    "        print(f'''Hello, my name is {self.name}. I'm {self.age}  years old!''')\n",
    "        \n",
    "\n",
    "class Account:\n",
    "    \n",
    "    def __init__(self, account_id, client, balance=0):\n",
    "        self.id = account_id\n",
    "        self.client = client\n",
    "        self.balance = balance\n",
    "        self.transacts = [{'timestamp': timestamp(), \n",
    "                           'type':'account-opening', \n",
    "                           'amount': balance}]\n",
    "        \n",
    "    \n",
    "    def deposit(self, amount):\n",
    "        if amount < 0: \n",
    "            raise ValueError('The amount most be greater than 0')\n",
    "        self.balance += amount\n",
    "        self.transacts.append({'timestamp': timestamp(), \n",
    "                               'type':'deposit', \n",
    "                               'amount': amount})\n",
    "    \n",
    "    def withdrawl(self, amount):\n",
    "        if amount < 0: \n",
    "            raise ValueError('The amount most be greater than 0')\n",
    "        if amount > self.balance:\n",
    "            print('Unsufficient funds!')\n",
    "            return -1\n",
    "        self.balance -= amount\n",
    "        self.transacts.append({'timestamp': timestamp(), \n",
    "                               'type':'withdrawl', \n",
    "                               'amount': -amount})\n",
    "        \n",
    "    def printTransacts(self):\n",
    "        print(f'Transactions for client: {self.client.name}')\n",
    "        print('---------------------\\n')\n",
    "        for transact in self.transacts:\n",
    "            print(f'{transact[\"timestamp\"]} | {transact[\"type\"]} | {transact[\"amount\"]}\\n')\n",
    "        print('---------------------')\n",
    "        print(f'Final balance:  {self.balance}')\n",
    "        \n",
    "\n",
    "class Bank:\n",
    "    def __init__(self, name):\n",
    "        self.name = name\n",
    "        self.accounts = {}\n",
    "        \n",
    "    def createAccount(self, client, amount):\n",
    "        if client.account_id in self.accounts:\n",
    "            print('The client already has an account!')\n",
    "            return -1\n",
    "        account_id = unique_id()\n",
    "        acc = Account(account_id, client, amount)\n",
    "        client.account_id = account_id\n",
    "        self.accounts[account_id] = acc\n",
    "        print('The account was successfully created!')\n",
    "        \n",
    "        \n",
    "    def removeAccount(self, client):\n",
    "        if client.account_id not in self.accounts:\n",
    "            print('The client has no account!')\n",
    "            return -1\n",
    "        del self.accounts[client.account_id]\n",
    "        client.account_id = None\n",
    "        print('The account was successfully removed!')\n",
    "        \n",
    "        \n",
    "    def deposit(self, client, amount):\n",
    "        if client.account_id in self.accounts:\n",
    "            self.accounts[client.account_id].deposit(amount)\n",
    "        else:\n",
    "            print('The user has no accounts!')\n",
    "            \n",
    "            \n",
    "    def withdrawl(self, client, amount):\n",
    "        if client.account_id in self.accounts:\n",
    "            self.accounts[client.account_id].withdrawl(amount)\n",
    "        else:\n",
    "            print('The user has no accounts!')\n",
    "            \n",
    "            \n",
    "    def printAccountInfo(self, client):\n",
    "        if client.account_id in self.accounts:\n",
    "            self.accounts[client.account_id].printTransacts()\n",
    "        else:\n",
    "            print('The user has no accounts!')\n",
    "        \n",
    "    def printAll(self):\n",
    "        for account in self.accounts.values():\n",
    "            account.printTransacts()\n",
    "        "
   ]
  },
  {
   "cell_type": "code",
   "execution_count": 171,
   "metadata": {},
   "outputs": [],
   "source": [
    "c1 = Client('Mary', 26)\n",
    "c2 = Client('Jenny', 34)"
   ]
  },
  {
   "cell_type": "code",
   "execution_count": 172,
   "metadata": {},
   "outputs": [],
   "source": [
    "b1 = Bank('BBVA')"
   ]
  },
  {
   "cell_type": "code",
   "execution_count": 173,
   "metadata": {},
   "outputs": [
    {
     "name": "stdout",
     "output_type": "stream",
     "text": [
      "The account was successfully created!\n",
      "The account was successfully created!\n"
     ]
    }
   ],
   "source": [
    "b1.createAccount(c1, 500)\n",
    "b1.createAccount(c2, 1500)"
   ]
  },
  {
   "cell_type": "code",
   "execution_count": 174,
   "metadata": {},
   "outputs": [
    {
     "name": "stdout",
     "output_type": "stream",
     "text": [
      "Transactions for client: Mary\n",
      "---------------------\n",
      "\n",
      "2021-01-26 18:12:13 | account-opening | 500\n",
      "\n",
      "2021-01-26 18:12:14 | deposit | 300\n",
      "\n",
      "2021-01-26 18:12:14 | withdrawl | -500\n",
      "\n",
      "---------------------\n",
      "Final balance:  300\n",
      "Transactions for client: Jenny\n",
      "---------------------\n",
      "\n",
      "2021-01-26 18:12:13 | account-opening | 1500\n",
      "\n",
      "2021-01-26 18:12:14 | deposit | 400\n",
      "\n",
      "2021-01-26 18:12:14 | withdrawl | -200\n",
      "\n",
      "2021-01-26 18:12:14 | withdrawl | -400\n",
      "\n",
      "---------------------\n",
      "Final balance:  1300\n"
     ]
    }
   ],
   "source": [
    "# Deposits\n",
    "b1.deposit(c1, 300)\n",
    "b1.deposit(c2, 400)\n",
    "# Withdrawls\n",
    "b1.withdrawl(c1, 500)\n",
    "b1.withdrawl(c2, 200)\n",
    "b1.withdrawl(c2, 400)\n",
    "# Print Transacts\n",
    "b1.printAll()"
   ]
  },
  {
   "cell_type": "code",
   "execution_count": 175,
   "metadata": {},
   "outputs": [
    {
     "name": "stdout",
     "output_type": "stream",
     "text": [
      "The account was successfully removed!\n",
      "The client has no account!\n",
      "Transactions for client: Mary\n",
      "---------------------\n",
      "\n",
      "2021-01-26 18:12:13 | account-opening | 500\n",
      "\n",
      "2021-01-26 18:12:14 | deposit | 300\n",
      "\n",
      "2021-01-26 18:12:14 | withdrawl | -500\n",
      "\n",
      "---------------------\n",
      "Final balance:  300\n"
     ]
    }
   ],
   "source": [
    "b1.removeAccount(c2)\n",
    "b1.removeAccount(c2)\n",
    "b1.printAll()"
   ]
  },
  {
   "cell_type": "markdown",
   "metadata": {},
   "source": [
    "\n",
    "\n",
    "### Ejercicio 2\n",
    "\n",
    "Define la clase TV tal que al ejecutar el siguiente código, la salida sea la esperada. "
   ]
  },
  {
   "cell_type": "code",
   "execution_count": null,
   "metadata": {},
   "outputs": [],
   "source": [
    "def main():\n",
    "    tv1 = TV()\n",
    "    tv1.turnOn()\n",
    "    tv1.setChannel(30)\n",
    "    tv1.setVolume(3)\n",
    "    \n",
    "    tv2 = TV()\n",
    "    tv2.turnOn()\n",
    "    tv2.channelUp()\n",
    "    tv2.channelUp()\n",
    "    tv2.volumeUp()\n",
    "    \n",
    "    print(\"TV1 has cannel:\", tv1.getChannel(), 'On', \n",
    "        \"and the volume is\", tv1.getVolumeLevel())\n",
    "    print(\"TV2 has cannel:\", tv2.getChannel(), 'On',\n",
    "        \"and the volume is\", tv2.getVolumeLevel())\n",
    "    \n",
    "    tv2.channelDown()\n",
    "    tv2.volumeDown()\n",
    "    \n",
    "    print(\"TV2 has cannel:\", tv2.getChannel(), 'On',\n",
    "        \"and the volume is\", tv2.getVolumeLevel())\n",
    "    \n",
    "    tv1.turnOff()\n",
    "    tv2.turnOff()\n",
    "\n",
    "main() # Call the main function"
   ]
  },
  {
   "cell_type": "code",
   "execution_count": null,
   "metadata": {},
   "outputs": [],
   "source": [
    "# Respuesta aqui"
   ]
  },
  {
   "cell_type": "markdown",
   "metadata": {},
   "source": [
    "\n",
    "\n",
    "### Ejercicio 3"
   ]
  },
  {
   "cell_type": "markdown",
   "metadata": {},
   "source": [
    "\n",
    "\n",
    "Completar el código a continuación implementando funciones de la clase intSet: insert, member, and remove. \n",
    "- Insert: se le pasa como argumento un entero, y lo inserta\n",
    "- Member: se asume que se le pasará un entero. Devuelve True si el elemento está contenido en self.vals, y False si no es así\n",
    "- Remove: se asume que se le pasará un entero. Lo elimina de self si está. Sino, saltará un error. "
   ]
  },
  {
   "cell_type": "code",
   "execution_count": null,
   "metadata": {},
   "outputs": [],
   "source": [
    "class intSet(object):\n",
    "    \"\"\"\n",
    "    The class intSet is a set of whole numbers\n",
    "    The value is shown as a list of integers, self.vals\n",
    "    Each integer is in self.vals once at the most (no duplicates)\n",
    "    \"\"\"\n",
    "    def __init__(self):\n",
    "        \"\"\" Empty set of integers \"\"\"\n",
    "        self.vals = []\n",
    "\n",
    "    def __str__(self):\n",
    "        \"\"\" Return string representation of the class \"\"\"\n",
    "        self.vals.sort()\n",
    "        return '{' + ','.join([str(e) for e in self.vals]) + '}'\n",
    "\n",
    "\n",
    "s = intSet()\n",
    "print(s)\n",
    "s.insert(3)\n",
    "s.insert(4)\n",
    "s.insert(3)\n",
    "print(s)\n",
    "s.member(3)\n",
    "s.member(5)\n",
    "s.insert(6)\n",
    "print(s)\n",
    "s.remove(3)"
   ]
  },
  {
   "cell_type": "code",
   "execution_count": null,
   "metadata": {},
   "outputs": [],
   "source": [
    "# Respuesta aqui"
   ]
  },
  {
   "cell_type": "markdown",
   "metadata": {},
   "source": [
    "\n",
    "\n",
    "### Ejercicio 4\n",
    "\n",
    "Define una clase llamada \"Brasileno\" y una subclase llamada \"Paulista\" tal que los print siguientes dan la salida que se ve a continuación:\n",
    "\n",
    "\n",
    "Pais Brasil\n",
    "\n",
    "\n",
    "Ciudad Sao Paulo, pais Brasil\n"
   ]
  },
  {
   "cell_type": "code",
   "execution_count": null,
   "metadata": {},
   "outputs": [],
   "source": [
    "print ('Country '+ aBrazilian.get_country())\n",
    "print ('City ' + aPaulistano.get_city() + ', country ' + aPaulistano.get_country())"
   ]
  },
  {
   "cell_type": "code",
   "execution_count": null,
   "metadata": {},
   "outputs": [],
   "source": [
    "# Respuesta aqui"
   ]
  },
  {
   "cell_type": "markdown",
   "metadata": {},
   "source": [
    "\n",
    "\n",
    "### Ejercicio 5\n",
    "\n",
    "Define una clase Persona y sus dos subclases: Mujer y Hombre. Todas las clases tienen el metodo \"getGender\" que imprimirá \"Mujer\" u \"Hombre\" según la clase. "
   ]
  },
  {
   "cell_type": "code",
   "execution_count": null,
   "metadata": {},
   "outputs": [],
   "source": [
    "print (hombre.getGender())\n",
    "print (mujer.getGender())"
   ]
  },
  {
   "cell_type": "code",
   "execution_count": null,
   "metadata": {},
   "outputs": [],
   "source": [
    "# Respuesta aqui"
   ]
  },
  {
   "cell_type": "markdown",
   "metadata": {},
   "source": [
    "\n",
    "\n",
    "### Ejercicio 6"
   ]
  },
  {
   "cell_type": "markdown",
   "metadata": {},
   "source": [
    "\n",
    "\n",
    "Sea la clase Animal la que vemos a continuación:"
   ]
  },
  {
   "cell_type": "code",
   "execution_count": null,
   "metadata": {},
   "outputs": [],
   "source": [
    "class Animal(object):\n",
    "    def __init__(self, age):\n",
    "        self.age = age\n",
    "        self.name = None\n",
    "    def get_age(self):\n",
    "        return self.age\n",
    "    def get_name(self):\n",
    "        return self.name\n",
    "    def set_age(self, newage):\n",
    "        self.age = newage\n",
    "    def set_name(self, newname=\"\"):\n",
    "        self.name = newname\n",
    "    def __str__(self):\n",
    "        return \"Nombre animal: \"+str(self.name)+\", edad:\"+str(self.age)\n",
    "        \n",
    "a = Animal(4)\n",
    "print(a)\n",
    "print(a.get_age())\n",
    "a.set_name(\"fluffy\")\n",
    "print(a)\n",
    "a.set_name()\n",
    "print(a)"
   ]
  },
  {
   "cell_type": "markdown",
   "metadata": {},
   "source": [
    "\n",
    "\n",
    "Crear una subclase de Animal, Person, que tenga lo siguiente:\n",
    "- Variable de instancia: friends\n",
    "- Metodo get_friends: devuelve el valor de friends el cual se inicializa al crear la instancia.\n",
    "- speak: imprimirá \"Hola!\"\n",
    "- add_friend: añade un amigo a la variable de instancia friends, si dicho nombre no está ya en la lista. Se le pasa como argumento el nombre del amigo.\n",
    "- age_diff: imprime la diferencia de edad entre otra persona y yo. Se le pasa como argumento la edad de la otra persona. Se imprime como número entero.\n",
    "- Nota: al inicializar la instancia de Person, le pasas como argumento el nombre y edad de la persona. "
   ]
  },
  {
   "cell_type": "code",
   "execution_count": null,
   "metadata": {},
   "outputs": [],
   "source": [
    "# Your code goes here\n",
    "\n",
    "# class ...:\n",
    "\n",
    "    def __str__(self):\n",
    "        return \"Person's name: \"+str(self.name)+\":\"+str(self.age)\n",
    "\n",
    "p1 = Person(\"jack\", 30)\n",
    "p2 = Person(\"jill\", 25)\n",
    "print(p1.get_name())\n",
    "print(p1.get_age())\n",
    "print(p2.get_name())\n",
    "print(p2.get_age())\n",
    "print(p1)\n",
    "p1.speak()\n",
    "p1.age_diff(p2)\n"
   ]
  },
  {
   "cell_type": "code",
   "execution_count": null,
   "metadata": {},
   "outputs": [],
   "source": [
    "# Respuesta aqui"
   ]
  }
 ],
 "metadata": {
  "kernelspec": {
   "display_name": "Python 3",
   "language": "python",
   "name": "python3"
  },
  "language_info": {
   "codemirror_mode": {
    "name": "ipython",
    "version": 3
   },
   "file_extension": ".py",
   "mimetype": "text/x-python",
   "name": "python",
   "nbconvert_exporter": "python",
   "pygments_lexer": "ipython3",
   "version": "3.6.12"
  }
 },
 "nbformat": 4,
 "nbformat_minor": 4
}
