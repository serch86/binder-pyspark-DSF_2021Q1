{
 "cells": [
  {
   "cell_type": "code",
   "execution_count": 1,
   "metadata": {},
   "outputs": [],
   "source": [
    "SANDBOX_NAME = 'fmex' # Sandbox Name\n",
    "DATA_PATH = \"/data/sandboxes/\" + SANDBOX_NAME + \"/data/\""
   ]
  },
  {
   "cell_type": "markdown",
   "metadata": {},
   "source": [
    "\n",
    "\n",
    "# Lectura y escritura de ficheros"
   ]
  },
  {
   "cell_type": "markdown",
   "metadata": {},
   "source": [
    "\n",
    "\n",
    "\n",
    "### *Lectura de ficheros*"
   ]
  },
  {
   "cell_type": "markdown",
   "metadata": {},
   "source": [
    "\n",
    "\n",
    "Abrimos el fichero llamado file en la carpeta files y lo leemos"
   ]
  },
  {
   "cell_type": "code",
   "execution_count": null,
   "metadata": {},
   "outputs": [],
   "source": [
    "file = open('files/file.txt')"
   ]
  },
  {
   "cell_type": "code",
   "execution_count": null,
   "metadata": {},
   "outputs": [],
   "source": [
    "file.read()"
   ]
  },
  {
   "cell_type": "markdown",
   "metadata": {},
   "source": [
    "\n",
    "\n",
    "Python ha leído el fichero entero, y lo ha impreso por pantalla traduciendo los retornos de carro por '\\n'."
   ]
  },
  {
   "cell_type": "markdown",
   "metadata": {},
   "source": [
    "\n",
    "\n",
    "Si probamos nuevamente a leer el fichero veremos que no imprime nada, pues el cursor de lectura avanzó al final del texto y ya no hay nada para leer."
   ]
  },
  {
   "cell_type": "code",
   "execution_count": null,
   "metadata": {},
   "outputs": [],
   "source": [
    "file.read()"
   ]
  },
  {
   "cell_type": "code",
   "execution_count": null,
   "metadata": {},
   "outputs": [],
   "source": [
    "file.close()"
   ]
  },
  {
   "cell_type": "code",
   "execution_count": null,
   "metadata": {},
   "outputs": [],
   "source": [
    "file = open('files/file.txt')"
   ]
  },
  {
   "cell_type": "markdown",
   "metadata": {},
   "source": [
    "\n",
    "\n",
    "También se puede leer línea a línea"
   ]
  },
  {
   "cell_type": "code",
   "execution_count": null,
   "metadata": {},
   "outputs": [],
   "source": [
    "print(file.readline())\n",
    "print(file.readline())\n",
    "print(file.readline())\n",
    "print(file.readline())\n",
    "print(file.readline())"
   ]
  },
  {
   "cell_type": "code",
   "execution_count": null,
   "metadata": {},
   "outputs": [],
   "source": [
    "file.close()\n",
    "\n",
    "file = open('files/file.txt')"
   ]
  },
  {
   "cell_type": "code",
   "execution_count": null,
   "metadata": {},
   "outputs": [],
   "source": [
    "for line in file:\n",
    "    print(line);"
   ]
  },
  {
   "cell_type": "markdown",
   "metadata": {},
   "source": [
    "\n",
    "\n",
    "También podemos obtener todas las lineas del fichero como una lista"
   ]
  },
  {
   "cell_type": "code",
   "execution_count": null,
   "metadata": {},
   "outputs": [],
   "source": [
    "file.close()\n",
    "\n",
    "file = open('files/file.txt')"
   ]
  },
  {
   "cell_type": "code",
   "execution_count": null,
   "metadata": {},
   "outputs": [],
   "source": [
    "file.readlines()"
   ]
  },
  {
   "cell_type": "code",
   "execution_count": null,
   "metadata": {},
   "outputs": [],
   "source": [
    "file.close()\n",
    "\n",
    "file = open('files/file.txt')"
   ]
  },
  {
   "cell_type": "code",
   "execution_count": null,
   "metadata": {},
   "outputs": [],
   "source": [
    "list(file)"
   ]
  },
  {
   "cell_type": "markdown",
   "metadata": {},
   "source": [
    "\n",
    "\n",
    "\n",
    "### *Escritura de ficheros*#"
   ]
  },
  {
   "cell_type": "markdown",
   "metadata": {},
   "source": [
    "\n",
    "\n",
    "Como cualquier cosa que queramos escribir debe ser tipo cadena, podemos usar la función str() que convierte a tipo string si lo que vamos a escribir no es una cadena.\n",
    "No añade carácter de nueva línea, hay que añadirlo silo queremos.\n"
   ]
  },
  {
   "cell_type": "markdown",
   "metadata": {},
   "source": [
    "\n",
    "\n",
    "Para añadir líneas a un fichero, se utiliza como parámetro en la apertura del fichero el modo 'a'"
   ]
  },
  {
   "cell_type": "code",
   "execution_count": null,
   "metadata": {},
   "outputs": [],
   "source": [
    "file = open('files/file.txt', 'a')"
   ]
  },
  {
   "cell_type": "code",
   "execution_count": null,
   "metadata": {},
   "outputs": [],
   "source": [
    "file.write('\\nLine added as example.\\n') "
   ]
  },
  {
   "cell_type": "code",
   "execution_count": null,
   "metadata": {},
   "outputs": [],
   "source": [
    "file.close()"
   ]
  },
  {
   "cell_type": "markdown",
   "metadata": {},
   "source": [
    "\n",
    "\n",
    "Abrir un fichero con el modo 'r+'  permite leerlo y escribir valores. "
   ]
  },
  {
   "cell_type": "code",
   "execution_count": null,
   "metadata": {},
   "outputs": [],
   "source": [
    "file = open('files/file.txt', 'r+')\n",
    "file.write('Test')\n",
    "file.read()"
   ]
  },
  {
   "cell_type": "code",
   "execution_count": null,
   "metadata": {},
   "outputs": [],
   "source": [
    "file.close()"
   ]
  },
  {
   "cell_type": "markdown",
   "metadata": {},
   "source": [
    "\n",
    "\n",
    "### *With Statement*"
   ]
  },
  {
   "cell_type": "markdown",
   "metadata": {},
   "source": [
    "\n",
    "\n",
    "También se puede trabajar con ficheros usando el *with* statement. Está diseñado para trabajar con sintaxis más limpia, y manejo de excepciones mientras se trabaja (se verá más adelante el manejo de excepciones).\n",
    "\n",
    "Una ventaja de usar este método es que cualquier fichero abierto se cerrará automaticamente. \n",
    "\n",
    "Se usa así:\n",
    "\n",
    "**with open**(“filename”) **as** file: \n",
    "\n",
    "    {código}"
   ]
  },
  {
   "cell_type": "code",
   "execution_count": null,
   "metadata": {},
   "outputs": [],
   "source": [
    "with open(\"files/file.txt\") as f: \n",
    "    for line in f: \n",
    "        print (line)"
   ]
  },
  {
   "cell_type": "markdown",
   "metadata": {},
   "source": [
    "\n",
    "\n",
    "## Ejercicios "
   ]
  },
  {
   "cell_type": "markdown",
   "metadata": {},
   "source": [
    "\n",
    "\n",
    "### Ejercicio 1"
   ]
  },
  {
   "cell_type": "markdown",
   "metadata": {},
   "source": [
    "\n",
    "\n",
    "Escribe código tal que:\n",
    "    - Solicite por pantalla un entero\n",
    "    - Si el entero no es 0, lo escribe en un fichero, y solicita otro entero\n",
    "    - Así hasta que el usuario introduce 0\n",
    "    - En ese caso se cierra el fichero y se vuelve a abrir para leerlo e imprimir cada linea por pantalla"
   ]
  },
  {
   "cell_type": "code",
   "execution_count": null,
   "metadata": {},
   "outputs": [],
   "source": [
    "# Respuesta aqui"
   ]
  },
  {
   "cell_type": "markdown",
   "metadata": {},
   "source": [
    "\n",
    "\n",
    "### Ejercicio 2"
   ]
  },
  {
   "cell_type": "markdown",
   "metadata": {},
   "source": [
    "\n",
    "\n",
    "Escribe código que lea el fichero file en la carpeta files, y que para cada línea del fichero, meta las palabras en una lista e imprima dicha lista.\n",
    "\n",
    "Se imprimirán tantas listas como líneas en el fichero. \n",
    "\n",
    "Nota: cuando se habla de palabras, se refiere a las unidades de texto separadas por espacios"
   ]
  },
  {
   "cell_type": "code",
   "execution_count": null,
   "metadata": {},
   "outputs": [],
   "source": [
    "# Respuesta aqui"
   ]
  },
  {
   "cell_type": "markdown",
   "metadata": {},
   "source": [
    "\n",
    "\n",
    "### Ejercicio 3"
   ]
  },
  {
   "cell_type": "markdown",
   "metadata": {},
   "source": [
    "\n",
    "\n",
    "Escribe un programa que escriba la siguiente lista: ['Red', 'Green', 'White', 'Black', 'Pink', 'Yellow']\n",
    "en un fichero. Luego lo lea, e imprima el contenido"
   ]
  },
  {
   "cell_type": "code",
   "execution_count": null,
   "metadata": {},
   "outputs": [],
   "source": [
    "# Respuesta aqui"
   ]
  },
  {
   "cell_type": "markdown",
   "metadata": {},
   "source": [
    "\n",
    "\n",
    "### Ejercicio 4"
   ]
  },
  {
   "cell_type": "markdown",
   "metadata": {},
   "source": [
    "\n",
    "\n",
    "Haz un script que devuelva la palabra más larga y la más frecuente (con longitud mayor a tres caracteres). Dentro de Hamlet. Que no sea una palabra de paro = stopword."
   ]
  },
  {
   "cell_type": "code",
   "execution_count": 8,
   "metadata": {},
   "outputs": [],
   "source": [
    "import os"
   ]
  },
  {
   "cell_type": "code",
   "execution_count": 12,
   "metadata": {},
   "outputs": [],
   "source": [
    "# os.getcwd()\n",
    "# os.listdir()\n",
    "# os.chdir()"
   ]
  },
  {
   "cell_type": "code",
   "execution_count": 20,
   "metadata": {},
   "outputs": [],
   "source": [
    "sw = []\n",
    "with open('./files/stopwords.txt') as f:\n",
    "    for line in f:\n",
    "        sw.append(line.replace('\\n', ''))\n",
    "sw = set(sw)"
   ]
  },
  {
   "cell_type": "code",
   "execution_count": 26,
   "metadata": {},
   "outputs": [],
   "source": [
    "line = '..;;;;,,,-----^^ 23432423///'"
   ]
  },
  {
   "cell_type": "code",
   "execution_count": 14,
   "metadata": {},
   "outputs": [],
   "source": [
    "import re"
   ]
  },
  {
   "cell_type": "code",
   "execution_count": 29,
   "metadata": {},
   "outputs": [
    {
     "name": "stdout",
     "output_type": "stream",
     "text": [
      "not empty list\n"
     ]
    }
   ],
   "source": [
    "# line.replace('.', '').replace(',', '').replace(';','').....\n",
    "if ['not']:\n",
    "    print('not empty list')"
   ]
  },
  {
   "cell_type": "code",
   "execution_count": 75,
   "metadata": {},
   "outputs": [],
   "source": [
    "# 1.0.- Leer hamlet. [X]\n",
    "#        1.1.- Solo leer palabras (quitar puntos, comas, ...)\n",
    "#        1.2.- Pasar todas las palabras a lowercase: Hamlet y hamlet y HAMLET. [hint: w.lower()]\n",
    "# 2.- Crear un diccionario en donde la palabra es la llave y cuantas veces aparece es el valor [X]\n",
    "#      {'word1': (count, length)...} <- length > 3 y que no están en stopwords. \n",
    "# 3.- Obtener la palabra mas larga y la mas frecuente. <- \n",
    "hamlet = {}\n",
    "with open('./files/hamlet.txt') as f: \n",
    "    for line in f: \n",
    "        clean_line = [x for x in re.findall('[a-z]+', line.lower()) if x not in sw]\n",
    "        if clean_line:\n",
    "            for word in clean_line:\n",
    "                if word in hamlet:\n",
    "                    hamlet[word][0] += 1\n",
    "                else:\n",
    "                    hamlet[word] = [0, 0]\n",
    "                    hamlet[word][0] = 1\n",
    "                    hamlet[word][1] = len(word)"
   ]
  },
  {
   "cell_type": "code",
   "execution_count": 62,
   "metadata": {},
   "outputs": [],
   "source": [
    "# aux = list(hamlet.items())[:10]"
   ]
  },
  {
   "cell_type": "code",
   "execution_count": 64,
   "metadata": {},
   "outputs": [],
   "source": [
    "# type(aux[1][1][0])"
   ]
  },
  {
   "cell_type": "code",
   "execution_count": 80,
   "metadata": {},
   "outputs": [
    {
     "name": "stdout",
     "output_type": "stream",
     "text": [
      "('footnote', [480, 8])\n",
      "('contemptuousness', [1, 16])\n"
     ]
    }
   ],
   "source": [
    "print(max(list(hamlet.items()), key=lambda x: x[1][0]))\n",
    "print(max(list(hamlet.items()), key=lambda x: x[1][1]))"
   ]
  },
  {
   "cell_type": "code",
   "execution_count": 72,
   "metadata": {},
   "outputs": [
    {
     "data": {
      "text/plain": [
       "['contemptuousness',\n",
       " 'unenforceability',\n",
       " 'personification',\n",
       " 'gloucestershire',\n",
       " 'accomplishments',\n",
       " 'representations',\n",
       " 'merchantibility',\n",
       " 'representation',\n",
       " 'representation',\n",
       " 'lasciviousness']"
      ]
     },
     "execution_count": 72,
     "metadata": {},
     "output_type": "execute_result"
    }
   ],
   "source": [
    "sorted(hamlet, key=len, reverse=True)[:10]"
   ]
  },
  {
   "cell_type": "code",
   "execution_count": 82,
   "metadata": {},
   "outputs": [
    {
     "data": {
      "text/plain": [
       "[('footnote', [480, 8]),\n",
       " ('ham', [280, 3]),\n",
       " ('king', [168, 4]),\n",
       " ('lord', [159, 4]),\n",
       " ('iii', [147, 3]),\n",
       " ('hamlet', [136, 6]),\n",
       " ('queen', [113, 5]),\n",
       " ('gutenberg', [93, 9]),\n",
       " ('project', [87, 7]),\n",
       " ('thy', [87, 3])]"
      ]
     },
     "execution_count": 82,
     "metadata": {},
     "output_type": "execute_result"
    }
   ],
   "source": [
    "sorted(list(hamlet.items()), key=lambda x: x[1][0], reverse=True)[:10]"
   ]
  }
 ],
 "metadata": {
  "kernelspec": {
   "display_name": "Python 3",
   "language": "python",
   "name": "python3"
  },
  "language_info": {
   "codemirror_mode": {
    "name": "ipython",
    "version": 3
   },
   "file_extension": ".py",
   "mimetype": "text/x-python",
   "name": "python",
   "nbconvert_exporter": "python",
   "pygments_lexer": "ipython3",
   "version": "3.6.12"
  }
 },
 "nbformat": 4,
 "nbformat_minor": 4
}
