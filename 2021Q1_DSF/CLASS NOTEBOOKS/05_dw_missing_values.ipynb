{
 "cells": [
  {
   "cell_type": "code",
   "execution_count": 1,
   "metadata": {},
   "outputs": [],
   "source": [
    "# Global data variables\n",
    "DATA_PATH = \"/Users/luis/Documents/Work/Telefonica/Courses/DATA/\" "
   ]
  },
  {
   "cell_type": "markdown",
   "metadata": {},
   "source": [
    "\n",
    "\n",
    "# Valores Ausentes\n",
    "\n",
    "Los valores ausentes en _pyspark_ están identificados como _null_. El método `isNull` permite idenficar los registros nulos y `isNotNull` los no nulos."
   ]
  },
  {
   "cell_type": "code",
   "execution_count": 2,
   "metadata": {},
   "outputs": [],
   "source": [
    "from pyspark.sql import functions as F"
   ]
  },
  {
   "cell_type": "code",
   "execution_count": 3,
   "metadata": {},
   "outputs": [],
   "source": [
    "vancouver_df = spark.read.csv(DATA_PATH + 'crime_in_vancouver.csv', sep=',', header=True, inferSchema=True)"
   ]
  },
  {
   "cell_type": "code",
   "execution_count": 6,
   "metadata": {},
   "outputs": [
    {
     "name": "stdout",
     "output_type": "stream",
     "text": [
      "+------------------------------------------------------+\n",
      "|TYPE                                                  |\n",
      "+------------------------------------------------------+\n",
      "|Vehicle Collision or Pedestrian Struck (with Injury)  |\n",
      "|Other Theft                                           |\n",
      "|Homicide                                              |\n",
      "|Vehicle Collision or Pedestrian Struck (with Fatality)|\n",
      "|Mischief                                              |\n",
      "|Offence Against a Person                              |\n",
      "|Theft of Bicycle                                      |\n",
      "|Break and Enter Commercial                            |\n",
      "|Theft from Vehicle                                    |\n",
      "|Break and Enter Residential/Other                     |\n",
      "|Theft of Vehicle                                      |\n",
      "+------------------------------------------------------+\n",
      "\n"
     ]
    }
   ],
   "source": [
    "vancouver_df.select(F.col('TYPE')).distinct().show(20, False)"
   ]
  },
  {
   "cell_type": "code",
   "execution_count": 9,
   "metadata": {},
   "outputs": [
    {
     "name": "stdout",
     "output_type": "stream",
     "text": [
      "+----+----+-----+---+----+------+-------------+-------------+---+---+\n",
      "|TYPE|YEAR|MONTH|DAY|HOUR|MINUTE|HUNDRED_BLOCK|NEIGHBOURHOOD|X  |Y  |\n",
      "+----+----+-----+---+----+------+-------------+-------------+---+---+\n",
      "+----+----+-----+---+----+------+-------------+-------------+---+---+\n",
      "\n"
     ]
    }
   ],
   "source": [
    "vancouver_df.filter(F.col('NEIGHBOURHOOD').isNotNull() &\n",
    "                    F.col('HOUR').isNull()).show(20, False)"
   ]
  },
  {
   "cell_type": "code",
   "execution_count": 10,
   "metadata": {},
   "outputs": [
    {
     "name": "stdout",
     "output_type": "stream",
     "text": [
      "+--------------------+----+-----+---+----+------+--------------------+--------------------+---------+----------+\n",
      "|                TYPE|YEAR|MONTH|DAY|HOUR|MINUTE|       HUNDRED_BLOCK|       NEIGHBOURHOOD|        X|         Y|\n",
      "+--------------------+----+-----+---+----+------+--------------------+--------------------+---------+----------+\n",
      "|  Theft from Vehicle|2003|    1|  7|  10|     0|CARDERO ST / W GE...|            West End|490503.48|5459766.67|\n",
      "|  Theft from Vehicle|2003|    7| 27|   5|     0|    53XX CHAMBERS ST| Renfrew-Collingwood|496145.89|5453740.68|\n",
      "|Break and Enter R...|2003|    3|  8|   4|    15|     19XX E 12TH AVE|Kensington-Cedar ...|495302.97|5456313.79|\n",
      "|  Theft from Vehicle|2003|   10|  9|  16|     0|     16XX CHARLES ST|  Grandview-Woodland|494877.89| 5457816.4|\n",
      "+--------------------+----+-----+---+----+------+--------------------+--------------------+---------+----------+\n",
      "only showing top 4 rows\n",
      "\n"
     ]
    }
   ],
   "source": [
    "vancouver_df.filter(F.col('NEIGHBOURHOOD').isNotNull()).show(4)"
   ]
  },
  {
   "cell_type": "markdown",
   "metadata": {},
   "source": [
    " \n",
    "\n",
    "## Conteo de valores nulos"
   ]
  },
  {
   "cell_type": "code",
   "execution_count": 11,
   "metadata": {},
   "outputs": [
    {
     "data": {
      "text/plain": [
       "58423"
      ]
     },
     "execution_count": 11,
     "metadata": {},
     "output_type": "execute_result"
    }
   ],
   "source": [
    "vancouver_df.filter(F.col('NEIGHBOURHOOD').isNull()).count()"
   ]
  },
  {
   "cell_type": "code",
   "execution_count": 12,
   "metadata": {},
   "outputs": [
    {
     "data": {
      "text/plain": [
       "0"
      ]
     },
     "execution_count": 12,
     "metadata": {},
     "output_type": "execute_result"
    }
   ],
   "source": [
    "vancouver_df.filter(F.col('TYPE').isNull()).count()"
   ]
  },
  {
   "cell_type": "markdown",
   "metadata": {},
   "source": [
    "\n",
    "\n",
    "### Porcentaje de ausentes por columna\n",
    "\n",
    "El primer método es menos eficiente que el segundo ya que requiere ejecutar una acción por cada columna. Como norma general en Spark hay que intentar realizar el número mínimo de acciones."
   ]
  },
  {
   "cell_type": "code",
   "execution_count": 13,
   "metadata": {},
   "outputs": [],
   "source": [
    "n_rows_vancouver = vancouver_df.count()"
   ]
  },
  {
   "cell_type": "markdown",
   "metadata": {},
   "source": [
    "\n",
    "\n",
    "__Método 1:__"
   ]
  },
  {
   "cell_type": "code",
   "execution_count": 14,
   "metadata": {},
   "outputs": [
    {
     "name": "stdout",
     "output_type": "stream",
     "text": [
      "TYPE 0.0\n",
      "YEAR 0.0\n",
      "MONTH 0.0\n",
      "DAY 0.0\n",
      "HOUR 10.16\n",
      "MINUTE 10.16\n",
      "HUNDRED_BLOCK 0.0\n",
      "NEIGHBOURHOOD 10.58\n",
      "X 0.0\n",
      "Y 0.0\n",
      "CPU times: user 12.8 ms, sys: 4.44 ms, total: 17.2 ms\n",
      "Wall time: 2.09 s\n"
     ]
    }
   ],
   "source": [
    "%%time\n",
    "\n",
    "for col in vancouver_df.columns:\n",
    "    \n",
    "    n_missing = vancouver_df.filter(F.col(col).isNull()).count()\n",
    "    perc_missing = 100 * n_missing / n_rows_vancouver\n",
    "    \n",
    "    print(col, round(perc_missing, 2))"
   ]
  },
  {
   "cell_type": "markdown",
   "metadata": {},
   "source": [
    "\n",
    "\n",
    "__Método 2:__\n",
    "\n",
    "Para una única columna"
   ]
  },
  {
   "cell_type": "code",
   "execution_count": 15,
   "metadata": {},
   "outputs": [
    {
     "name": "stdout",
     "output_type": "stream",
     "text": [
      "+-------------+\n",
      "|NEIGHBOURHOOD|\n",
      "+-------------+\n",
      "|        10.58|\n",
      "+-------------+\n",
      "\n"
     ]
    }
   ],
   "source": [
    "vancouver_df.select(F.round(F.sum(F.col('NEIGHBOURHOOD').isNull().cast('int')) * 100 / n_rows_vancouver, 2)\\\n",
    "                      .alias('NEIGHBOURHOOD')).show()"
   ]
  },
  {
   "cell_type": "markdown",
   "metadata": {},
   "source": [
    "\n",
    "\n",
    "Todas las columnas"
   ]
  },
  {
   "cell_type": "code",
   "execution_count": 17,
   "metadata": {},
   "outputs": [
    {
     "name": "stdout",
     "output_type": "stream",
     "text": [
      "+----+----+-----+---+-----+------+-------------+-------------+---+---+\n",
      "|TYPE|YEAR|MONTH|DAY| HOUR|MINUTE|HUNDRED_BLOCK|NEIGHBOURHOOD|  X|  Y|\n",
      "+----+----+-----+---+-----+------+-------------+-------------+---+---+\n",
      "| 0.0| 0.0|  0.0|0.0|10.16| 10.16|          0.0|        10.58|0.0|0.0|\n",
      "+----+----+-----+---+-----+------+-------------+-------------+---+---+\n",
      "\n",
      "CPU times: user 17.4 ms, sys: 5.28 ms, total: 22.7 ms\n",
      "Wall time: 570 ms\n"
     ]
    }
   ],
   "source": [
    "%%time \n",
    "\n",
    "missing_ops = [F.round(F.sum(F.col(c).isNull().cast('int')) * 100 / n_rows_vancouver, 2).alias(c) \n",
    "               for c in vancouver_df.columns]\n",
    "\n",
    "vancouver_df.select(missing_ops).show()"
   ]
  },
  {
   "cell_type": "markdown",
   "metadata": {},
   "source": [
    " \n",
    "\n",
    "## Eliminación registros nulos\n",
    "\n",
    "El método `dropna` se utiliza para eliminar registros nulos. Con el parámetro `subset` se indican sobre qué columnas buscar nulos y el parámetro `how` selecciona con qué condición se elimina un registro. Por defecto, `how` está a 'any'."
   ]
  },
  {
   "cell_type": "code",
   "execution_count": 18,
   "metadata": {},
   "outputs": [
    {
     "data": {
      "text/plain": [
       "552055"
      ]
     },
     "execution_count": 18,
     "metadata": {},
     "output_type": "execute_result"
    }
   ],
   "source": [
    "vancouver_df.dropna(how='all').count()"
   ]
  },
  {
   "cell_type": "code",
   "execution_count": 19,
   "metadata": {},
   "outputs": [
    {
     "data": {
      "text/plain": [
       "552055"
      ]
     },
     "execution_count": 19,
     "metadata": {},
     "output_type": "execute_result"
    }
   ],
   "source": [
    "n_rows_vancouver"
   ]
  },
  {
   "cell_type": "code",
   "execution_count": 21,
   "metadata": {},
   "outputs": [
    {
     "data": {
      "text/plain": [
       "493619"
      ]
     },
     "execution_count": 21,
     "metadata": {},
     "output_type": "execute_result"
    }
   ],
   "source": [
    "vancouver_df.dropna().count()"
   ]
  },
  {
   "cell_type": "code",
   "execution_count": 22,
   "metadata": {},
   "outputs": [],
   "source": [
    "vancouver_no_missing_df = vancouver_df.dropna(subset=['HOUR', 'MINUTE'])"
   ]
  },
  {
   "cell_type": "code",
   "execution_count": 23,
   "metadata": {},
   "outputs": [
    {
     "name": "stdout",
     "output_type": "stream",
     "text": [
      "+----+----+-----+---+----+------+-------------+-------------+---+---+\n",
      "|TYPE|YEAR|MONTH|DAY|HOUR|MINUTE|HUNDRED_BLOCK|NEIGHBOURHOOD|  X|  Y|\n",
      "+----+----+-----+---+----+------+-------------+-------------+---+---+\n",
      "| 0.0| 0.0|  0.0|0.0| 0.0|   0.0|          0.0|         0.42|0.0|0.0|\n",
      "+----+----+-----+---+----+------+-------------+-------------+---+---+\n",
      "\n"
     ]
    }
   ],
   "source": [
    "vancouver_no_missing_df.select(missing_ops).show()"
   ]
  },
  {
   "cell_type": "markdown",
   "metadata": {},
   "source": [
    "\n",
    "\n",
    "## Imputación de valores nulos\n",
    "\n",
    "`fillna` imputa los valores nulos de las columnas a un valor fijo elegido."
   ]
  },
  {
   "cell_type": "code",
   "execution_count": 24,
   "metadata": {},
   "outputs": [
    {
     "name": "stdout",
     "output_type": "stream",
     "text": [
      "+--------------------+----+-----+---+----+------+--------------------+-------------------+---------+----------+\n",
      "|                TYPE|YEAR|MONTH|DAY|HOUR|MINUTE|       HUNDRED_BLOCK|      NEIGHBOURHOOD|        X|         Y|\n",
      "+--------------------+----+-----+---+----+------+--------------------+-------------------+---------+----------+\n",
      "|Offence Against a...|2003|    5| 17|null|  null|OFFSET TO PROTECT...|               null|      0.0|       0.0|\n",
      "|  Theft from Vehicle|2003|    1|  7|  10|     0|CARDERO ST / W GE...|           West End|490503.48|5459766.67|\n",
      "|  Theft from Vehicle|2003|    7| 27|   5|     0|    53XX CHAMBERS ST|Renfrew-Collingwood|496145.89|5453740.68|\n",
      "+--------------------+----+-----+---+----+------+--------------------+-------------------+---------+----------+\n",
      "only showing top 3 rows\n",
      "\n"
     ]
    }
   ],
   "source": [
    "vancouver_df.show(3)"
   ]
  },
  {
   "cell_type": "markdown",
   "metadata": {},
   "source": [
    "\n",
    "\n",
    "Imputa los valores nulos de las columnas `HOUR` y `MINUTE` por el valor 0, y los de la columna `NEIGHBOURHOOD` por 'Unknown'."
   ]
  },
  {
   "cell_type": "code",
   "execution_count": 28,
   "metadata": {},
   "outputs": [
    {
     "name": "stdout",
     "output_type": "stream",
     "text": [
      "+--------------------+----+-----+---+----+------+--------------------+-------------------+---------+----------+\n",
      "|                TYPE|YEAR|MONTH|DAY|HOUR|MINUTE|       HUNDRED_BLOCK|      NEIGHBOURHOOD|        X|         Y|\n",
      "+--------------------+----+-----+---+----+------+--------------------+-------------------+---------+----------+\n",
      "|Offence Against a...|2003|    5| 17|   0|     1|OFFSET TO PROTECT...|               null|      0.0|       0.0|\n",
      "|  Theft from Vehicle|2003|    1|  7|  10|     0|CARDERO ST / W GE...|           West End|490503.48|5459766.67|\n",
      "|  Theft from Vehicle|2003|    7| 27|   5|     0|    53XX CHAMBERS ST|Renfrew-Collingwood|496145.89|5453740.68|\n",
      "+--------------------+----+-----+---+----+------+--------------------+-------------------+---------+----------+\n",
      "only showing top 3 rows\n",
      "\n"
     ]
    }
   ],
   "source": [
    "(vancouver_df\n",
    " .fillna(0, subset=['HOUR'])\n",
    " .fillna(1, subset=['MINUTE'])\n",
    ").show(3)"
   ]
  },
  {
   "cell_type": "code",
   "execution_count": 26,
   "metadata": {
    "scrolled": true
   },
   "outputs": [
    {
     "name": "stdout",
     "output_type": "stream",
     "text": [
      "+--------------------+----+-----+---+----+------+--------------------+-------------------+---------+----------+\n",
      "|                TYPE|YEAR|MONTH|DAY|HOUR|MINUTE|       HUNDRED_BLOCK|      NEIGHBOURHOOD|        X|         Y|\n",
      "+--------------------+----+-----+---+----+------+--------------------+-------------------+---------+----------+\n",
      "|Offence Against a...|2003|    5| 17|null|  null|OFFSET TO PROTECT...|            Unknown|      0.0|       0.0|\n",
      "|  Theft from Vehicle|2003|    1|  7|  10|     0|CARDERO ST / W GE...|           West End|490503.48|5459766.67|\n",
      "|  Theft from Vehicle|2003|    7| 27|   5|     0|    53XX CHAMBERS ST|Renfrew-Collingwood|496145.89|5453740.68|\n",
      "+--------------------+----+-----+---+----+------+--------------------+-------------------+---------+----------+\n",
      "only showing top 3 rows\n",
      "\n"
     ]
    }
   ],
   "source": [
    "vancouver_df.fillna('Unknown', subset=['NEIGHBOURHOOD']).show(3)"
   ]
  },
  {
   "cell_type": "markdown",
   "metadata": {},
   "source": [
    "\n",
    "\n",
    "## Ejercicio 1"
   ]
  },
  {
   "cell_type": "markdown",
   "metadata": {},
   "source": [
    "\n",
    "\n",
    "Usando el siguiente dataframe"
   ]
  },
  {
   "cell_type": "code",
   "execution_count": null,
   "metadata": {},
   "outputs": [],
   "source": [
    "vancouver_df = spark.read.csv(DATA_PATH + 'crime_in_vancouver.csv', sep=',', header=True, inferSchema=True)"
   ]
  },
  {
   "cell_type": "markdown",
   "metadata": {},
   "source": [
    "\n",
    "\n",
    "- a. Determine que columna(s) tiene(n) el mayor número de nulos\n",
    "- b. Elimine los registros con mayor número de nulos\n",
    "- c.1 Complete las variables categóricas con nulos con el valor mayoritario\n",
    "- c.2 Complete las variables numericas con nulos con la mediana para esa columna. \n"
   ]
  },
  {
   "cell_type": "code",
   "execution_count": 47,
   "metadata": {},
   "outputs": [
    {
     "data": {
      "text/plain": [
       "[('TYPE', 0),\n",
       " ('YEAR', 0),\n",
       " ('MONTH', 0),\n",
       " ('DAY', 0),\n",
       " ('HOUR', 56113),\n",
       " ('MINUTE', 56113),\n",
       " ('HUNDRED_BLOCK', 13),\n",
       " ('NEIGHBOURHOOD', 58423),\n",
       " ('X', 0),\n",
       " ('Y', 0)]"
      ]
     },
     "execution_count": 47,
     "metadata": {},
     "output_type": "execute_result"
    }
   ],
   "source": [
    "list(zip(vancouver_df.columns, \n",
    "        list(vancouver_df.select([F.sum(F.col(c).isNull().cast('int')).alias(c) for c in vancouver_df.columns]).first())))"
   ]
  },
  {
   "cell_type": "code",
   "execution_count": 45,
   "metadata": {},
   "outputs": [
    {
     "data": {
      "text/plain": [
       "('NEIGHBOURHOOD', 58423)"
      ]
     },
     "execution_count": 45,
     "metadata": {},
     "output_type": "execute_result"
    }
   ],
   "source": [
    "max(zip(vancouver_df.columns, \n",
    "        list(vancouver_df.select([F.sum(F.col(c).isNull().cast('int')).alias(c) for c in vancouver_df.columns]).first())), \n",
    "    key=lambda x: x[1])\n"
   ]
  },
  {
   "cell_type": "code",
   "execution_count": 51,
   "metadata": {},
   "outputs": [],
   "source": [
    "max_nulls = (vancouver_df\n",
    " .withColumn('missing', \n",
    "             sum(vancouver_df[c].isNull().cast('int') for c in vancouver_df.columns))\n",
    " .select(F.max(F.col('missing')).alias('max_null_values'))\n",
    ").first()[0]"
   ]
  },
  {
   "cell_type": "code",
   "execution_count": 52,
   "metadata": {},
   "outputs": [],
   "source": [
    "# vancouver_df = vancouver_df.filter(F.col('missing') == 3)\n",
    "not_max_nulls = vancouver_df.dropna(thresh=len(vancouver_df.columns) - max_nulls + 1)"
   ]
  },
  {
   "cell_type": "code",
   "execution_count": 53,
   "metadata": {},
   "outputs": [
    {
     "data": {
      "text/plain": [
       "1"
      ]
     },
     "execution_count": 53,
     "metadata": {},
     "output_type": "execute_result"
    }
   ],
   "source": [
    "(not_max_nulls\n",
    " .withColumn('missing', \n",
    "             sum(not_max_nulls[c].isNull().cast('int') for c in not_max_nulls.columns))\n",
    " .select(F.max(F.col('missing')).alias('max_null_values'))\n",
    ").first()[0]"
   ]
  },
  {
   "cell_type": "code",
   "execution_count": 64,
   "metadata": {},
   "outputs": [
    {
     "name": "stdout",
     "output_type": "stream",
     "text": [
      "TYPE string\n",
      "INPUT VALUE: \n",
      "Theft from Vehicle\n",
      "YEAR int\n",
      "INPUT VALUE: \n",
      "2009.0\n",
      "MONTH int\n",
      "INPUT VALUE: \n",
      "7.0\n",
      "DAY int\n",
      "INPUT VALUE: \n",
      "15.0\n",
      "HOUR int\n",
      "INPUT VALUE: \n",
      "15.0\n",
      "MINUTE int\n",
      "INPUT VALUE: \n",
      "10.0\n",
      "HUNDRED_BLOCK string\n",
      "INPUT VALUE: \n",
      "OFFSET TO PROTECT PRIVACY\n",
      "NEIGHBOURHOOD string\n",
      "INPUT VALUE: \n",
      "Central Business District\n",
      "X double\n",
      "INPUT VALUE: \n",
      "491516.63\n",
      "Y double\n",
      "INPUT VALUE: \n",
      "5456851.2\n"
     ]
    }
   ],
   "source": [
    "for c, t in vancouver_df.dtypes:\n",
    "    print(c, t)\n",
    "    if t == 'string':\n",
    "        input_value = (vancouver_df\n",
    "                       .groupBy(F.col(c))\n",
    "                       .agg(F.count('*').alias('conteo'))\n",
    "                       .orderBy(F.col('conteo').desc())).first()[c]\n",
    "    else: \n",
    "        input_value = vancouver_df.approxQuantile(c, [.5], .001)[0]\n",
    "    print('INPUT VALUE: ')\n",
    "    print(input_value)\n",
    "    vancouver_df = vancouver_df.fillna(input_value, subset=[c])"
   ]
  },
  {
   "cell_type": "code",
   "execution_count": 60,
   "metadata": {},
   "outputs": [
    {
     "data": {
      "text/plain": [
       "491516.63"
      ]
     },
     "execution_count": 60,
     "metadata": {},
     "output_type": "execute_result"
    }
   ],
   "source": [
    "vancouver_df.approxQuantile('X', [.5], .001)[0]"
   ]
  },
  {
   "cell_type": "markdown",
   "metadata": {},
   "source": [
    "\n",
    "\n",
    "## Ejercicio 2\n",
    "\n",
    "Fuente de los datos: https://www.kaggle.com/abhinav89/telecom-customer\n",
    "\n",
    "1) Obtener un diccionario de las variables con el valor del porcentaje de nulos que contengan. Ordenarlo, de alguna forma aunque la salida no sea un diccionario, de mayor a menor porcentaje de nulos.\n",
    "\n",
    "2) Realiza el tratamiento que consideres para los datos nulos, en función del significado de negocio que consideres para cada caso y la cantidad de datos nulos que contenga la columna. Imputar al menos cinco columnas a modo de ejemplo, justificando los valores sustituidos a nivel de negocio.\n",
    "\n",
    "Hint: consideraremos que la columna no aporta valor si contiene más del 40% de sus valores nulos\n"
   ]
  },
  {
   "cell_type": "code",
   "execution_count": null,
   "metadata": {},
   "outputs": [],
   "source": [
    "df = spark.read.csv(DATA_PATH + 'telecom_customer_churn.csv', sep=',', header=True, inferSchema=True)"
   ]
  },
  {
   "cell_type": "code",
   "execution_count": null,
   "metadata": {
    "scrolled": true
   },
   "outputs": [],
   "source": [
    "df.count()"
   ]
  },
  {
   "cell_type": "markdown",
   "metadata": {},
   "source": [
    "\n",
    "\n",
    "1) Obtener un diccionario de las variables con el valor del porcentaje de nulos que contengan. Ordenarlo, de alguna forma aunque la salida no sea un diccionario, de mayor a menor porcentaje de nulos."
   ]
  },
  {
   "cell_type": "code",
   "execution_count": null,
   "metadata": {},
   "outputs": [],
   "source": [
    "# Respuesta aqui"
   ]
  },
  {
   "cell_type": "code",
   "execution_count": null,
   "metadata": {},
   "outputs": [],
   "source": [
    "# Respuesta aqui"
   ]
  },
  {
   "cell_type": "code",
   "execution_count": null,
   "metadata": {},
   "outputs": [],
   "source": [
    "# Respuesta aqui"
   ]
  },
  {
   "cell_type": "code",
   "execution_count": null,
   "metadata": {},
   "outputs": [],
   "source": [
    "# Respuesta aqui"
   ]
  },
  {
   "cell_type": "markdown",
   "metadata": {},
   "source": [
    "\n",
    "\n",
    "2) Realiza el tratamiento que consideres para los datos nulos, en función del significado de negocio que consideres para cada caso y la cantidad de datos nulos que contenga la columna. Imputar al menos cinco columnas a modo de ejemplo, justificando los valores sustituidos a nivel de negocio.\n",
    "\n",
    "Hint: consideraremos que la columna no aporta valor si contiene más del 40% de sus valores nulos"
   ]
  },
  {
   "cell_type": "code",
   "execution_count": null,
   "metadata": {},
   "outputs": [],
   "source": [
    "# Respuesta aqui"
   ]
  },
  {
   "cell_type": "code",
   "execution_count": null,
   "metadata": {},
   "outputs": [],
   "source": [
    "# Respuesta aqui"
   ]
  }
 ],
 "metadata": {
  "kernelspec": {
   "display_name": "Python 3",
   "language": "python",
   "name": "python3"
  },
  "language_info": {
   "codemirror_mode": {
    "name": "ipython",
    "version": 3
   },
   "file_extension": ".py",
   "mimetype": "text/x-python",
   "name": "python",
   "nbconvert_exporter": "python",
   "pygments_lexer": "ipython3",
   "version": "3.7.7"
  },
  "toc": {
   "base_numbering": 1,
   "nav_menu": {},
   "number_sections": false,
   "sideBar": true,
   "skip_h1_title": false,
   "title_cell": "Table of Contents",
   "title_sidebar": "Contents",
   "toc_cell": false,
   "toc_position": {},
   "toc_section_display": true,
   "toc_window_display": true
  }
 },
 "nbformat": 4,
 "nbformat_minor": 2
}
